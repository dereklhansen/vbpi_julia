{
 "cells": [
  {
   "cell_type": "markdown",
   "metadata": {},
   "source": [
    "# Implementation of Variational Bayes Phylogenetic Inference in Julia\n",
    "Derek Hansen\n",
    "\n",
    "December 5th, 2020\n",
    "\n",
    "Stats 701"
   ]
  },
  {
   "cell_type": "markdown",
   "metadata": {},
   "source": [
    "# Introduction\n",
    "\n",
    "In this report, I showcase an implementation of the Variational Bayes Phylogenetic Inference (VBPI) method of Zhang and Matsen (2018a) in the Julia language. \n",
    "\n",
    "There are two primary parts of this implementation. First, I implement a Subsplit Bayesian Network (SBN) tree structure and write functions which create a one-to-one correspondence with Phylogenetic trees. \n",
    "Building on this, I then develop the machinery to perform variational inference via sampling from SBNs. As done in Zhang and Matsen (2018a), this is done by parameterizing the probability of every possible clade-subsplit pair. These probabilities are then learned via maximizing the Evidence Lower Bound (ELBO) as standard in Variational Inference (Blei et al, 2018b). \n",
    "\n",
    "I showcase the feasibility of this approach on the same synthetic example as performed in Zhang and Matsen (2018a). In this case, the true posterior distribution to be learned is enumerated over all possible trees. For simplicity, we don't consider the distribution of branch lengths. I show that the variational distribution, despite having many fewer parameters than the full support of trees, is able to identify the trees which are most likely. However, the learned distribution does not seem to perform as well as Zhang and Matsen (2018a).\n",
    "\n",
    "Crucially, the data structures and functions are written to take advantage of the automatic differentiation provided by the Zygote Julia package (as part of the Flux machine learning package). In other words, there is no hand-differentiation at all in this work. "
   ]
  },
  {
   "cell_type": "markdown",
   "metadata": {},
   "source": [
    "# Summary of existing work"
   ]
  },
  {
   "cell_type": "markdown",
   "metadata": {},
   "source": [
    "### Inference on Phylogenetic Trees\n",
    "A phyologenetic tree has tree topology $\\tau$ and associated branch lengths $q$. We observe the traits of $M$ individuals/specices at $N$ difference sites. This is expressed as the data matrix $Y \\in \\Omega^{N \\times M}$, where $\\Omega$ is the\n",
    "    state-space of different possible traits. The $i$th column of $Y$, $Y_i$, are the observed traits in each individual at site $i$.\n",
    "    \n",
    "    \n",
    "Given a tree $(\\tau, q)$, we want to calculate the likelihood $\\mathcal P(Y | \\tau, q)$.\n",
    "     We usually assume that the traits are conditionally independent given the tree, i.e.\n",
    "     $$\n",
    "       \\mathcal P(Y | \\tau, q) = \\prod_{i=1}^M \\mathcal P(Y_i | \\tau, q)\n",
    "     $$"
   ]
  },
  {
   "cell_type": "markdown",
   "metadata": {},
   "source": [
    "Calculating the likelihood $\\mathcal P(Y_i | \\tau, q)$  efficiently is a well-studied problem. Hence, we take for granted in this report that once we have the tree, the likelihood can be calculated with reasonable efficiency. \n",
    "\n",
    "Equipping a prior  $\\mathcal P (\\tau, q)$, the posterior density is proportional to the product of the prior and likelihood:\n",
    "    $$\n",
    "      \\mathcal P (\\tau, q | Y) \\propto \\prod_{i=1}^M \\mathcal P(Y_i | \\tau, q) \\mathcal P(\\tau, q)\n",
    "    $$\n",
    "    \n",
    "We cannot directly evaluate nor sample from the posterior distribution of trees. Hence, methods such as Markov Chain Monte Carlo (MCMC) and Variational Inference (VI) are used to recover interesting features of the posterior (such as the mean and credible sets). "
   ]
  },
  {
   "cell_type": "markdown",
   "metadata": {},
   "source": [
    "### Subsplit Bayesian Networks\n",
    "\n",
    "\n",
    "A significant challenge to inference over phylogenetic trees is that the topology of the tree is a random variable. Zhang and Matsen (2018b) developed an equivalent representation of phylogenetic\n",
    "    trees called \"Subsplit Bayesian Networks\" (SBNs). An SBN has a fixed topology; specificially, it's a binary tree of depth N-1. Unlike a Phylogenetic tree, each node of an SBN is not an individual, but a representation of a split in the population. \n",
    "    \n",
    "In the next section, we will show how SBNs are defined mathematically, accompanied with Julia code I've written to implement these structures\n"
   ]
  },
  {
   "cell_type": "markdown",
   "metadata": {},
   "source": [
    "# Subsplit Bayesian Networks in Julia\n"
   ]
  },
  {
   "cell_type": "markdown",
   "metadata": {},
   "source": [
    "## Libraries used"
   ]
  },
  {
   "cell_type": "code",
   "execution_count": 1,
   "metadata": {},
   "outputs": [],
   "source": [
    "using Revise\n",
    "using PhyloTrees # I forked this to add labelled leaf nodes: https://github.com/dereklhansen/PhyloTrees.jl\n",
    "using Plots\n",
    "using StatsBase\n",
    "using Flux\n",
    "using Distributions"
   ]
  },
  {
   "cell_type": "code",
   "execution_count": 2,
   "metadata": {},
   "outputs": [
    {
     "name": "stderr",
     "output_type": "stream",
     "text": [
      "WARNING: using AbstractTrees.Tree in module Sbn conflicts with an existing identifier.\n"
     ]
    },
    {
     "data": {
      "text/plain": [
       "Main.Sbn"
      ]
     },
     "execution_count": 2,
     "metadata": {},
     "output_type": "execute_result"
    }
   ],
   "source": [
    "include(\"Sbn.jl\") # My code for implementing the SBN data structure (Sbn module)"
   ]
  },
  {
   "cell_type": "markdown",
   "metadata": {},
   "source": [
    "## An example Phylogenetic Tree"
   ]
  },
  {
   "cell_type": "code",
   "execution_count": 3,
   "metadata": {
    "scrolled": true
   },
   "outputs": [],
   "source": [
    "import .Sbn.plot_and_annotate\n",
    "\n",
    "example_tree = Tree();\n",
    "addnode!(example_tree);\n",
    "\n",
    "branch!(example_tree, 1, 1.0);\n",
    "branch!(example_tree, 2, 1.0);\n",
    "branch!(example_tree, 3, 1.0);\n",
    "branch!(example_tree, 3, 1.0);\n",
    "branch!(example_tree, 2, 1.0);\n",
    "branch!(example_tree, 1, 1.0);\n",
    "# branch!(example_tree, 1, rand())\n",
    "example_tree.node_to_label[7] = :D;\n",
    "example_tree.node_to_label[6] = :C;\n",
    "example_tree.node_to_label[5] = :B;\n",
    "example_tree.node_to_label[4] = :A;\n",
    "\n",
    "example_tree.label_to_node[:D] = 7;\n",
    "example_tree.label_to_node[:C] = 6;\n",
    "example_tree.label_to_node[:B] = 5;\n",
    "example_tree.label_to_node[:A] = 4;"
   ]
  },
  {
   "cell_type": "code",
   "execution_count": 4,
   "metadata": {
    "scrolled": false
   },
   "outputs": [
    {
     "data": {
      "image/svg+xml": [
       "<?xml version=\"1.0\" encoding=\"utf-8\"?>\n",
       "<svg xmlns=\"http://www.w3.org/2000/svg\" xmlns:xlink=\"http://www.w3.org/1999/xlink\" width=\"600\" height=\"400\" viewBox=\"0 0 2400 1600\">\n",
       "<defs>\n",
       "  <clipPath id=\"clip140\">\n",
       "    <rect x=\"0\" y=\"0\" width=\"2400\" height=\"1600\"/>\n",
       "  </clipPath>\n",
       "</defs>\n",
       "<path clip-path=\"url(#clip140)\" d=\"\n",
       "M0 1600 L2400 1600 L2400 0 L0 0  Z\n",
       "  \" fill=\"#ffffff\" fill-rule=\"evenodd\" fill-opacity=\"1\"/>\n",
       "<defs>\n",
       "  <clipPath id=\"clip141\">\n",
       "    <rect x=\"480\" y=\"0\" width=\"1681\" height=\"1600\"/>\n",
       "  </clipPath>\n",
       "</defs>\n",
       "<path clip-path=\"url(#clip140)\" d=\"\n",
       "M148.334 1486.45 L2352.76 1486.45 L2352.76 47.2441 L148.334 47.2441  Z\n",
       "  \" fill=\"#ffffff\" fill-rule=\"evenodd\" fill-opacity=\"1\"/>\n",
       "<defs>\n",
       "  <clipPath id=\"clip142\">\n",
       "    <rect x=\"148\" y=\"47\" width=\"2205\" height=\"1440\"/>\n",
       "  </clipPath>\n",
       "</defs>\n",
       "<polyline clip-path=\"url(#clip142)\" style=\"stroke:#000000; stroke-width:2; stroke-opacity:0.1; fill:none\" points=\"\n",
       "  210.724,1486.45 210.724,47.2441 \n",
       "  \"/>\n",
       "<polyline clip-path=\"url(#clip142)\" style=\"stroke:#000000; stroke-width:2; stroke-opacity:0.1; fill:none\" points=\"\n",
       "  730.634,1486.45 730.634,47.2441 \n",
       "  \"/>\n",
       "<polyline clip-path=\"url(#clip142)\" style=\"stroke:#000000; stroke-width:2; stroke-opacity:0.1; fill:none\" points=\"\n",
       "  1250.55,1486.45 1250.55,47.2441 \n",
       "  \"/>\n",
       "<polyline clip-path=\"url(#clip142)\" style=\"stroke:#000000; stroke-width:2; stroke-opacity:0.1; fill:none\" points=\"\n",
       "  1770.46,1486.45 1770.46,47.2441 \n",
       "  \"/>\n",
       "<polyline clip-path=\"url(#clip142)\" style=\"stroke:#000000; stroke-width:2; stroke-opacity:0.1; fill:none\" points=\"\n",
       "  2290.37,1486.45 2290.37,47.2441 \n",
       "  \"/>\n",
       "<polyline clip-path=\"url(#clip140)\" style=\"stroke:#000000; stroke-width:4; stroke-opacity:1; fill:none\" points=\"\n",
       "  148.334,1486.45 2352.76,1486.45 \n",
       "  \"/>\n",
       "<polyline clip-path=\"url(#clip140)\" style=\"stroke:#000000; stroke-width:4; stroke-opacity:1; fill:none\" points=\"\n",
       "  210.724,1486.45 210.724,1469.18 \n",
       "  \"/>\n",
       "<polyline clip-path=\"url(#clip140)\" style=\"stroke:#000000; stroke-width:4; stroke-opacity:1; fill:none\" points=\"\n",
       "  730.634,1486.45 730.634,1469.18 \n",
       "  \"/>\n",
       "<polyline clip-path=\"url(#clip140)\" style=\"stroke:#000000; stroke-width:4; stroke-opacity:1; fill:none\" points=\"\n",
       "  1250.55,1486.45 1250.55,1469.18 \n",
       "  \"/>\n",
       "<polyline clip-path=\"url(#clip140)\" style=\"stroke:#000000; stroke-width:4; stroke-opacity:1; fill:none\" points=\"\n",
       "  1770.46,1486.45 1770.46,1469.18 \n",
       "  \"/>\n",
       "<polyline clip-path=\"url(#clip140)\" style=\"stroke:#000000; stroke-width:4; stroke-opacity:1; fill:none\" points=\"\n",
       "  2290.37,1486.45 2290.37,1469.18 \n",
       "  \"/>\n",
       "<path clip-path=\"url(#clip140)\" d=\"M 0 0 M178.733 1515.64 Q175.122 1515.64 173.293 1519.2 Q171.488 1522.75 171.488 1529.87 Q171.488 1536.98 173.293 1540.55 Q175.122 1544.09 178.733 1544.09 Q182.367 1544.09 184.173 1540.55 Q186.002 1536.98 186.002 1529.87 Q186.002 1522.75 184.173 1519.2 Q182.367 1515.64 178.733 1515.64 M178.733 1511.93 Q184.543 1511.93 187.599 1516.54 Q190.677 1521.12 190.677 1529.87 Q190.677 1538.6 187.599 1543.21 Q184.543 1547.79 178.733 1547.79 Q172.923 1547.79 169.844 1543.21 Q166.789 1538.6 166.789 1529.87 Q166.789 1521.12 169.844 1516.54 Q172.923 1511.93 178.733 1511.93 Z\" fill=\"#000000\" fill-rule=\"evenodd\" fill-opacity=\"1\" /><path clip-path=\"url(#clip140)\" d=\"M 0 0 M195.747 1541.24 L200.631 1541.24 L200.631 1547.12 L195.747 1547.12 L195.747 1541.24 Z\" fill=\"#000000\" fill-rule=\"evenodd\" fill-opacity=\"1\" /><path clip-path=\"url(#clip140)\" d=\"M 0 0 M215.701 1515.64 Q212.089 1515.64 210.261 1519.2 Q208.455 1522.75 208.455 1529.87 Q208.455 1536.98 210.261 1540.55 Q212.089 1544.09 215.701 1544.09 Q219.335 1544.09 221.14 1540.55 Q222.969 1536.98 222.969 1529.87 Q222.969 1522.75 221.14 1519.2 Q219.335 1515.64 215.701 1515.64 M215.701 1511.93 Q221.511 1511.93 224.566 1516.54 Q227.645 1521.12 227.645 1529.87 Q227.645 1538.6 224.566 1543.21 Q221.511 1547.79 215.701 1547.79 Q209.89 1547.79 206.812 1543.21 Q203.756 1538.6 203.756 1529.87 Q203.756 1521.12 206.812 1516.54 Q209.89 1511.93 215.701 1511.93 Z\" fill=\"#000000\" fill-rule=\"evenodd\" fill-opacity=\"1\" /><path clip-path=\"url(#clip140)\" d=\"M 0 0 M242.714 1515.64 Q239.103 1515.64 237.274 1519.2 Q235.469 1522.75 235.469 1529.87 Q235.469 1536.98 237.274 1540.55 Q239.103 1544.09 242.714 1544.09 Q246.348 1544.09 248.154 1540.55 Q249.983 1536.98 249.983 1529.87 Q249.983 1522.75 248.154 1519.2 Q246.348 1515.64 242.714 1515.64 M242.714 1511.93 Q248.524 1511.93 251.58 1516.54 Q254.659 1521.12 254.659 1529.87 Q254.659 1538.6 251.58 1543.21 Q248.524 1547.79 242.714 1547.79 Q236.904 1547.79 233.825 1543.21 Q230.77 1538.6 230.77 1529.87 Q230.77 1521.12 233.825 1516.54 Q236.904 1511.93 242.714 1511.93 Z\" fill=\"#000000\" fill-rule=\"evenodd\" fill-opacity=\"1\" /><path clip-path=\"url(#clip140)\" d=\"M 0 0 M699.94 1515.64 Q696.329 1515.64 694.5 1519.2 Q692.695 1522.75 692.695 1529.87 Q692.695 1536.98 694.5 1540.55 Q696.329 1544.09 699.94 1544.09 Q703.574 1544.09 705.38 1540.55 Q707.209 1536.98 707.209 1529.87 Q707.209 1522.75 705.38 1519.2 Q703.574 1515.64 699.94 1515.64 M699.94 1511.93 Q705.75 1511.93 708.806 1516.54 Q711.885 1521.12 711.885 1529.87 Q711.885 1538.6 708.806 1543.21 Q705.75 1547.79 699.94 1547.79 Q694.13 1547.79 691.051 1543.21 Q687.996 1538.6 687.996 1529.87 Q687.996 1521.12 691.051 1516.54 Q694.13 1511.93 699.94 1511.93 Z\" fill=\"#000000\" fill-rule=\"evenodd\" fill-opacity=\"1\" /><path clip-path=\"url(#clip140)\" d=\"M 0 0 M716.954 1541.24 L721.838 1541.24 L721.838 1547.12 L716.954 1547.12 L716.954 1541.24 Z\" fill=\"#000000\" fill-rule=\"evenodd\" fill-opacity=\"1\" /><path clip-path=\"url(#clip140)\" d=\"M 0 0 M730.935 1543.18 L747.255 1543.18 L747.255 1547.12 L725.31 1547.12 L725.31 1543.18 Q727.972 1540.43 732.556 1535.8 Q737.162 1531.15 738.343 1529.81 Q740.588 1527.28 741.468 1525.55 Q742.37 1523.79 742.37 1522.1 Q742.37 1519.34 740.426 1517.61 Q738.505 1515.87 735.403 1515.87 Q733.204 1515.87 730.75 1516.63 Q728.32 1517.4 725.542 1518.95 L725.542 1514.23 Q728.366 1513.09 730.82 1512.51 Q733.273 1511.93 735.31 1511.93 Q740.681 1511.93 743.875 1514.62 Q747.07 1517.31 747.07 1521.8 Q747.07 1523.93 746.259 1525.85 Q745.472 1527.74 743.366 1530.34 Q742.787 1531.01 739.685 1534.23 Q736.583 1537.42 730.935 1543.18 Z\" fill=\"#000000\" fill-rule=\"evenodd\" fill-opacity=\"1\" /><path clip-path=\"url(#clip140)\" d=\"M 0 0 M752.37 1512.56 L770.727 1512.56 L770.727 1516.5 L756.653 1516.5 L756.653 1524.97 Q757.671 1524.62 758.69 1524.46 Q759.708 1524.27 760.727 1524.27 Q766.514 1524.27 769.893 1527.44 Q773.273 1530.62 773.273 1536.03 Q773.273 1541.61 769.801 1544.71 Q766.329 1547.79 760.009 1547.79 Q757.833 1547.79 755.565 1547.42 Q753.319 1547.05 750.912 1546.31 L750.912 1541.61 Q752.995 1542.74 755.218 1543.3 Q757.44 1543.86 759.917 1543.86 Q763.921 1543.86 766.259 1541.75 Q768.597 1539.64 768.597 1536.03 Q768.597 1532.42 766.259 1530.31 Q763.921 1528.21 759.917 1528.21 Q758.042 1528.21 756.167 1528.62 Q754.315 1529.04 752.37 1529.92 L752.37 1512.56 Z\" fill=\"#000000\" fill-rule=\"evenodd\" fill-opacity=\"1\" /><path clip-path=\"url(#clip140)\" d=\"M 0 0 M1219.05 1515.64 Q1215.44 1515.64 1213.61 1519.2 Q1211.81 1522.75 1211.81 1529.87 Q1211.81 1536.98 1213.61 1540.55 Q1215.44 1544.09 1219.05 1544.09 Q1222.69 1544.09 1224.49 1540.55 Q1226.32 1536.98 1226.32 1529.87 Q1226.32 1522.75 1224.49 1519.2 Q1222.69 1515.64 1219.05 1515.64 M1219.05 1511.93 Q1224.86 1511.93 1227.92 1516.54 Q1231 1521.12 1231 1529.87 Q1231 1538.6 1227.92 1543.21 Q1224.86 1547.79 1219.05 1547.79 Q1213.24 1547.79 1210.16 1543.21 Q1207.11 1538.6 1207.11 1529.87 Q1207.11 1521.12 1210.16 1516.54 Q1213.24 1511.93 1219.05 1511.93 Z\" fill=\"#000000\" fill-rule=\"evenodd\" fill-opacity=\"1\" /><path clip-path=\"url(#clip140)\" d=\"M 0 0 M1236.07 1541.24 L1240.95 1541.24 L1240.95 1547.12 L1236.07 1547.12 L1236.07 1541.24 Z\" fill=\"#000000\" fill-rule=\"evenodd\" fill-opacity=\"1\" /><path clip-path=\"url(#clip140)\" d=\"M 0 0 M1246.07 1512.56 L1264.42 1512.56 L1264.42 1516.5 L1250.35 1516.5 L1250.35 1524.97 Q1251.37 1524.62 1252.39 1524.46 Q1253.4 1524.27 1254.42 1524.27 Q1260.21 1524.27 1263.59 1527.44 Q1266.97 1530.62 1266.97 1536.03 Q1266.97 1541.61 1263.5 1544.71 Q1260.02 1547.79 1253.7 1547.79 Q1251.53 1547.79 1249.26 1547.42 Q1247.02 1547.05 1244.61 1546.31 L1244.61 1541.61 Q1246.69 1542.74 1248.91 1543.3 Q1251.14 1543.86 1253.61 1543.86 Q1257.62 1543.86 1259.95 1541.75 Q1262.29 1539.64 1262.29 1536.03 Q1262.29 1532.42 1259.95 1530.31 Q1257.62 1528.21 1253.61 1528.21 Q1251.74 1528.21 1249.86 1528.62 Q1248.01 1529.04 1246.07 1529.92 L1246.07 1512.56 Z\" fill=\"#000000\" fill-rule=\"evenodd\" fill-opacity=\"1\" /><path clip-path=\"url(#clip140)\" d=\"M 0 0 M1282.04 1515.64 Q1278.43 1515.64 1276.6 1519.2 Q1274.79 1522.75 1274.79 1529.87 Q1274.79 1536.98 1276.6 1540.55 Q1278.43 1544.09 1282.04 1544.09 Q1285.67 1544.09 1287.48 1540.55 Q1289.31 1536.98 1289.31 1529.87 Q1289.31 1522.75 1287.48 1519.2 Q1285.67 1515.64 1282.04 1515.64 M1282.04 1511.93 Q1287.85 1511.93 1290.9 1516.54 Q1293.98 1521.12 1293.98 1529.87 Q1293.98 1538.6 1290.9 1543.21 Q1287.85 1547.79 1282.04 1547.79 Q1276.23 1547.79 1273.15 1543.21 Q1270.09 1538.6 1270.09 1529.87 Q1270.09 1521.12 1273.15 1516.54 Q1276.23 1511.93 1282.04 1511.93 Z\" fill=\"#000000\" fill-rule=\"evenodd\" fill-opacity=\"1\" /><path clip-path=\"url(#clip140)\" d=\"M 0 0 M1739.41 1515.64 Q1735.8 1515.64 1733.97 1519.2 Q1732.17 1522.75 1732.17 1529.87 Q1732.17 1536.98 1733.97 1540.55 Q1735.8 1544.09 1739.41 1544.09 Q1743.05 1544.09 1744.85 1540.55 Q1746.68 1536.98 1746.68 1529.87 Q1746.68 1522.75 1744.85 1519.2 Q1743.05 1515.64 1739.41 1515.64 M1739.41 1511.93 Q1745.22 1511.93 1748.28 1516.54 Q1751.36 1521.12 1751.36 1529.87 Q1751.36 1538.6 1748.28 1543.21 Q1745.22 1547.79 1739.41 1547.79 Q1733.6 1547.79 1730.53 1543.21 Q1727.47 1538.6 1727.47 1529.87 Q1727.47 1521.12 1730.53 1516.54 Q1733.6 1511.93 1739.41 1511.93 Z\" fill=\"#000000\" fill-rule=\"evenodd\" fill-opacity=\"1\" /><path clip-path=\"url(#clip140)\" d=\"M 0 0 M1756.43 1541.24 L1761.31 1541.24 L1761.31 1547.12 L1756.43 1547.12 L1756.43 1541.24 Z\" fill=\"#000000\" fill-rule=\"evenodd\" fill-opacity=\"1\" /><path clip-path=\"url(#clip140)\" d=\"M 0 0 M1765.2 1512.56 L1787.42 1512.56 L1787.42 1514.55 L1774.88 1547.12 L1769.99 1547.12 L1781.8 1516.5 L1765.2 1516.5 L1765.2 1512.56 Z\" fill=\"#000000\" fill-rule=\"evenodd\" fill-opacity=\"1\" /><path clip-path=\"url(#clip140)\" d=\"M 0 0 M1792.54 1512.56 L1810.9 1512.56 L1810.9 1516.5 L1796.82 1516.5 L1796.82 1524.97 Q1797.84 1524.62 1798.86 1524.46 Q1799.88 1524.27 1800.9 1524.27 Q1806.68 1524.27 1810.06 1527.44 Q1813.44 1530.62 1813.44 1536.03 Q1813.44 1541.61 1809.97 1544.71 Q1806.5 1547.79 1800.18 1547.79 Q1798 1547.79 1795.73 1547.42 Q1793.49 1547.05 1791.08 1546.31 L1791.08 1541.61 Q1793.16 1542.74 1795.39 1543.3 Q1797.61 1543.86 1800.09 1543.86 Q1804.09 1543.86 1806.43 1541.75 Q1808.77 1539.64 1808.77 1536.03 Q1808.77 1532.42 1806.43 1530.31 Q1804.09 1528.21 1800.09 1528.21 Q1798.21 1528.21 1796.34 1528.62 Q1794.48 1529.04 1792.54 1529.92 L1792.54 1512.56 Z\" fill=\"#000000\" fill-rule=\"evenodd\" fill-opacity=\"1\" /><path clip-path=\"url(#clip140)\" d=\"M 0 0 M2248.76 1543.18 L2256.4 1543.18 L2256.4 1516.82 L2248.09 1518.49 L2248.09 1514.23 L2256.35 1512.56 L2261.03 1512.56 L2261.03 1543.18 L2268.67 1543.18 L2268.67 1547.12 L2248.76 1547.12 L2248.76 1543.18 Z\" fill=\"#000000\" fill-rule=\"evenodd\" fill-opacity=\"1\" /><path clip-path=\"url(#clip140)\" d=\"M 0 0 M2273.73 1541.24 L2278.62 1541.24 L2278.62 1547.12 L2273.73 1547.12 L2273.73 1541.24 Z\" fill=\"#000000\" fill-rule=\"evenodd\" fill-opacity=\"1\" /><path clip-path=\"url(#clip140)\" d=\"M 0 0 M2293.69 1515.64 Q2290.08 1515.64 2288.25 1519.2 Q2286.44 1522.75 2286.44 1529.87 Q2286.44 1536.98 2288.25 1540.55 Q2290.08 1544.09 2293.69 1544.09 Q2297.32 1544.09 2299.13 1540.55 Q2300.96 1536.98 2300.96 1529.87 Q2300.96 1522.75 2299.13 1519.2 Q2297.32 1515.64 2293.69 1515.64 M2293.69 1511.93 Q2299.5 1511.93 2302.55 1516.54 Q2305.63 1521.12 2305.63 1529.87 Q2305.63 1538.6 2302.55 1543.21 Q2299.5 1547.79 2293.69 1547.79 Q2287.88 1547.79 2284.8 1543.21 Q2281.74 1538.6 2281.74 1529.87 Q2281.74 1521.12 2284.8 1516.54 Q2287.88 1511.93 2293.69 1511.93 Z\" fill=\"#000000\" fill-rule=\"evenodd\" fill-opacity=\"1\" /><path clip-path=\"url(#clip140)\" d=\"M 0 0 M2320.7 1515.64 Q2317.09 1515.64 2315.26 1519.2 Q2313.46 1522.75 2313.46 1529.87 Q2313.46 1536.98 2315.26 1540.55 Q2317.09 1544.09 2320.7 1544.09 Q2324.34 1544.09 2326.14 1540.55 Q2327.97 1536.98 2327.97 1529.87 Q2327.97 1522.75 2326.14 1519.2 Q2324.34 1515.64 2320.7 1515.64 M2320.7 1511.93 Q2326.51 1511.93 2329.57 1516.54 Q2332.65 1521.12 2332.65 1529.87 Q2332.65 1538.6 2329.57 1543.21 Q2326.51 1547.79 2320.7 1547.79 Q2314.89 1547.79 2311.81 1543.21 Q2308.76 1538.6 2308.76 1529.87 Q2308.76 1521.12 2311.81 1516.54 Q2314.89 1511.93 2320.7 1511.93 Z\" fill=\"#000000\" fill-rule=\"evenodd\" fill-opacity=\"1\" /><path clip-path=\"url(#clip140)\" d=\"M 0 0 M65.0198 1295.74 Q61.4087 1295.74 59.58 1299.31 Q57.7745 1302.85 57.7745 1309.98 Q57.7745 1317.08 59.58 1320.65 Q61.4087 1324.19 65.0198 1324.19 Q68.6541 1324.19 70.4596 1320.65 Q72.2883 1317.08 72.2883 1309.98 Q72.2883 1302.85 70.4596 1299.31 Q68.6541 1295.74 65.0198 1295.74 M65.0198 1292.04 Q70.83 1292.04 73.8855 1296.64 Q76.9642 1301.23 76.9642 1309.98 Q76.9642 1318.7 73.8855 1323.31 Q70.83 1327.89 65.0198 1327.89 Q59.2097 1327.89 56.131 1323.31 Q53.0754 1318.7 53.0754 1309.98 Q53.0754 1301.23 56.131 1296.64 Q59.2097 1292.04 65.0198 1292.04 Z\" fill=\"#000000\" fill-rule=\"evenodd\" fill-opacity=\"1\" /><path clip-path=\"url(#clip140)\" d=\"M 0 0 M82.0336 1321.34 L86.9179 1321.34 L86.9179 1327.22 L82.0336 1327.22 L82.0336 1321.34 Z\" fill=\"#000000\" fill-rule=\"evenodd\" fill-opacity=\"1\" /><path clip-path=\"url(#clip140)\" d=\"M 0 0 M96.015 1323.29 L112.334 1323.29 L112.334 1327.22 L90.3901 1327.22 L90.3901 1323.29 Q93.0521 1320.53 97.6354 1315.9 Q102.242 1311.25 103.422 1309.91 Q105.668 1307.38 106.547 1305.65 Q107.45 1303.89 107.45 1302.2 Q107.45 1299.44 105.506 1297.71 Q103.584 1295.97 100.483 1295.97 Q98.2835 1295.97 95.8298 1296.74 Q93.3993 1297.5 90.6215 1299.05 L90.6215 1294.33 Q93.4456 1293.19 95.8993 1292.62 Q98.353 1292.04 100.39 1292.04 Q105.76 1292.04 108.955 1294.72 Q112.149 1297.41 112.149 1301.9 Q112.149 1304.03 111.339 1305.95 Q110.552 1307.85 108.446 1310.44 Q107.867 1311.11 104.765 1314.33 Q101.663 1317.52 96.015 1323.29 Z\" fill=\"#000000\" fill-rule=\"evenodd\" fill-opacity=\"1\" /><path clip-path=\"url(#clip140)\" d=\"M 0 0 M64.0708 1114.71 Q60.4597 1114.71 58.631 1118.27 Q56.8254 1121.81 56.8254 1128.94 Q56.8254 1136.05 58.631 1139.62 Q60.4597 1143.16 64.0708 1143.16 Q67.705 1143.16 69.5105 1139.62 Q71.3392 1136.05 71.3392 1128.94 Q71.3392 1121.81 69.5105 1118.27 Q67.705 1114.71 64.0708 1114.71 M64.0708 1111 Q69.8809 1111 72.9365 1115.61 Q76.0151 1120.19 76.0151 1128.94 Q76.0151 1137.67 72.9365 1142.28 Q69.8809 1146.86 64.0708 1146.86 Q58.2606 1146.86 55.1819 1142.28 Q52.1264 1137.67 52.1264 1128.94 Q52.1264 1120.19 55.1819 1115.61 Q58.2606 1111 64.0708 1111 Z\" fill=\"#000000\" fill-rule=\"evenodd\" fill-opacity=\"1\" /><path clip-path=\"url(#clip140)\" d=\"M 0 0 M81.0846 1140.31 L85.9688 1140.31 L85.9688 1146.19 L81.0846 1146.19 L81.0846 1140.31 Z\" fill=\"#000000\" fill-rule=\"evenodd\" fill-opacity=\"1\" /><path clip-path=\"url(#clip140)\" d=\"M 0 0 M105.205 1127.56 Q108.561 1128.27 110.436 1130.54 Q112.334 1132.81 112.334 1136.14 Q112.334 1141.26 108.816 1144.06 Q105.297 1146.86 98.8159 1146.86 Q96.64 1146.86 94.3252 1146.42 Q92.0336 1146 89.5799 1145.15 L89.5799 1140.63 Q91.5243 1141.77 93.8391 1142.35 Q96.1539 1142.93 98.6771 1142.93 Q103.075 1142.93 105.367 1141.19 Q107.682 1139.45 107.682 1136.14 Q107.682 1133.09 105.529 1131.38 Q103.399 1129.64 99.5798 1129.64 L95.5521 1129.64 L95.5521 1125.8 L99.765 1125.8 Q103.214 1125.8 105.043 1124.43 Q106.871 1123.04 106.871 1120.45 Q106.871 1117.79 104.973 1116.38 Q103.098 1114.94 99.5798 1114.94 Q97.6585 1114.94 95.4595 1115.36 Q93.2604 1115.77 90.6215 1116.65 L90.6215 1112.49 Q93.2836 1111.75 95.5984 1111.38 Q97.9363 1111 99.9965 1111 Q105.321 1111 108.422 1113.44 Q111.524 1115.84 111.524 1119.96 Q111.524 1122.83 109.881 1124.82 Q108.237 1126.79 105.205 1127.56 Z\" fill=\"#000000\" fill-rule=\"evenodd\" fill-opacity=\"1\" /><path clip-path=\"url(#clip140)\" d=\"M 0 0 M62.9365 933.677 Q59.3254 933.677 57.4967 937.241 Q55.6912 940.783 55.6912 947.913 Q55.6912 955.019 57.4967 958.584 Q59.3254 962.126 62.9365 962.126 Q66.5707 962.126 68.3763 958.584 Q70.205 955.019 70.205 947.913 Q70.205 940.783 68.3763 937.241 Q66.5707 933.677 62.9365 933.677 M62.9365 929.973 Q68.7467 929.973 71.8022 934.579 Q74.8809 939.163 74.8809 947.913 Q74.8809 956.639 71.8022 961.246 Q68.7467 965.829 62.9365 965.829 Q57.1264 965.829 54.0477 961.246 Q50.9921 956.639 50.9921 947.913 Q50.9921 939.163 54.0477 934.579 Q57.1264 929.973 62.9365 929.973 Z\" fill=\"#000000\" fill-rule=\"evenodd\" fill-opacity=\"1\" /><path clip-path=\"url(#clip140)\" d=\"M 0 0 M79.9503 959.278 L84.8345 959.278 L84.8345 965.158 L79.9503 965.158 L79.9503 959.278 Z\" fill=\"#000000\" fill-rule=\"evenodd\" fill-opacity=\"1\" /><path clip-path=\"url(#clip140)\" d=\"M 0 0 M102.751 934.672 L90.9456 953.121 L102.751 953.121 L102.751 934.672 M101.524 930.598 L107.404 930.598 L107.404 953.121 L112.334 953.121 L112.334 957.01 L107.404 957.01 L107.404 965.158 L102.751 965.158 L102.751 957.01 L87.1493 957.01 L87.1493 952.496 L101.524 930.598 Z\" fill=\"#000000\" fill-rule=\"evenodd\" fill-opacity=\"1\" /><path clip-path=\"url(#clip140)\" d=\"M 0 0 M64.418 752.645 Q60.8069 752.645 58.9782 756.209 Q57.1726 759.751 57.1726 766.881 Q57.1726 773.987 58.9782 777.552 Q60.8069 781.094 64.418 781.094 Q68.0522 781.094 69.8578 777.552 Q71.6865 773.987 71.6865 766.881 Q71.6865 759.751 69.8578 756.209 Q68.0522 752.645 64.418 752.645 M64.418 748.941 Q70.2281 748.941 73.2837 753.547 Q76.3624 758.131 76.3624 766.881 Q76.3624 775.608 73.2837 780.214 Q70.2281 784.797 64.418 784.797 Q58.6078 784.797 55.5291 780.214 Q52.4736 775.608 52.4736 766.881 Q52.4736 758.131 55.5291 753.547 Q58.6078 748.941 64.418 748.941 Z\" fill=\"#000000\" fill-rule=\"evenodd\" fill-opacity=\"1\" /><path clip-path=\"url(#clip140)\" d=\"M 0 0 M81.4318 778.246 L86.316 778.246 L86.316 784.126 L81.4318 784.126 L81.4318 778.246 Z\" fill=\"#000000\" fill-rule=\"evenodd\" fill-opacity=\"1\" /><path clip-path=\"url(#clip140)\" d=\"M 0 0 M91.4317 749.566 L109.788 749.566 L109.788 753.501 L95.7141 753.501 L95.7141 761.973 Q96.7326 761.626 97.7511 761.464 Q98.7696 761.279 99.7882 761.279 Q105.575 761.279 108.955 764.45 Q112.334 767.621 112.334 773.038 Q112.334 778.617 108.862 781.719 Q105.39 784.797 99.0706 784.797 Q96.8947 784.797 94.6262 784.427 Q92.3808 784.057 89.9734 783.316 L89.9734 778.617 Q92.0567 779.751 94.2789 780.307 Q96.5011 780.862 98.978 780.862 Q102.983 780.862 105.321 778.756 Q107.658 776.649 107.658 773.038 Q107.658 769.427 105.321 767.321 Q102.983 765.214 98.978 765.214 Q97.103 765.214 95.228 765.631 Q93.3762 766.047 91.4317 766.927 L91.4317 749.566 Z\" fill=\"#000000\" fill-rule=\"evenodd\" fill-opacity=\"1\" /><path clip-path=\"url(#clip140)\" d=\"M 0 0 M63.2606 571.613 Q59.6495 571.613 57.8208 575.178 Q56.0152 578.719 56.0152 585.849 Q56.0152 592.955 57.8208 596.52 Q59.6495 600.062 63.2606 600.062 Q66.8948 600.062 68.7004 596.52 Q70.5291 592.955 70.5291 585.849 Q70.5291 578.719 68.7004 575.178 Q66.8948 571.613 63.2606 571.613 M63.2606 567.909 Q69.0707 567.909 72.1263 572.516 Q75.205 577.099 75.205 585.849 Q75.205 594.576 72.1263 599.182 Q69.0707 603.765 63.2606 603.765 Q57.4504 603.765 54.3717 599.182 Q51.3162 594.576 51.3162 585.849 Q51.3162 577.099 54.3717 572.516 Q57.4504 567.909 63.2606 567.909 Z\" fill=\"#000000\" fill-rule=\"evenodd\" fill-opacity=\"1\" /><path clip-path=\"url(#clip140)\" d=\"M 0 0 M80.2744 597.214 L85.1586 597.214 L85.1586 603.094 L80.2744 603.094 L80.2744 597.214 Z\" fill=\"#000000\" fill-rule=\"evenodd\" fill-opacity=\"1\" /><path clip-path=\"url(#clip140)\" d=\"M 0 0 M100.807 583.951 Q97.6585 583.951 95.8067 586.103 Q93.978 588.256 93.978 592.006 Q93.978 595.733 95.8067 597.909 Q97.6585 600.062 100.807 600.062 Q103.955 600.062 105.783 597.909 Q107.635 595.733 107.635 592.006 Q107.635 588.256 105.783 586.103 Q103.955 583.951 100.807 583.951 M110.089 569.298 L110.089 573.557 Q108.33 572.724 106.524 572.284 Q104.742 571.844 102.983 571.844 Q98.353 571.844 95.8993 574.969 Q93.4688 578.094 93.1215 584.414 Q94.4873 582.4 96.5474 581.335 Q98.6076 580.247 101.084 580.247 Q106.293 580.247 109.302 583.418 Q112.334 586.566 112.334 592.006 Q112.334 597.33 109.186 600.548 Q106.038 603.765 100.807 603.765 Q94.8113 603.765 91.6401 599.182 Q88.4688 594.576 88.4688 585.849 Q88.4688 577.654 92.3576 572.793 Q96.2465 567.909 102.797 567.909 Q104.557 567.909 106.339 568.256 Q108.145 568.604 110.089 569.298 Z\" fill=\"#000000\" fill-rule=\"evenodd\" fill-opacity=\"1\" /><path clip-path=\"url(#clip140)\" d=\"M 0 0 M64.3254 390.581 Q60.7143 390.581 58.8856 394.146 Q57.0801 397.687 57.0801 404.817 Q57.0801 411.923 58.8856 415.488 Q60.7143 419.03 64.3254 419.03 Q67.9596 419.03 69.7652 415.488 Q71.5939 411.923 71.5939 404.817 Q71.5939 397.687 69.7652 394.146 Q67.9596 390.581 64.3254 390.581 M64.3254 386.877 Q70.1355 386.877 73.1911 391.484 Q76.2698 396.067 76.2698 404.817 Q76.2698 413.544 73.1911 418.15 Q70.1355 422.733 64.3254 422.733 Q58.5152 422.733 55.4365 418.15 Q52.381 413.544 52.381 404.817 Q52.381 396.067 55.4365 391.484 Q58.5152 386.877 64.3254 386.877 Z\" fill=\"#000000\" fill-rule=\"evenodd\" fill-opacity=\"1\" /><path clip-path=\"url(#clip140)\" d=\"M 0 0 M81.3392 416.183 L86.2234 416.183 L86.2234 422.062 L81.3392 422.062 L81.3392 416.183 Z\" fill=\"#000000\" fill-rule=\"evenodd\" fill-opacity=\"1\" /><path clip-path=\"url(#clip140)\" d=\"M 0 0 M90.1123 387.502 L112.334 387.502 L112.334 389.493 L99.7882 422.062 L94.9039 422.062 L106.709 391.437 L90.1123 391.437 L90.1123 387.502 Z\" fill=\"#000000\" fill-rule=\"evenodd\" fill-opacity=\"1\" /><path clip-path=\"url(#clip140)\" d=\"M 0 0 M63.5152 209.549 Q59.9041 209.549 58.0754 213.114 Q56.2699 216.655 56.2699 223.785 Q56.2699 230.891 58.0754 234.456 Q59.9041 237.998 63.5152 237.998 Q67.1494 237.998 68.955 234.456 Q70.7837 230.891 70.7837 223.785 Q70.7837 216.655 68.955 213.114 Q67.1494 209.549 63.5152 209.549 M63.5152 205.845 Q69.3254 205.845 72.3809 210.452 Q75.4596 215.035 75.4596 223.785 Q75.4596 232.512 72.3809 237.118 Q69.3254 241.702 63.5152 241.702 Q57.7051 241.702 54.6264 237.118 Q51.5708 232.512 51.5708 223.785 Q51.5708 215.035 54.6264 210.452 Q57.7051 205.845 63.5152 205.845 Z\" fill=\"#000000\" fill-rule=\"evenodd\" fill-opacity=\"1\" /><path clip-path=\"url(#clip140)\" d=\"M 0 0 M80.529 235.151 L85.4132 235.151 L85.4132 241.03 L80.529 241.03 L80.529 235.151 Z\" fill=\"#000000\" fill-rule=\"evenodd\" fill-opacity=\"1\" /><path clip-path=\"url(#clip140)\" d=\"M 0 0 M100.483 224.618 Q97.1493 224.618 95.228 226.401 Q93.3299 228.183 93.3299 231.308 Q93.3299 234.433 95.228 236.215 Q97.1493 237.998 100.483 237.998 Q103.816 237.998 105.737 236.215 Q107.658 234.41 107.658 231.308 Q107.658 228.183 105.737 226.401 Q103.839 224.618 100.483 224.618 M95.8067 222.628 Q92.7975 221.887 91.1077 219.827 Q89.441 217.766 89.441 214.804 Q89.441 210.66 92.3808 208.253 Q95.3437 205.845 100.483 205.845 Q105.645 205.845 108.584 208.253 Q111.524 210.66 111.524 214.804 Q111.524 217.766 109.834 219.827 Q108.168 221.887 105.182 222.628 Q108.561 223.415 110.436 225.706 Q112.334 227.998 112.334 231.308 Q112.334 236.331 109.256 239.016 Q106.2 241.702 100.483 241.702 Q94.765 241.702 91.6864 239.016 Q88.6308 236.331 88.6308 231.308 Q88.6308 227.998 90.529 225.706 Q92.4271 223.415 95.8067 222.628 M94.0937 215.243 Q94.0937 217.928 95.7604 219.433 Q97.4502 220.938 100.483 220.938 Q103.492 220.938 105.182 219.433 Q106.895 217.928 106.895 215.243 Q106.895 212.558 105.182 211.054 Q103.492 209.549 100.483 209.549 Q97.4502 209.549 95.7604 211.054 Q94.0937 212.558 94.0937 215.243 Z\" fill=\"#000000\" fill-rule=\"evenodd\" fill-opacity=\"1\" /><polyline clip-path=\"url(#clip142)\" style=\"stroke:#000000; stroke-width:4; stroke-opacity:1; fill:none\" points=\"\n",
       "  903.938,993.136 210.724,993.136 210.724,766.846 \n",
       "  \"/>\n",
       "<polyline clip-path=\"url(#clip142)\" style=\"stroke:#000000; stroke-width:4; stroke-opacity:1; fill:none\" points=\"\n",
       "  2290.37,87.9763 210.724,87.9763 210.724,766.846 \n",
       "  \"/>\n",
       "<polyline clip-path=\"url(#clip142)\" style=\"stroke:#000000; stroke-width:4; stroke-opacity:1; fill:none\" points=\"\n",
       "  1597.15,1219.43 903.938,1219.43 903.938,993.136 \n",
       "  \"/>\n",
       "<polyline clip-path=\"url(#clip142)\" style=\"stroke:#000000; stroke-width:4; stroke-opacity:1; fill:none\" points=\"\n",
       "  2290.37,540.556 903.938,540.556 903.938,993.136 \n",
       "  \"/>\n",
       "<polyline clip-path=\"url(#clip142)\" style=\"stroke:#000000; stroke-width:4; stroke-opacity:1; fill:none\" points=\"\n",
       "  2290.37,1445.72 1597.15,1445.72 1597.15,1219.43 \n",
       "  \"/>\n",
       "<polyline clip-path=\"url(#clip142)\" style=\"stroke:#000000; stroke-width:4; stroke-opacity:1; fill:none\" points=\"\n",
       "  2290.37,993.136 1597.15,993.136 1597.15,1219.43 \n",
       "  \"/>\n",
       "<path clip-path=\"url(#clip142)\" d=\"M2290.37 75.9763 L2278.37 87.9763 L2290.37 99.9763 L2302.37 87.9763 L2290.37 75.9763 Z\" fill=\"#ed5d92\" fill-rule=\"evenodd\" fill-opacity=\"1\" stroke=\"#000000\" stroke-opacity=\"1\" stroke-width=\"3.2\"/>\n",
       "<path clip-path=\"url(#clip142)\" d=\"M2290.37 528.556 L2278.37 540.556 L2290.37 552.556 L2302.37 540.556 L2290.37 528.556 Z\" fill=\"#ed5d92\" fill-rule=\"evenodd\" fill-opacity=\"1\" stroke=\"#000000\" stroke-opacity=\"1\" stroke-width=\"3.2\"/>\n",
       "<path clip-path=\"url(#clip142)\" d=\"M2290.37 1433.72 L2278.37 1445.72 L2290.37 1457.72 L2302.37 1445.72 L2290.37 1433.72 Z\" fill=\"#ed5d92\" fill-rule=\"evenodd\" fill-opacity=\"1\" stroke=\"#000000\" stroke-opacity=\"1\" stroke-width=\"3.2\"/>\n",
       "<path clip-path=\"url(#clip142)\" d=\"M2290.37 981.136 L2278.37 993.136 L2290.37 1005.14 L2302.37 993.136 L2290.37 981.136 Z\" fill=\"#ed5d92\" fill-rule=\"evenodd\" fill-opacity=\"1\" stroke=\"#000000\" stroke-opacity=\"1\" stroke-width=\"3.2\"/>\n",
       "<path clip-path=\"url(#clip140)\" d=\"M 0 0 M2335.52 64.4608 L2335.52 111.492 L2345.4 111.492 Q2357.92 111.492 2363.71 105.821 Q2369.55 100.149 2369.55 87.9155 Q2369.55 75.7628 2363.71 70.132 Q2357.92 64.4608 2345.4 64.4608 L2335.52 64.4608 M2327.34 57.7363 L2344.15 57.7363 Q2361.73 57.7363 2369.95 65.0684 Q2378.18 72.36 2378.18 87.9155 Q2378.18 103.552 2369.91 110.884 Q2361.65 118.216 2344.15 118.216 L2327.34 118.216 L2327.34 57.7363 Z\" fill=\"#000000\" fill-rule=\"evenodd\" fill-opacity=\"1\" /><path clip-path=\"url(#clip140)\" d=\"M 0 0 M2377.14 514.975 L2377.14 523.603 Q2373.01 519.755 2368.31 517.851 Q2363.65 515.947 2358.39 515.947 Q2348.02 515.947 2342.51 522.307 Q2337 528.626 2337 540.617 Q2337 552.567 2342.51 558.927 Q2348.02 565.246 2358.39 565.246 Q2363.65 565.246 2368.31 563.342 Q2373.01 561.438 2377.14 557.59 L2377.14 566.138 Q2372.85 569.054 2368.03 570.513 Q2363.25 571.971 2357.9 571.971 Q2344.17 571.971 2336.27 563.585 Q2328.37 555.16 2328.37 540.617 Q2328.37 526.034 2336.27 517.648 Q2344.17 509.222 2357.9 509.222 Q2363.33 509.222 2368.11 510.681 Q2372.93 512.098 2377.14 514.975 Z\" fill=\"#000000\" fill-rule=\"evenodd\" fill-opacity=\"1\" /><path clip-path=\"url(#clip140)\" d=\"M 0 0 M2352.76 1423.54 L2341.66 1453.64 L2363.9 1453.64 L2352.76 1423.54 M2348.14 1415.48 L2357.41 1415.48 L2380.46 1475.96 L2371.96 1475.96 L2366.45 1460.44 L2339.19 1460.44 L2333.68 1475.96 L2325.05 1475.96 L2348.14 1415.48 Z\" fill=\"#000000\" fill-rule=\"evenodd\" fill-opacity=\"1\" /><path clip-path=\"url(#clip140)\" d=\"M 0 0 M2339.49 994.493 L2339.49 1016.65 L2352.61 1016.65 Q2359.22 1016.65 2362.38 1013.94 Q2365.58 1011.18 2365.58 1005.55 Q2365.58 999.881 2362.38 997.207 Q2359.22 994.493 2352.61 994.493 L2339.49 994.493 M2339.49 969.62 L2339.49 987.849 L2351.6 987.849 Q2357.6 987.849 2360.51 985.621 Q2363.47 983.353 2363.47 978.735 Q2363.47 974.157 2360.51 971.889 Q2357.6 969.62 2351.6 969.62 L2339.49 969.62 M2331.31 962.896 L2352.21 962.896 Q2361.57 962.896 2366.63 966.785 Q2371.69 970.674 2371.69 977.844 Q2371.69 983.393 2369.1 986.675 Q2366.51 989.956 2361.49 990.766 Q2367.52 992.062 2370.84 996.194 Q2374.21 1000.29 2374.21 1006.44 Q2374.21 1014.54 2368.7 1018.96 Q2363.19 1023.38 2353.02 1023.38 L2331.31 1023.38 L2331.31 962.896 Z\" fill=\"#000000\" fill-rule=\"evenodd\" fill-opacity=\"1\" /></svg>\n"
      ]
     },
     "execution_count": 4,
     "metadata": {},
     "output_type": "execute_result"
    }
   ],
   "source": [
    "plot_and_annotate(example_tree, true)"
   ]
  },
  {
   "cell_type": "markdown",
   "metadata": {},
   "source": [
    " ## Clades and subplits\n",
    " \n",
    " Before formally describing what SBNs are, we'll need some definitions. \n",
    " \n",
    " -  Let $\\mathcal X$ be the set of $N$ individuals. For example $\\mathcal X = \\{A, B, C, D\\}$. A **clade** is a non-empty subset of $\\mathcal X$ (i.e. $X \\in 2^{\\mathcal X} \\setminus \\varnothing$). \n",
    "\n",
    "\n",
    " -  For uniqueness of representation, $\\mathcal X$ is equipped with an ordering of individuals. This ordering extends to each clade. Clade $U$ is \"less than\" a clade $W$, written $U \\prec W$, if the lexigraphical ordering of the members of $U$ is less than that of $W$. For example, $\\{A, C\\} \\prec \\{B, D\\}$.\n",
    "\n",
    "-  A **subsplit** of clade $C$ is a pair of disjoint clades $S = (W, Z)$ such that:\n",
    "\n",
    "    1.  $W \\cup Z = C$\n",
    "    2.  $W \\prec Z$\n",
    "\n",
    "For example,  $\\{A, C, D\\}, \\{B\\}$ is a subsplit of $\\{A, B, C, D\\}$."
   ]
  },
  {
   "cell_type": "markdown",
   "metadata": {},
   "source": [
    "We represent a clade-subplit in Julia by creating a new type:"
   ]
  },
  {
   "cell_type": "code",
   "execution_count": 5,
   "metadata": {},
   "outputs": [],
   "source": [
    "clade1 = [:A, :C, :D];\n",
    "clade2 = [:B];\n",
    "my_subsplit = Sbn.SubsplitClade(clade1, clade2);"
   ]
  },
  {
   "cell_type": "code",
   "execution_count": 6,
   "metadata": {},
   "outputs": [
    {
     "data": {
      "text/plain": [
       "Main.Sbn.SubsplitClade([:A, :C, :D], [:B])"
      ]
     },
     "execution_count": 6,
     "metadata": {},
     "output_type": "execute_result"
    }
   ],
   "source": [
    "my_subsplit"
   ]
  },
  {
   "cell_type": "markdown",
   "metadata": {},
   "source": [
    "### The Simplest Subsplit Network"
   ]
  },
  {
   "cell_type": "markdown",
   "metadata": {},
   "source": [
    "Now, we can define a subsplit network. Suppose we have a population of individuals, $\\mathcal X$, of size $N$. Now, let $\\mathcal B^*_{\\mathcal X}$ be a complete binary tree of depth $N-1$. \n",
    "Every node in $\\mathcal B^*_{\\mathcal X}$ is one of two things:\n",
    "\n",
    "-  A clade subsplit $(X, Y)$\n",
    "-  A singleton clade $\\{A\\}$\n",
    "\n",
    "The root node of $\\mathcal B^*_{\\mathcal X}$, $S_0$,  is a subsplit of $\\mathcal X$. All child nodes $S_i$, $i \\ge 1$, inherit a clade from their parent. If the parent is a subsplit $(X, Y)$, then the child inherits $X$ if it is the first child and $Y$ if it is second. However, if the parent is a singleton clade $\\{A\\}$, the child inherits $\\{A\\}$.\n",
    "\n",
    "Finally, the value of node $S_i$ depends on the clade $C_i$ it inherits. If $C_i$ contains more than one individual, $S_i$ will be a subsplit of $C_i$. Otherwise, if $|C_i| = 1$, then $S_i = C_i$."
   ]
  },
  {
   "cell_type": "markdown",
   "metadata": {},
   "source": [
    "Below is an example of one particular choice of $S_1, S_2, \\dots, S_7$ on the tree $\\mathcal B_\\mathcal X^*$\n",
    "\n",
    "\n",
    "  ![](./fig/fig4.png)"
   ]
  },
  {
   "cell_type": "markdown",
   "metadata": {},
   "source": [
    "## Equivalence of SBNs and Phylogenetic Trees\n",
    "Any phylogenetic tree of the individuals in $\\mathcal X$ can be written as a particular choice of node values on $\\mathcal B_{\\mathcal X}^*$. The original phylogenetic tree can be recovered by picking one terminal edge per individual in the expanded tree.\n",
    "\n",
    "  ![](./fig/fig2.png)"
   ]
  },
  {
   "cell_type": "markdown",
   "metadata": {},
   "source": [
    "### Getting the equivalent SBN of a Phylogenetic Tree"
   ]
  },
  {
   "cell_type": "code",
   "execution_count": 7,
   "metadata": {
    "scrolled": false
   },
   "outputs": [
    {
     "name": "stdout",
     "output_type": "stream",
     "text": [
      "Main.Sbn.SubsplitClade([:A, :B, :C], [:D])\n",
      "├─ Main.Sbn.SubsplitClade([:A, :B], [:C])\n",
      "│  ├─ Main.Sbn.SubsplitClade([:A], [:B])\n",
      "│  └─ Main.Sbn.SubsplitClade([:C], missing)\n",
      "└─ Main.Sbn.SubsplitClade([:D], missing)\n",
      "   ├─ Main.Sbn.SubsplitClade([:D], missing)\n",
      "   └─ Main.Sbn.SubsplitClade([:D], missing)\n"
     ]
    }
   ],
   "source": [
    "example_sbn = Sbn.make_sbn(example_tree, 1, missing, 1, missing);\n",
    "Sbn.print_tree(example_sbn)"
   ]
  },
  {
   "cell_type": "code",
   "execution_count": 8,
   "metadata": {
    "scrolled": true
   },
   "outputs": [
    {
     "data": {
      "text/plain": [
       "Main.Sbn.BinaryNode{Main.Sbn.SubsplitClade}"
      ]
     },
     "execution_count": 8,
     "metadata": {},
     "output_type": "execute_result"
    }
   ],
   "source": [
    "typeof(example_sbn)"
   ]
  },
  {
   "cell_type": "code",
   "execution_count": 9,
   "metadata": {},
   "outputs": [
    {
     "data": {
      "text/plain": [
       "(:data, :parent, :left, :right)"
      ]
     },
     "execution_count": 9,
     "metadata": {},
     "output_type": "execute_result"
    }
   ],
   "source": [
    "fieldnames(typeof(example_sbn))"
   ]
  },
  {
   "cell_type": "markdown",
   "metadata": {},
   "source": [
    "The example_sbn object is a \"BinaryNode\", which is a parametric data structure from AbstractTrees.jl. In this case, our node has a\"SubsplitClade\" as its data, and pointers to its \"left\" and \"right\" children (which are nodes of the same type)."
   ]
  },
  {
   "cell_type": "code",
   "execution_count": 10,
   "metadata": {},
   "outputs": [
    {
     "data": {
      "text/plain": [
       "Main.Sbn.SubsplitClade([:A, :B, :C], [:D])"
      ]
     },
     "execution_count": 10,
     "metadata": {},
     "output_type": "execute_result"
    }
   ],
   "source": [
    "example_sbn.data"
   ]
  },
  {
   "cell_type": "code",
   "execution_count": 11,
   "metadata": {},
   "outputs": [
    {
     "data": {
      "text/plain": [
       "Main.Sbn.SubsplitClade([:A, :B], [:C])"
      ]
     },
     "execution_count": 11,
     "metadata": {},
     "output_type": "execute_result"
    }
   ],
   "source": [
    "example_sbn.left.data"
   ]
  },
  {
   "cell_type": "code",
   "execution_count": 12,
   "metadata": {
    "scrolled": true
   },
   "outputs": [
    {
     "data": {
      "text/plain": [
       "Main.Sbn.SubsplitClade([:D], missing)"
      ]
     },
     "execution_count": 12,
     "metadata": {},
     "output_type": "execute_result"
    }
   ],
   "source": [
    "example_sbn.right.data"
   ]
  },
  {
   "cell_type": "code",
   "execution_count": 13,
   "metadata": {},
   "outputs": [
    {
     "data": {
      "text/plain": [
       "Main.Sbn.SubsplitClade([:D], missing)"
      ]
     },
     "execution_count": 13,
     "metadata": {},
     "output_type": "execute_result"
    }
   ],
   "source": [
    "example_sbn.right.right.data"
   ]
  },
  {
   "cell_type": "markdown",
   "metadata": {},
   "source": [
    "### Getting the equivalent Phylogenetic Tree from a SBN"
   ]
  },
  {
   "cell_type": "code",
   "execution_count": 14,
   "metadata": {
    "scrolled": false
   },
   "outputs": [
    {
     "data": {
      "image/svg+xml": [
       "<?xml version=\"1.0\" encoding=\"utf-8\"?>\n",
       "<svg xmlns=\"http://www.w3.org/2000/svg\" xmlns:xlink=\"http://www.w3.org/1999/xlink\" width=\"600\" height=\"400\" viewBox=\"0 0 2400 1600\">\n",
       "<defs>\n",
       "  <clipPath id=\"clip180\">\n",
       "    <rect x=\"0\" y=\"0\" width=\"2400\" height=\"1600\"/>\n",
       "  </clipPath>\n",
       "</defs>\n",
       "<path clip-path=\"url(#clip180)\" d=\"\n",
       "M0 1600 L2400 1600 L2400 0 L0 0  Z\n",
       "  \" fill=\"#ffffff\" fill-rule=\"evenodd\" fill-opacity=\"1\"/>\n",
       "<defs>\n",
       "  <clipPath id=\"clip181\">\n",
       "    <rect x=\"480\" y=\"0\" width=\"1681\" height=\"1600\"/>\n",
       "  </clipPath>\n",
       "</defs>\n",
       "<path clip-path=\"url(#clip180)\" d=\"\n",
       "M148.334 1486.45 L2352.76 1486.45 L2352.76 47.2441 L148.334 47.2441  Z\n",
       "  \" fill=\"#ffffff\" fill-rule=\"evenodd\" fill-opacity=\"1\"/>\n",
       "<defs>\n",
       "  <clipPath id=\"clip182\">\n",
       "    <rect x=\"148\" y=\"47\" width=\"2205\" height=\"1440\"/>\n",
       "  </clipPath>\n",
       "</defs>\n",
       "<polyline clip-path=\"url(#clip182)\" style=\"stroke:#000000; stroke-width:2; stroke-opacity:0.1; fill:none\" points=\"\n",
       "  210.724,1486.45 210.724,47.2441 \n",
       "  \"/>\n",
       "<polyline clip-path=\"url(#clip182)\" style=\"stroke:#000000; stroke-width:2; stroke-opacity:0.1; fill:none\" points=\"\n",
       "  730.634,1486.45 730.634,47.2441 \n",
       "  \"/>\n",
       "<polyline clip-path=\"url(#clip182)\" style=\"stroke:#000000; stroke-width:2; stroke-opacity:0.1; fill:none\" points=\"\n",
       "  1250.55,1486.45 1250.55,47.2441 \n",
       "  \"/>\n",
       "<polyline clip-path=\"url(#clip182)\" style=\"stroke:#000000; stroke-width:2; stroke-opacity:0.1; fill:none\" points=\"\n",
       "  1770.46,1486.45 1770.46,47.2441 \n",
       "  \"/>\n",
       "<polyline clip-path=\"url(#clip182)\" style=\"stroke:#000000; stroke-width:2; stroke-opacity:0.1; fill:none\" points=\"\n",
       "  2290.37,1486.45 2290.37,47.2441 \n",
       "  \"/>\n",
       "<polyline clip-path=\"url(#clip180)\" style=\"stroke:#000000; stroke-width:4; stroke-opacity:1; fill:none\" points=\"\n",
       "  148.334,1486.45 2352.76,1486.45 \n",
       "  \"/>\n",
       "<polyline clip-path=\"url(#clip180)\" style=\"stroke:#000000; stroke-width:4; stroke-opacity:1; fill:none\" points=\"\n",
       "  210.724,1486.45 210.724,1469.18 \n",
       "  \"/>\n",
       "<polyline clip-path=\"url(#clip180)\" style=\"stroke:#000000; stroke-width:4; stroke-opacity:1; fill:none\" points=\"\n",
       "  730.634,1486.45 730.634,1469.18 \n",
       "  \"/>\n",
       "<polyline clip-path=\"url(#clip180)\" style=\"stroke:#000000; stroke-width:4; stroke-opacity:1; fill:none\" points=\"\n",
       "  1250.55,1486.45 1250.55,1469.18 \n",
       "  \"/>\n",
       "<polyline clip-path=\"url(#clip180)\" style=\"stroke:#000000; stroke-width:4; stroke-opacity:1; fill:none\" points=\"\n",
       "  1770.46,1486.45 1770.46,1469.18 \n",
       "  \"/>\n",
       "<polyline clip-path=\"url(#clip180)\" style=\"stroke:#000000; stroke-width:4; stroke-opacity:1; fill:none\" points=\"\n",
       "  2290.37,1486.45 2290.37,1469.18 \n",
       "  \"/>\n",
       "<path clip-path=\"url(#clip180)\" d=\"M 0 0 M178.733 1515.64 Q175.122 1515.64 173.293 1519.2 Q171.488 1522.75 171.488 1529.87 Q171.488 1536.98 173.293 1540.55 Q175.122 1544.09 178.733 1544.09 Q182.367 1544.09 184.173 1540.55 Q186.002 1536.98 186.002 1529.87 Q186.002 1522.75 184.173 1519.2 Q182.367 1515.64 178.733 1515.64 M178.733 1511.93 Q184.543 1511.93 187.599 1516.54 Q190.677 1521.12 190.677 1529.87 Q190.677 1538.6 187.599 1543.21 Q184.543 1547.79 178.733 1547.79 Q172.923 1547.79 169.844 1543.21 Q166.789 1538.6 166.789 1529.87 Q166.789 1521.12 169.844 1516.54 Q172.923 1511.93 178.733 1511.93 Z\" fill=\"#000000\" fill-rule=\"evenodd\" fill-opacity=\"1\" /><path clip-path=\"url(#clip180)\" d=\"M 0 0 M195.747 1541.24 L200.631 1541.24 L200.631 1547.12 L195.747 1547.12 L195.747 1541.24 Z\" fill=\"#000000\" fill-rule=\"evenodd\" fill-opacity=\"1\" /><path clip-path=\"url(#clip180)\" d=\"M 0 0 M215.701 1515.64 Q212.089 1515.64 210.261 1519.2 Q208.455 1522.75 208.455 1529.87 Q208.455 1536.98 210.261 1540.55 Q212.089 1544.09 215.701 1544.09 Q219.335 1544.09 221.14 1540.55 Q222.969 1536.98 222.969 1529.87 Q222.969 1522.75 221.14 1519.2 Q219.335 1515.64 215.701 1515.64 M215.701 1511.93 Q221.511 1511.93 224.566 1516.54 Q227.645 1521.12 227.645 1529.87 Q227.645 1538.6 224.566 1543.21 Q221.511 1547.79 215.701 1547.79 Q209.89 1547.79 206.812 1543.21 Q203.756 1538.6 203.756 1529.87 Q203.756 1521.12 206.812 1516.54 Q209.89 1511.93 215.701 1511.93 Z\" fill=\"#000000\" fill-rule=\"evenodd\" fill-opacity=\"1\" /><path clip-path=\"url(#clip180)\" d=\"M 0 0 M242.714 1515.64 Q239.103 1515.64 237.274 1519.2 Q235.469 1522.75 235.469 1529.87 Q235.469 1536.98 237.274 1540.55 Q239.103 1544.09 242.714 1544.09 Q246.348 1544.09 248.154 1540.55 Q249.983 1536.98 249.983 1529.87 Q249.983 1522.75 248.154 1519.2 Q246.348 1515.64 242.714 1515.64 M242.714 1511.93 Q248.524 1511.93 251.58 1516.54 Q254.659 1521.12 254.659 1529.87 Q254.659 1538.6 251.58 1543.21 Q248.524 1547.79 242.714 1547.79 Q236.904 1547.79 233.825 1543.21 Q230.77 1538.6 230.77 1529.87 Q230.77 1521.12 233.825 1516.54 Q236.904 1511.93 242.714 1511.93 Z\" fill=\"#000000\" fill-rule=\"evenodd\" fill-opacity=\"1\" /><path clip-path=\"url(#clip180)\" d=\"M 0 0 M699.94 1515.64 Q696.329 1515.64 694.5 1519.2 Q692.695 1522.75 692.695 1529.87 Q692.695 1536.98 694.5 1540.55 Q696.329 1544.09 699.94 1544.09 Q703.574 1544.09 705.38 1540.55 Q707.209 1536.98 707.209 1529.87 Q707.209 1522.75 705.38 1519.2 Q703.574 1515.64 699.94 1515.64 M699.94 1511.93 Q705.75 1511.93 708.806 1516.54 Q711.885 1521.12 711.885 1529.87 Q711.885 1538.6 708.806 1543.21 Q705.75 1547.79 699.94 1547.79 Q694.13 1547.79 691.051 1543.21 Q687.996 1538.6 687.996 1529.87 Q687.996 1521.12 691.051 1516.54 Q694.13 1511.93 699.94 1511.93 Z\" fill=\"#000000\" fill-rule=\"evenodd\" fill-opacity=\"1\" /><path clip-path=\"url(#clip180)\" d=\"M 0 0 M716.954 1541.24 L721.838 1541.24 L721.838 1547.12 L716.954 1547.12 L716.954 1541.24 Z\" fill=\"#000000\" fill-rule=\"evenodd\" fill-opacity=\"1\" /><path clip-path=\"url(#clip180)\" d=\"M 0 0 M730.935 1543.18 L747.255 1543.18 L747.255 1547.12 L725.31 1547.12 L725.31 1543.18 Q727.972 1540.43 732.556 1535.8 Q737.162 1531.15 738.343 1529.81 Q740.588 1527.28 741.468 1525.55 Q742.37 1523.79 742.37 1522.1 Q742.37 1519.34 740.426 1517.61 Q738.505 1515.87 735.403 1515.87 Q733.204 1515.87 730.75 1516.63 Q728.32 1517.4 725.542 1518.95 L725.542 1514.23 Q728.366 1513.09 730.82 1512.51 Q733.273 1511.93 735.31 1511.93 Q740.681 1511.93 743.875 1514.62 Q747.07 1517.31 747.07 1521.8 Q747.07 1523.93 746.259 1525.85 Q745.472 1527.74 743.366 1530.34 Q742.787 1531.01 739.685 1534.23 Q736.583 1537.42 730.935 1543.18 Z\" fill=\"#000000\" fill-rule=\"evenodd\" fill-opacity=\"1\" /><path clip-path=\"url(#clip180)\" d=\"M 0 0 M752.37 1512.56 L770.727 1512.56 L770.727 1516.5 L756.653 1516.5 L756.653 1524.97 Q757.671 1524.62 758.69 1524.46 Q759.708 1524.27 760.727 1524.27 Q766.514 1524.27 769.893 1527.44 Q773.273 1530.62 773.273 1536.03 Q773.273 1541.61 769.801 1544.71 Q766.329 1547.79 760.009 1547.79 Q757.833 1547.79 755.565 1547.42 Q753.319 1547.05 750.912 1546.31 L750.912 1541.61 Q752.995 1542.74 755.218 1543.3 Q757.44 1543.86 759.917 1543.86 Q763.921 1543.86 766.259 1541.75 Q768.597 1539.64 768.597 1536.03 Q768.597 1532.42 766.259 1530.31 Q763.921 1528.21 759.917 1528.21 Q758.042 1528.21 756.167 1528.62 Q754.315 1529.04 752.37 1529.92 L752.37 1512.56 Z\" fill=\"#000000\" fill-rule=\"evenodd\" fill-opacity=\"1\" /><path clip-path=\"url(#clip180)\" d=\"M 0 0 M1219.05 1515.64 Q1215.44 1515.64 1213.61 1519.2 Q1211.81 1522.75 1211.81 1529.87 Q1211.81 1536.98 1213.61 1540.55 Q1215.44 1544.09 1219.05 1544.09 Q1222.69 1544.09 1224.49 1540.55 Q1226.32 1536.98 1226.32 1529.87 Q1226.32 1522.75 1224.49 1519.2 Q1222.69 1515.64 1219.05 1515.64 M1219.05 1511.93 Q1224.86 1511.93 1227.92 1516.54 Q1231 1521.12 1231 1529.87 Q1231 1538.6 1227.92 1543.21 Q1224.86 1547.79 1219.05 1547.79 Q1213.24 1547.79 1210.16 1543.21 Q1207.11 1538.6 1207.11 1529.87 Q1207.11 1521.12 1210.16 1516.54 Q1213.24 1511.93 1219.05 1511.93 Z\" fill=\"#000000\" fill-rule=\"evenodd\" fill-opacity=\"1\" /><path clip-path=\"url(#clip180)\" d=\"M 0 0 M1236.07 1541.24 L1240.95 1541.24 L1240.95 1547.12 L1236.07 1547.12 L1236.07 1541.24 Z\" fill=\"#000000\" fill-rule=\"evenodd\" fill-opacity=\"1\" /><path clip-path=\"url(#clip180)\" d=\"M 0 0 M1246.07 1512.56 L1264.42 1512.56 L1264.42 1516.5 L1250.35 1516.5 L1250.35 1524.97 Q1251.37 1524.62 1252.39 1524.46 Q1253.4 1524.27 1254.42 1524.27 Q1260.21 1524.27 1263.59 1527.44 Q1266.97 1530.62 1266.97 1536.03 Q1266.97 1541.61 1263.5 1544.71 Q1260.02 1547.79 1253.7 1547.79 Q1251.53 1547.79 1249.26 1547.42 Q1247.02 1547.05 1244.61 1546.31 L1244.61 1541.61 Q1246.69 1542.74 1248.91 1543.3 Q1251.14 1543.86 1253.61 1543.86 Q1257.62 1543.86 1259.95 1541.75 Q1262.29 1539.64 1262.29 1536.03 Q1262.29 1532.42 1259.95 1530.31 Q1257.62 1528.21 1253.61 1528.21 Q1251.74 1528.21 1249.86 1528.62 Q1248.01 1529.04 1246.07 1529.92 L1246.07 1512.56 Z\" fill=\"#000000\" fill-rule=\"evenodd\" fill-opacity=\"1\" /><path clip-path=\"url(#clip180)\" d=\"M 0 0 M1282.04 1515.64 Q1278.43 1515.64 1276.6 1519.2 Q1274.79 1522.75 1274.79 1529.87 Q1274.79 1536.98 1276.6 1540.55 Q1278.43 1544.09 1282.04 1544.09 Q1285.67 1544.09 1287.48 1540.55 Q1289.31 1536.98 1289.31 1529.87 Q1289.31 1522.75 1287.48 1519.2 Q1285.67 1515.64 1282.04 1515.64 M1282.04 1511.93 Q1287.85 1511.93 1290.9 1516.54 Q1293.98 1521.12 1293.98 1529.87 Q1293.98 1538.6 1290.9 1543.21 Q1287.85 1547.79 1282.04 1547.79 Q1276.23 1547.79 1273.15 1543.21 Q1270.09 1538.6 1270.09 1529.87 Q1270.09 1521.12 1273.15 1516.54 Q1276.23 1511.93 1282.04 1511.93 Z\" fill=\"#000000\" fill-rule=\"evenodd\" fill-opacity=\"1\" /><path clip-path=\"url(#clip180)\" d=\"M 0 0 M1739.41 1515.64 Q1735.8 1515.64 1733.97 1519.2 Q1732.17 1522.75 1732.17 1529.87 Q1732.17 1536.98 1733.97 1540.55 Q1735.8 1544.09 1739.41 1544.09 Q1743.05 1544.09 1744.85 1540.55 Q1746.68 1536.98 1746.68 1529.87 Q1746.68 1522.75 1744.85 1519.2 Q1743.05 1515.64 1739.41 1515.64 M1739.41 1511.93 Q1745.22 1511.93 1748.28 1516.54 Q1751.36 1521.12 1751.36 1529.87 Q1751.36 1538.6 1748.28 1543.21 Q1745.22 1547.79 1739.41 1547.79 Q1733.6 1547.79 1730.53 1543.21 Q1727.47 1538.6 1727.47 1529.87 Q1727.47 1521.12 1730.53 1516.54 Q1733.6 1511.93 1739.41 1511.93 Z\" fill=\"#000000\" fill-rule=\"evenodd\" fill-opacity=\"1\" /><path clip-path=\"url(#clip180)\" d=\"M 0 0 M1756.43 1541.24 L1761.31 1541.24 L1761.31 1547.12 L1756.43 1547.12 L1756.43 1541.24 Z\" fill=\"#000000\" fill-rule=\"evenodd\" fill-opacity=\"1\" /><path clip-path=\"url(#clip180)\" d=\"M 0 0 M1765.2 1512.56 L1787.42 1512.56 L1787.42 1514.55 L1774.88 1547.12 L1769.99 1547.12 L1781.8 1516.5 L1765.2 1516.5 L1765.2 1512.56 Z\" fill=\"#000000\" fill-rule=\"evenodd\" fill-opacity=\"1\" /><path clip-path=\"url(#clip180)\" d=\"M 0 0 M1792.54 1512.56 L1810.9 1512.56 L1810.9 1516.5 L1796.82 1516.5 L1796.82 1524.97 Q1797.84 1524.62 1798.86 1524.46 Q1799.88 1524.27 1800.9 1524.27 Q1806.68 1524.27 1810.06 1527.44 Q1813.44 1530.62 1813.44 1536.03 Q1813.44 1541.61 1809.97 1544.71 Q1806.5 1547.79 1800.18 1547.79 Q1798 1547.79 1795.73 1547.42 Q1793.49 1547.05 1791.08 1546.31 L1791.08 1541.61 Q1793.16 1542.74 1795.39 1543.3 Q1797.61 1543.86 1800.09 1543.86 Q1804.09 1543.86 1806.43 1541.75 Q1808.77 1539.64 1808.77 1536.03 Q1808.77 1532.42 1806.43 1530.31 Q1804.09 1528.21 1800.09 1528.21 Q1798.21 1528.21 1796.34 1528.62 Q1794.48 1529.04 1792.54 1529.92 L1792.54 1512.56 Z\" fill=\"#000000\" fill-rule=\"evenodd\" fill-opacity=\"1\" /><path clip-path=\"url(#clip180)\" d=\"M 0 0 M2248.76 1543.18 L2256.4 1543.18 L2256.4 1516.82 L2248.09 1518.49 L2248.09 1514.23 L2256.35 1512.56 L2261.03 1512.56 L2261.03 1543.18 L2268.67 1543.18 L2268.67 1547.12 L2248.76 1547.12 L2248.76 1543.18 Z\" fill=\"#000000\" fill-rule=\"evenodd\" fill-opacity=\"1\" /><path clip-path=\"url(#clip180)\" d=\"M 0 0 M2273.73 1541.24 L2278.62 1541.24 L2278.62 1547.12 L2273.73 1547.12 L2273.73 1541.24 Z\" fill=\"#000000\" fill-rule=\"evenodd\" fill-opacity=\"1\" /><path clip-path=\"url(#clip180)\" d=\"M 0 0 M2293.69 1515.64 Q2290.08 1515.64 2288.25 1519.2 Q2286.44 1522.75 2286.44 1529.87 Q2286.44 1536.98 2288.25 1540.55 Q2290.08 1544.09 2293.69 1544.09 Q2297.32 1544.09 2299.13 1540.55 Q2300.96 1536.98 2300.96 1529.87 Q2300.96 1522.75 2299.13 1519.2 Q2297.32 1515.64 2293.69 1515.64 M2293.69 1511.93 Q2299.5 1511.93 2302.55 1516.54 Q2305.63 1521.12 2305.63 1529.87 Q2305.63 1538.6 2302.55 1543.21 Q2299.5 1547.79 2293.69 1547.79 Q2287.88 1547.79 2284.8 1543.21 Q2281.74 1538.6 2281.74 1529.87 Q2281.74 1521.12 2284.8 1516.54 Q2287.88 1511.93 2293.69 1511.93 Z\" fill=\"#000000\" fill-rule=\"evenodd\" fill-opacity=\"1\" /><path clip-path=\"url(#clip180)\" d=\"M 0 0 M2320.7 1515.64 Q2317.09 1515.64 2315.26 1519.2 Q2313.46 1522.75 2313.46 1529.87 Q2313.46 1536.98 2315.26 1540.55 Q2317.09 1544.09 2320.7 1544.09 Q2324.34 1544.09 2326.14 1540.55 Q2327.97 1536.98 2327.97 1529.87 Q2327.97 1522.75 2326.14 1519.2 Q2324.34 1515.64 2320.7 1515.64 M2320.7 1511.93 Q2326.51 1511.93 2329.57 1516.54 Q2332.65 1521.12 2332.65 1529.87 Q2332.65 1538.6 2329.57 1543.21 Q2326.51 1547.79 2320.7 1547.79 Q2314.89 1547.79 2311.81 1543.21 Q2308.76 1538.6 2308.76 1529.87 Q2308.76 1521.12 2311.81 1516.54 Q2314.89 1511.93 2320.7 1511.93 Z\" fill=\"#000000\" fill-rule=\"evenodd\" fill-opacity=\"1\" /><path clip-path=\"url(#clip180)\" d=\"M 0 0 M65.0198 1295.74 Q61.4087 1295.74 59.58 1299.31 Q57.7745 1302.85 57.7745 1309.98 Q57.7745 1317.08 59.58 1320.65 Q61.4087 1324.19 65.0198 1324.19 Q68.6541 1324.19 70.4596 1320.65 Q72.2883 1317.08 72.2883 1309.98 Q72.2883 1302.85 70.4596 1299.31 Q68.6541 1295.74 65.0198 1295.74 M65.0198 1292.04 Q70.83 1292.04 73.8855 1296.64 Q76.9642 1301.23 76.9642 1309.98 Q76.9642 1318.7 73.8855 1323.31 Q70.83 1327.89 65.0198 1327.89 Q59.2097 1327.89 56.131 1323.31 Q53.0754 1318.7 53.0754 1309.98 Q53.0754 1301.23 56.131 1296.64 Q59.2097 1292.04 65.0198 1292.04 Z\" fill=\"#000000\" fill-rule=\"evenodd\" fill-opacity=\"1\" /><path clip-path=\"url(#clip180)\" d=\"M 0 0 M82.0336 1321.34 L86.9179 1321.34 L86.9179 1327.22 L82.0336 1327.22 L82.0336 1321.34 Z\" fill=\"#000000\" fill-rule=\"evenodd\" fill-opacity=\"1\" /><path clip-path=\"url(#clip180)\" d=\"M 0 0 M96.015 1323.29 L112.334 1323.29 L112.334 1327.22 L90.3901 1327.22 L90.3901 1323.29 Q93.0521 1320.53 97.6354 1315.9 Q102.242 1311.25 103.422 1309.91 Q105.668 1307.38 106.547 1305.65 Q107.45 1303.89 107.45 1302.2 Q107.45 1299.44 105.506 1297.71 Q103.584 1295.97 100.483 1295.97 Q98.2835 1295.97 95.8298 1296.74 Q93.3993 1297.5 90.6215 1299.05 L90.6215 1294.33 Q93.4456 1293.19 95.8993 1292.62 Q98.353 1292.04 100.39 1292.04 Q105.76 1292.04 108.955 1294.72 Q112.149 1297.41 112.149 1301.9 Q112.149 1304.03 111.339 1305.95 Q110.552 1307.85 108.446 1310.44 Q107.867 1311.11 104.765 1314.33 Q101.663 1317.52 96.015 1323.29 Z\" fill=\"#000000\" fill-rule=\"evenodd\" fill-opacity=\"1\" /><path clip-path=\"url(#clip180)\" d=\"M 0 0 M64.0708 1114.71 Q60.4597 1114.71 58.631 1118.27 Q56.8254 1121.81 56.8254 1128.94 Q56.8254 1136.05 58.631 1139.62 Q60.4597 1143.16 64.0708 1143.16 Q67.705 1143.16 69.5105 1139.62 Q71.3392 1136.05 71.3392 1128.94 Q71.3392 1121.81 69.5105 1118.27 Q67.705 1114.71 64.0708 1114.71 M64.0708 1111 Q69.8809 1111 72.9365 1115.61 Q76.0151 1120.19 76.0151 1128.94 Q76.0151 1137.67 72.9365 1142.28 Q69.8809 1146.86 64.0708 1146.86 Q58.2606 1146.86 55.1819 1142.28 Q52.1264 1137.67 52.1264 1128.94 Q52.1264 1120.19 55.1819 1115.61 Q58.2606 1111 64.0708 1111 Z\" fill=\"#000000\" fill-rule=\"evenodd\" fill-opacity=\"1\" /><path clip-path=\"url(#clip180)\" d=\"M 0 0 M81.0846 1140.31 L85.9688 1140.31 L85.9688 1146.19 L81.0846 1146.19 L81.0846 1140.31 Z\" fill=\"#000000\" fill-rule=\"evenodd\" fill-opacity=\"1\" /><path clip-path=\"url(#clip180)\" d=\"M 0 0 M105.205 1127.56 Q108.561 1128.27 110.436 1130.54 Q112.334 1132.81 112.334 1136.14 Q112.334 1141.26 108.816 1144.06 Q105.297 1146.86 98.8159 1146.86 Q96.64 1146.86 94.3252 1146.42 Q92.0336 1146 89.5799 1145.15 L89.5799 1140.63 Q91.5243 1141.77 93.8391 1142.35 Q96.1539 1142.93 98.6771 1142.93 Q103.075 1142.93 105.367 1141.19 Q107.682 1139.45 107.682 1136.14 Q107.682 1133.09 105.529 1131.38 Q103.399 1129.64 99.5798 1129.64 L95.5521 1129.64 L95.5521 1125.8 L99.765 1125.8 Q103.214 1125.8 105.043 1124.43 Q106.871 1123.04 106.871 1120.45 Q106.871 1117.79 104.973 1116.38 Q103.098 1114.94 99.5798 1114.94 Q97.6585 1114.94 95.4595 1115.36 Q93.2604 1115.77 90.6215 1116.65 L90.6215 1112.49 Q93.2836 1111.75 95.5984 1111.38 Q97.9363 1111 99.9965 1111 Q105.321 1111 108.422 1113.44 Q111.524 1115.84 111.524 1119.96 Q111.524 1122.83 109.881 1124.82 Q108.237 1126.79 105.205 1127.56 Z\" fill=\"#000000\" fill-rule=\"evenodd\" fill-opacity=\"1\" /><path clip-path=\"url(#clip180)\" d=\"M 0 0 M62.9365 933.677 Q59.3254 933.677 57.4967 937.241 Q55.6912 940.783 55.6912 947.913 Q55.6912 955.019 57.4967 958.584 Q59.3254 962.126 62.9365 962.126 Q66.5707 962.126 68.3763 958.584 Q70.205 955.019 70.205 947.913 Q70.205 940.783 68.3763 937.241 Q66.5707 933.677 62.9365 933.677 M62.9365 929.973 Q68.7467 929.973 71.8022 934.579 Q74.8809 939.163 74.8809 947.913 Q74.8809 956.639 71.8022 961.246 Q68.7467 965.829 62.9365 965.829 Q57.1264 965.829 54.0477 961.246 Q50.9921 956.639 50.9921 947.913 Q50.9921 939.163 54.0477 934.579 Q57.1264 929.973 62.9365 929.973 Z\" fill=\"#000000\" fill-rule=\"evenodd\" fill-opacity=\"1\" /><path clip-path=\"url(#clip180)\" d=\"M 0 0 M79.9503 959.278 L84.8345 959.278 L84.8345 965.158 L79.9503 965.158 L79.9503 959.278 Z\" fill=\"#000000\" fill-rule=\"evenodd\" fill-opacity=\"1\" /><path clip-path=\"url(#clip180)\" d=\"M 0 0 M102.751 934.672 L90.9456 953.121 L102.751 953.121 L102.751 934.672 M101.524 930.598 L107.404 930.598 L107.404 953.121 L112.334 953.121 L112.334 957.01 L107.404 957.01 L107.404 965.158 L102.751 965.158 L102.751 957.01 L87.1493 957.01 L87.1493 952.496 L101.524 930.598 Z\" fill=\"#000000\" fill-rule=\"evenodd\" fill-opacity=\"1\" /><path clip-path=\"url(#clip180)\" d=\"M 0 0 M64.418 752.645 Q60.8069 752.645 58.9782 756.209 Q57.1726 759.751 57.1726 766.881 Q57.1726 773.987 58.9782 777.552 Q60.8069 781.094 64.418 781.094 Q68.0522 781.094 69.8578 777.552 Q71.6865 773.987 71.6865 766.881 Q71.6865 759.751 69.8578 756.209 Q68.0522 752.645 64.418 752.645 M64.418 748.941 Q70.2281 748.941 73.2837 753.547 Q76.3624 758.131 76.3624 766.881 Q76.3624 775.608 73.2837 780.214 Q70.2281 784.797 64.418 784.797 Q58.6078 784.797 55.5291 780.214 Q52.4736 775.608 52.4736 766.881 Q52.4736 758.131 55.5291 753.547 Q58.6078 748.941 64.418 748.941 Z\" fill=\"#000000\" fill-rule=\"evenodd\" fill-opacity=\"1\" /><path clip-path=\"url(#clip180)\" d=\"M 0 0 M81.4318 778.246 L86.316 778.246 L86.316 784.126 L81.4318 784.126 L81.4318 778.246 Z\" fill=\"#000000\" fill-rule=\"evenodd\" fill-opacity=\"1\" /><path clip-path=\"url(#clip180)\" d=\"M 0 0 M91.4317 749.566 L109.788 749.566 L109.788 753.501 L95.7141 753.501 L95.7141 761.973 Q96.7326 761.626 97.7511 761.464 Q98.7696 761.279 99.7882 761.279 Q105.575 761.279 108.955 764.45 Q112.334 767.621 112.334 773.038 Q112.334 778.617 108.862 781.719 Q105.39 784.797 99.0706 784.797 Q96.8947 784.797 94.6262 784.427 Q92.3808 784.057 89.9734 783.316 L89.9734 778.617 Q92.0567 779.751 94.2789 780.307 Q96.5011 780.862 98.978 780.862 Q102.983 780.862 105.321 778.756 Q107.658 776.649 107.658 773.038 Q107.658 769.427 105.321 767.321 Q102.983 765.214 98.978 765.214 Q97.103 765.214 95.228 765.631 Q93.3762 766.047 91.4317 766.927 L91.4317 749.566 Z\" fill=\"#000000\" fill-rule=\"evenodd\" fill-opacity=\"1\" /><path clip-path=\"url(#clip180)\" d=\"M 0 0 M63.2606 571.613 Q59.6495 571.613 57.8208 575.178 Q56.0152 578.719 56.0152 585.849 Q56.0152 592.955 57.8208 596.52 Q59.6495 600.062 63.2606 600.062 Q66.8948 600.062 68.7004 596.52 Q70.5291 592.955 70.5291 585.849 Q70.5291 578.719 68.7004 575.178 Q66.8948 571.613 63.2606 571.613 M63.2606 567.909 Q69.0707 567.909 72.1263 572.516 Q75.205 577.099 75.205 585.849 Q75.205 594.576 72.1263 599.182 Q69.0707 603.765 63.2606 603.765 Q57.4504 603.765 54.3717 599.182 Q51.3162 594.576 51.3162 585.849 Q51.3162 577.099 54.3717 572.516 Q57.4504 567.909 63.2606 567.909 Z\" fill=\"#000000\" fill-rule=\"evenodd\" fill-opacity=\"1\" /><path clip-path=\"url(#clip180)\" d=\"M 0 0 M80.2744 597.214 L85.1586 597.214 L85.1586 603.094 L80.2744 603.094 L80.2744 597.214 Z\" fill=\"#000000\" fill-rule=\"evenodd\" fill-opacity=\"1\" /><path clip-path=\"url(#clip180)\" d=\"M 0 0 M100.807 583.951 Q97.6585 583.951 95.8067 586.103 Q93.978 588.256 93.978 592.006 Q93.978 595.733 95.8067 597.909 Q97.6585 600.062 100.807 600.062 Q103.955 600.062 105.783 597.909 Q107.635 595.733 107.635 592.006 Q107.635 588.256 105.783 586.103 Q103.955 583.951 100.807 583.951 M110.089 569.298 L110.089 573.557 Q108.33 572.724 106.524 572.284 Q104.742 571.844 102.983 571.844 Q98.353 571.844 95.8993 574.969 Q93.4688 578.094 93.1215 584.414 Q94.4873 582.4 96.5474 581.335 Q98.6076 580.247 101.084 580.247 Q106.293 580.247 109.302 583.418 Q112.334 586.566 112.334 592.006 Q112.334 597.33 109.186 600.548 Q106.038 603.765 100.807 603.765 Q94.8113 603.765 91.6401 599.182 Q88.4688 594.576 88.4688 585.849 Q88.4688 577.654 92.3576 572.793 Q96.2465 567.909 102.797 567.909 Q104.557 567.909 106.339 568.256 Q108.145 568.604 110.089 569.298 Z\" fill=\"#000000\" fill-rule=\"evenodd\" fill-opacity=\"1\" /><path clip-path=\"url(#clip180)\" d=\"M 0 0 M64.3254 390.581 Q60.7143 390.581 58.8856 394.146 Q57.0801 397.687 57.0801 404.817 Q57.0801 411.923 58.8856 415.488 Q60.7143 419.03 64.3254 419.03 Q67.9596 419.03 69.7652 415.488 Q71.5939 411.923 71.5939 404.817 Q71.5939 397.687 69.7652 394.146 Q67.9596 390.581 64.3254 390.581 M64.3254 386.877 Q70.1355 386.877 73.1911 391.484 Q76.2698 396.067 76.2698 404.817 Q76.2698 413.544 73.1911 418.15 Q70.1355 422.733 64.3254 422.733 Q58.5152 422.733 55.4365 418.15 Q52.381 413.544 52.381 404.817 Q52.381 396.067 55.4365 391.484 Q58.5152 386.877 64.3254 386.877 Z\" fill=\"#000000\" fill-rule=\"evenodd\" fill-opacity=\"1\" /><path clip-path=\"url(#clip180)\" d=\"M 0 0 M81.3392 416.183 L86.2234 416.183 L86.2234 422.062 L81.3392 422.062 L81.3392 416.183 Z\" fill=\"#000000\" fill-rule=\"evenodd\" fill-opacity=\"1\" /><path clip-path=\"url(#clip180)\" d=\"M 0 0 M90.1123 387.502 L112.334 387.502 L112.334 389.493 L99.7882 422.062 L94.9039 422.062 L106.709 391.437 L90.1123 391.437 L90.1123 387.502 Z\" fill=\"#000000\" fill-rule=\"evenodd\" fill-opacity=\"1\" /><path clip-path=\"url(#clip180)\" d=\"M 0 0 M63.5152 209.549 Q59.9041 209.549 58.0754 213.114 Q56.2699 216.655 56.2699 223.785 Q56.2699 230.891 58.0754 234.456 Q59.9041 237.998 63.5152 237.998 Q67.1494 237.998 68.955 234.456 Q70.7837 230.891 70.7837 223.785 Q70.7837 216.655 68.955 213.114 Q67.1494 209.549 63.5152 209.549 M63.5152 205.845 Q69.3254 205.845 72.3809 210.452 Q75.4596 215.035 75.4596 223.785 Q75.4596 232.512 72.3809 237.118 Q69.3254 241.702 63.5152 241.702 Q57.7051 241.702 54.6264 237.118 Q51.5708 232.512 51.5708 223.785 Q51.5708 215.035 54.6264 210.452 Q57.7051 205.845 63.5152 205.845 Z\" fill=\"#000000\" fill-rule=\"evenodd\" fill-opacity=\"1\" /><path clip-path=\"url(#clip180)\" d=\"M 0 0 M80.529 235.151 L85.4132 235.151 L85.4132 241.03 L80.529 241.03 L80.529 235.151 Z\" fill=\"#000000\" fill-rule=\"evenodd\" fill-opacity=\"1\" /><path clip-path=\"url(#clip180)\" d=\"M 0 0 M100.483 224.618 Q97.1493 224.618 95.228 226.401 Q93.3299 228.183 93.3299 231.308 Q93.3299 234.433 95.228 236.215 Q97.1493 237.998 100.483 237.998 Q103.816 237.998 105.737 236.215 Q107.658 234.41 107.658 231.308 Q107.658 228.183 105.737 226.401 Q103.839 224.618 100.483 224.618 M95.8067 222.628 Q92.7975 221.887 91.1077 219.827 Q89.441 217.766 89.441 214.804 Q89.441 210.66 92.3808 208.253 Q95.3437 205.845 100.483 205.845 Q105.645 205.845 108.584 208.253 Q111.524 210.66 111.524 214.804 Q111.524 217.766 109.834 219.827 Q108.168 221.887 105.182 222.628 Q108.561 223.415 110.436 225.706 Q112.334 227.998 112.334 231.308 Q112.334 236.331 109.256 239.016 Q106.2 241.702 100.483 241.702 Q94.765 241.702 91.6864 239.016 Q88.6308 236.331 88.6308 231.308 Q88.6308 227.998 90.529 225.706 Q92.4271 223.415 95.8067 222.628 M94.0937 215.243 Q94.0937 217.928 95.7604 219.433 Q97.4502 220.938 100.483 220.938 Q103.492 220.938 105.182 219.433 Q106.895 217.928 106.895 215.243 Q106.895 212.558 105.182 211.054 Q103.492 209.549 100.483 209.549 Q97.4502 209.549 95.7604 211.054 Q94.0937 212.558 94.0937 215.243 Z\" fill=\"#000000\" fill-rule=\"evenodd\" fill-opacity=\"1\" /><polyline clip-path=\"url(#clip182)\" style=\"stroke:#000000; stroke-width:4; stroke-opacity:1; fill:none\" points=\"\n",
       "  903.938,993.136 210.724,993.136 210.724,766.846 \n",
       "  \"/>\n",
       "<polyline clip-path=\"url(#clip182)\" style=\"stroke:#000000; stroke-width:4; stroke-opacity:1; fill:none\" points=\"\n",
       "  2290.37,87.9763 210.724,87.9763 210.724,766.846 \n",
       "  \"/>\n",
       "<polyline clip-path=\"url(#clip182)\" style=\"stroke:#000000; stroke-width:4; stroke-opacity:1; fill:none\" points=\"\n",
       "  1597.15,1219.43 903.938,1219.43 903.938,993.136 \n",
       "  \"/>\n",
       "<polyline clip-path=\"url(#clip182)\" style=\"stroke:#000000; stroke-width:4; stroke-opacity:1; fill:none\" points=\"\n",
       "  2290.37,540.556 903.938,540.556 903.938,993.136 \n",
       "  \"/>\n",
       "<polyline clip-path=\"url(#clip182)\" style=\"stroke:#000000; stroke-width:4; stroke-opacity:1; fill:none\" points=\"\n",
       "  2290.37,1445.72 1597.15,1445.72 1597.15,1219.43 \n",
       "  \"/>\n",
       "<polyline clip-path=\"url(#clip182)\" style=\"stroke:#000000; stroke-width:4; stroke-opacity:1; fill:none\" points=\"\n",
       "  2290.37,993.136 1597.15,993.136 1597.15,1219.43 \n",
       "  \"/>\n",
       "<path clip-path=\"url(#clip182)\" d=\"M2290.37 75.9763 L2278.37 87.9763 L2290.37 99.9763 L2302.37 87.9763 L2290.37 75.9763 Z\" fill=\"#ed5d92\" fill-rule=\"evenodd\" fill-opacity=\"1\" stroke=\"#000000\" stroke-opacity=\"1\" stroke-width=\"3.2\"/>\n",
       "<path clip-path=\"url(#clip182)\" d=\"M2290.37 528.556 L2278.37 540.556 L2290.37 552.556 L2302.37 540.556 L2290.37 528.556 Z\" fill=\"#ed5d92\" fill-rule=\"evenodd\" fill-opacity=\"1\" stroke=\"#000000\" stroke-opacity=\"1\" stroke-width=\"3.2\"/>\n",
       "<path clip-path=\"url(#clip182)\" d=\"M2290.37 1433.72 L2278.37 1445.72 L2290.37 1457.72 L2302.37 1445.72 L2290.37 1433.72 Z\" fill=\"#ed5d92\" fill-rule=\"evenodd\" fill-opacity=\"1\" stroke=\"#000000\" stroke-opacity=\"1\" stroke-width=\"3.2\"/>\n",
       "<path clip-path=\"url(#clip182)\" d=\"M2290.37 981.136 L2278.37 993.136 L2290.37 1005.14 L2302.37 993.136 L2290.37 981.136 Z\" fill=\"#ed5d92\" fill-rule=\"evenodd\" fill-opacity=\"1\" stroke=\"#000000\" stroke-opacity=\"1\" stroke-width=\"3.2\"/>\n",
       "<path clip-path=\"url(#clip180)\" d=\"M 0 0 M2335.52 64.4608 L2335.52 111.492 L2345.4 111.492 Q2357.92 111.492 2363.71 105.821 Q2369.55 100.149 2369.55 87.9155 Q2369.55 75.7628 2363.71 70.132 Q2357.92 64.4608 2345.4 64.4608 L2335.52 64.4608 M2327.34 57.7363 L2344.15 57.7363 Q2361.73 57.7363 2369.95 65.0684 Q2378.18 72.36 2378.18 87.9155 Q2378.18 103.552 2369.91 110.884 Q2361.65 118.216 2344.15 118.216 L2327.34 118.216 L2327.34 57.7363 Z\" fill=\"#000000\" fill-rule=\"evenodd\" fill-opacity=\"1\" /><path clip-path=\"url(#clip180)\" d=\"M 0 0 M2377.14 514.975 L2377.14 523.603 Q2373.01 519.755 2368.31 517.851 Q2363.65 515.947 2358.39 515.947 Q2348.02 515.947 2342.51 522.307 Q2337 528.626 2337 540.617 Q2337 552.567 2342.51 558.927 Q2348.02 565.246 2358.39 565.246 Q2363.65 565.246 2368.31 563.342 Q2373.01 561.438 2377.14 557.59 L2377.14 566.138 Q2372.85 569.054 2368.03 570.513 Q2363.25 571.971 2357.9 571.971 Q2344.17 571.971 2336.27 563.585 Q2328.37 555.16 2328.37 540.617 Q2328.37 526.034 2336.27 517.648 Q2344.17 509.222 2357.9 509.222 Q2363.33 509.222 2368.11 510.681 Q2372.93 512.098 2377.14 514.975 Z\" fill=\"#000000\" fill-rule=\"evenodd\" fill-opacity=\"1\" /><path clip-path=\"url(#clip180)\" d=\"M 0 0 M2352.76 1423.54 L2341.66 1453.64 L2363.9 1453.64 L2352.76 1423.54 M2348.14 1415.48 L2357.41 1415.48 L2380.46 1475.96 L2371.96 1475.96 L2366.45 1460.44 L2339.19 1460.44 L2333.68 1475.96 L2325.05 1475.96 L2348.14 1415.48 Z\" fill=\"#000000\" fill-rule=\"evenodd\" fill-opacity=\"1\" /><path clip-path=\"url(#clip180)\" d=\"M 0 0 M2339.49 994.493 L2339.49 1016.65 L2352.61 1016.65 Q2359.22 1016.65 2362.38 1013.94 Q2365.58 1011.18 2365.58 1005.55 Q2365.58 999.881 2362.38 997.207 Q2359.22 994.493 2352.61 994.493 L2339.49 994.493 M2339.49 969.62 L2339.49 987.849 L2351.6 987.849 Q2357.6 987.849 2360.51 985.621 Q2363.47 983.353 2363.47 978.735 Q2363.47 974.157 2360.51 971.889 Q2357.6 969.62 2351.6 969.62 L2339.49 969.62 M2331.31 962.896 L2352.21 962.896 Q2361.57 962.896 2366.63 966.785 Q2371.69 970.674 2371.69 977.844 Q2371.69 983.393 2369.1 986.675 Q2366.51 989.956 2361.49 990.766 Q2367.52 992.062 2370.84 996.194 Q2374.21 1000.29 2374.21 1006.44 Q2374.21 1014.54 2368.7 1018.96 Q2363.19 1023.38 2353.02 1023.38 L2331.31 1023.38 L2331.31 962.896 Z\" fill=\"#000000\" fill-rule=\"evenodd\" fill-opacity=\"1\" /></svg>\n"
      ]
     },
     "execution_count": 14,
     "metadata": {},
     "output_type": "execute_result"
    }
   ],
   "source": [
    "tree_from_sbn = Sbn.make_tree_from_sbn(example_sbn)\n",
    "plot_and_annotate(tree_from_sbn, true)"
   ]
  },
  {
   "cell_type": "markdown",
   "metadata": {},
   "source": [
    "## Parameterizing a distribution of SBNs"
   ]
  },
  {
   "cell_type": "code",
   "execution_count": 43,
   "metadata": {},
   "outputs": [
    {
     "name": "stderr",
     "output_type": "stream",
     "text": [
      "WARNING: replacing module VBPILookup.\n",
      "WARNING: using AbstractTrees.Tree in module Sbn conflicts with an existing identifier.\n"
     ]
    },
    {
     "data": {
      "text/plain": [
       "Main.VBPILookup"
      ]
     },
     "execution_count": 43,
     "metadata": {},
     "output_type": "execute_result"
    }
   ],
   "source": [
    "include(\"VBPI.jl\") # My code for implementing VBPI (VBPILookup module)"
   ]
  },
  {
   "cell_type": "markdown",
   "metadata": {},
   "source": [
    "If $T$ is the random topology of the phylogenetic tree and $\\tau$ a particular realization, we write the probability in terms of $S_1, \\dots, S_{2^{N -1} - 1}$, where $\\pi(i)$ are the dependencies of $S_i$ given by the edges of $\\mathcal B_{\\mathcal X}$.\n",
    "    $$\n",
    "      \\small\n",
    "      P(T = \\tau) = \\mathcal P(S_1 = s_1) \\prod_{i > 1} \\mathcal P(S_i = s_i | S_{j \\in \\pi (i)})\n",
    "    $$ "
   ]
  },
  {
   "cell_type": "markdown",
   "metadata": {},
   "source": [
    "To implement this parameterization over SBNs, we create a struct that consists of three objects. \n",
    "\n",
    "-  The first is a Dictionary which maps a clade and the first subsplit of that clade to an integer index in \n",
    "-  The second is a Dictionary which maps a clade to all possible first-subsplits\n",
    "-  The third is a vector of logit-probabilities"
   ]
  },
  {
   "cell_type": "code",
   "execution_count": 16,
   "metadata": {},
   "outputs": [
    {
     "data": {
      "text/plain": [
       "Main.VBPILookup.VBPI{Float64}"
      ]
     },
     "execution_count": 16,
     "metadata": {},
     "output_type": "execute_result"
    }
   ],
   "source": [
    "leaves = [:A, :B, :C, :D]\n",
    "table = VBPILookup.VBPI(leaves)\n",
    "typeof(table)"
   ]
  },
  {
   "cell_type": "code",
   "execution_count": 17,
   "metadata": {},
   "outputs": [
    {
     "data": {
      "text/plain": [
       "(:lookup_table, :split_dict, :probs)"
      ]
     },
     "execution_count": 17,
     "metadata": {},
     "output_type": "execute_result"
    }
   ],
   "source": [
    "fieldnames(typeof(table))"
   ]
  },
  {
   "cell_type": "markdown",
   "metadata": {},
   "source": [
    "We store the logit-probabilities this way to be amenable to autodifferentiation. Although the probabities are stored in a vector, we never have to access them directly this way since we can overload the indexing function."
   ]
  },
  {
   "cell_type": "code",
   "execution_count": 18,
   "metadata": {},
   "outputs": [
    {
     "data": {
      "text/plain": [
       "0.0"
      ]
     },
     "execution_count": 18,
     "metadata": {},
     "output_type": "execute_result"
    }
   ],
   "source": [
    "table[[:A, :B, :C, :D], [:A]]"
   ]
  },
  {
   "cell_type": "markdown",
   "metadata": {},
   "source": [
    "By default, we initialize the lookup table so for a given clade each subsplit is equally likely. We then can use this table to generate random trees."
   ]
  },
  {
   "cell_type": "code",
   "execution_count": 19,
   "metadata": {
    "scrolled": false
   },
   "outputs": [
    {
     "data": {
      "image/svg+xml": [
       "<?xml version=\"1.0\" encoding=\"utf-8\"?>\n",
       "<svg xmlns=\"http://www.w3.org/2000/svg\" xmlns:xlink=\"http://www.w3.org/1999/xlink\" width=\"600\" height=\"400\" viewBox=\"0 0 2400 1600\">\n",
       "<defs>\n",
       "  <clipPath id=\"clip220\">\n",
       "    <rect x=\"0\" y=\"0\" width=\"2400\" height=\"1600\"/>\n",
       "  </clipPath>\n",
       "</defs>\n",
       "<path clip-path=\"url(#clip220)\" d=\"\n",
       "M0 1600 L2400 1600 L2400 0 L0 0  Z\n",
       "  \" fill=\"#ffffff\" fill-rule=\"evenodd\" fill-opacity=\"1\"/>\n",
       "<defs>\n",
       "  <clipPath id=\"clip221\">\n",
       "    <rect x=\"480\" y=\"0\" width=\"1681\" height=\"1600\"/>\n",
       "  </clipPath>\n",
       "</defs>\n",
       "<path clip-path=\"url(#clip220)\" d=\"\n",
       "M148.334 1486.45 L2352.76 1486.45 L2352.76 47.2441 L148.334 47.2441  Z\n",
       "  \" fill=\"#ffffff\" fill-rule=\"evenodd\" fill-opacity=\"1\"/>\n",
       "<defs>\n",
       "  <clipPath id=\"clip222\">\n",
       "    <rect x=\"148\" y=\"47\" width=\"2205\" height=\"1440\"/>\n",
       "  </clipPath>\n",
       "</defs>\n",
       "<polyline clip-path=\"url(#clip222)\" style=\"stroke:#000000; stroke-width:2; stroke-opacity:0.1; fill:none\" points=\"\n",
       "  210.724,1486.45 210.724,47.2441 \n",
       "  \"/>\n",
       "<polyline clip-path=\"url(#clip222)\" style=\"stroke:#000000; stroke-width:2; stroke-opacity:0.1; fill:none\" points=\"\n",
       "  730.634,1486.45 730.634,47.2441 \n",
       "  \"/>\n",
       "<polyline clip-path=\"url(#clip222)\" style=\"stroke:#000000; stroke-width:2; stroke-opacity:0.1; fill:none\" points=\"\n",
       "  1250.55,1486.45 1250.55,47.2441 \n",
       "  \"/>\n",
       "<polyline clip-path=\"url(#clip222)\" style=\"stroke:#000000; stroke-width:2; stroke-opacity:0.1; fill:none\" points=\"\n",
       "  1770.46,1486.45 1770.46,47.2441 \n",
       "  \"/>\n",
       "<polyline clip-path=\"url(#clip222)\" style=\"stroke:#000000; stroke-width:2; stroke-opacity:0.1; fill:none\" points=\"\n",
       "  2290.37,1486.45 2290.37,47.2441 \n",
       "  \"/>\n",
       "<polyline clip-path=\"url(#clip220)\" style=\"stroke:#000000; stroke-width:4; stroke-opacity:1; fill:none\" points=\"\n",
       "  148.334,1486.45 2352.76,1486.45 \n",
       "  \"/>\n",
       "<polyline clip-path=\"url(#clip220)\" style=\"stroke:#000000; stroke-width:4; stroke-opacity:1; fill:none\" points=\"\n",
       "  210.724,1486.45 210.724,1469.18 \n",
       "  \"/>\n",
       "<polyline clip-path=\"url(#clip220)\" style=\"stroke:#000000; stroke-width:4; stroke-opacity:1; fill:none\" points=\"\n",
       "  730.634,1486.45 730.634,1469.18 \n",
       "  \"/>\n",
       "<polyline clip-path=\"url(#clip220)\" style=\"stroke:#000000; stroke-width:4; stroke-opacity:1; fill:none\" points=\"\n",
       "  1250.55,1486.45 1250.55,1469.18 \n",
       "  \"/>\n",
       "<polyline clip-path=\"url(#clip220)\" style=\"stroke:#000000; stroke-width:4; stroke-opacity:1; fill:none\" points=\"\n",
       "  1770.46,1486.45 1770.46,1469.18 \n",
       "  \"/>\n",
       "<polyline clip-path=\"url(#clip220)\" style=\"stroke:#000000; stroke-width:4; stroke-opacity:1; fill:none\" points=\"\n",
       "  2290.37,1486.45 2290.37,1469.18 \n",
       "  \"/>\n",
       "<path clip-path=\"url(#clip220)\" d=\"M 0 0 M178.733 1515.64 Q175.122 1515.64 173.293 1519.2 Q171.488 1522.75 171.488 1529.87 Q171.488 1536.98 173.293 1540.55 Q175.122 1544.09 178.733 1544.09 Q182.367 1544.09 184.173 1540.55 Q186.002 1536.98 186.002 1529.87 Q186.002 1522.75 184.173 1519.2 Q182.367 1515.64 178.733 1515.64 M178.733 1511.93 Q184.543 1511.93 187.599 1516.54 Q190.677 1521.12 190.677 1529.87 Q190.677 1538.6 187.599 1543.21 Q184.543 1547.79 178.733 1547.79 Q172.923 1547.79 169.844 1543.21 Q166.789 1538.6 166.789 1529.87 Q166.789 1521.12 169.844 1516.54 Q172.923 1511.93 178.733 1511.93 Z\" fill=\"#000000\" fill-rule=\"evenodd\" fill-opacity=\"1\" /><path clip-path=\"url(#clip220)\" d=\"M 0 0 M195.747 1541.24 L200.631 1541.24 L200.631 1547.12 L195.747 1547.12 L195.747 1541.24 Z\" fill=\"#000000\" fill-rule=\"evenodd\" fill-opacity=\"1\" /><path clip-path=\"url(#clip220)\" d=\"M 0 0 M215.701 1515.64 Q212.089 1515.64 210.261 1519.2 Q208.455 1522.75 208.455 1529.87 Q208.455 1536.98 210.261 1540.55 Q212.089 1544.09 215.701 1544.09 Q219.335 1544.09 221.14 1540.55 Q222.969 1536.98 222.969 1529.87 Q222.969 1522.75 221.14 1519.2 Q219.335 1515.64 215.701 1515.64 M215.701 1511.93 Q221.511 1511.93 224.566 1516.54 Q227.645 1521.12 227.645 1529.87 Q227.645 1538.6 224.566 1543.21 Q221.511 1547.79 215.701 1547.79 Q209.89 1547.79 206.812 1543.21 Q203.756 1538.6 203.756 1529.87 Q203.756 1521.12 206.812 1516.54 Q209.89 1511.93 215.701 1511.93 Z\" fill=\"#000000\" fill-rule=\"evenodd\" fill-opacity=\"1\" /><path clip-path=\"url(#clip220)\" d=\"M 0 0 M242.714 1515.64 Q239.103 1515.64 237.274 1519.2 Q235.469 1522.75 235.469 1529.87 Q235.469 1536.98 237.274 1540.55 Q239.103 1544.09 242.714 1544.09 Q246.348 1544.09 248.154 1540.55 Q249.983 1536.98 249.983 1529.87 Q249.983 1522.75 248.154 1519.2 Q246.348 1515.64 242.714 1515.64 M242.714 1511.93 Q248.524 1511.93 251.58 1516.54 Q254.659 1521.12 254.659 1529.87 Q254.659 1538.6 251.58 1543.21 Q248.524 1547.79 242.714 1547.79 Q236.904 1547.79 233.825 1543.21 Q230.77 1538.6 230.77 1529.87 Q230.77 1521.12 233.825 1516.54 Q236.904 1511.93 242.714 1511.93 Z\" fill=\"#000000\" fill-rule=\"evenodd\" fill-opacity=\"1\" /><path clip-path=\"url(#clip220)\" d=\"M 0 0 M699.94 1515.64 Q696.329 1515.64 694.5 1519.2 Q692.695 1522.75 692.695 1529.87 Q692.695 1536.98 694.5 1540.55 Q696.329 1544.09 699.94 1544.09 Q703.574 1544.09 705.38 1540.55 Q707.209 1536.98 707.209 1529.87 Q707.209 1522.75 705.38 1519.2 Q703.574 1515.64 699.94 1515.64 M699.94 1511.93 Q705.75 1511.93 708.806 1516.54 Q711.885 1521.12 711.885 1529.87 Q711.885 1538.6 708.806 1543.21 Q705.75 1547.79 699.94 1547.79 Q694.13 1547.79 691.051 1543.21 Q687.996 1538.6 687.996 1529.87 Q687.996 1521.12 691.051 1516.54 Q694.13 1511.93 699.94 1511.93 Z\" fill=\"#000000\" fill-rule=\"evenodd\" fill-opacity=\"1\" /><path clip-path=\"url(#clip220)\" d=\"M 0 0 M716.954 1541.24 L721.838 1541.24 L721.838 1547.12 L716.954 1547.12 L716.954 1541.24 Z\" fill=\"#000000\" fill-rule=\"evenodd\" fill-opacity=\"1\" /><path clip-path=\"url(#clip220)\" d=\"M 0 0 M730.935 1543.18 L747.255 1543.18 L747.255 1547.12 L725.31 1547.12 L725.31 1543.18 Q727.972 1540.43 732.556 1535.8 Q737.162 1531.15 738.343 1529.81 Q740.588 1527.28 741.468 1525.55 Q742.37 1523.79 742.37 1522.1 Q742.37 1519.34 740.426 1517.61 Q738.505 1515.87 735.403 1515.87 Q733.204 1515.87 730.75 1516.63 Q728.32 1517.4 725.542 1518.95 L725.542 1514.23 Q728.366 1513.09 730.82 1512.51 Q733.273 1511.93 735.31 1511.93 Q740.681 1511.93 743.875 1514.62 Q747.07 1517.31 747.07 1521.8 Q747.07 1523.93 746.259 1525.85 Q745.472 1527.74 743.366 1530.34 Q742.787 1531.01 739.685 1534.23 Q736.583 1537.42 730.935 1543.18 Z\" fill=\"#000000\" fill-rule=\"evenodd\" fill-opacity=\"1\" /><path clip-path=\"url(#clip220)\" d=\"M 0 0 M752.37 1512.56 L770.727 1512.56 L770.727 1516.5 L756.653 1516.5 L756.653 1524.97 Q757.671 1524.62 758.69 1524.46 Q759.708 1524.27 760.727 1524.27 Q766.514 1524.27 769.893 1527.44 Q773.273 1530.62 773.273 1536.03 Q773.273 1541.61 769.801 1544.71 Q766.329 1547.79 760.009 1547.79 Q757.833 1547.79 755.565 1547.42 Q753.319 1547.05 750.912 1546.31 L750.912 1541.61 Q752.995 1542.74 755.218 1543.3 Q757.44 1543.86 759.917 1543.86 Q763.921 1543.86 766.259 1541.75 Q768.597 1539.64 768.597 1536.03 Q768.597 1532.42 766.259 1530.31 Q763.921 1528.21 759.917 1528.21 Q758.042 1528.21 756.167 1528.62 Q754.315 1529.04 752.37 1529.92 L752.37 1512.56 Z\" fill=\"#000000\" fill-rule=\"evenodd\" fill-opacity=\"1\" /><path clip-path=\"url(#clip220)\" d=\"M 0 0 M1219.05 1515.64 Q1215.44 1515.64 1213.61 1519.2 Q1211.81 1522.75 1211.81 1529.87 Q1211.81 1536.98 1213.61 1540.55 Q1215.44 1544.09 1219.05 1544.09 Q1222.69 1544.09 1224.49 1540.55 Q1226.32 1536.98 1226.32 1529.87 Q1226.32 1522.75 1224.49 1519.2 Q1222.69 1515.64 1219.05 1515.64 M1219.05 1511.93 Q1224.86 1511.93 1227.92 1516.54 Q1231 1521.12 1231 1529.87 Q1231 1538.6 1227.92 1543.21 Q1224.86 1547.79 1219.05 1547.79 Q1213.24 1547.79 1210.16 1543.21 Q1207.11 1538.6 1207.11 1529.87 Q1207.11 1521.12 1210.16 1516.54 Q1213.24 1511.93 1219.05 1511.93 Z\" fill=\"#000000\" fill-rule=\"evenodd\" fill-opacity=\"1\" /><path clip-path=\"url(#clip220)\" d=\"M 0 0 M1236.07 1541.24 L1240.95 1541.24 L1240.95 1547.12 L1236.07 1547.12 L1236.07 1541.24 Z\" fill=\"#000000\" fill-rule=\"evenodd\" fill-opacity=\"1\" /><path clip-path=\"url(#clip220)\" d=\"M 0 0 M1246.07 1512.56 L1264.42 1512.56 L1264.42 1516.5 L1250.35 1516.5 L1250.35 1524.97 Q1251.37 1524.62 1252.39 1524.46 Q1253.4 1524.27 1254.42 1524.27 Q1260.21 1524.27 1263.59 1527.44 Q1266.97 1530.62 1266.97 1536.03 Q1266.97 1541.61 1263.5 1544.71 Q1260.02 1547.79 1253.7 1547.79 Q1251.53 1547.79 1249.26 1547.42 Q1247.02 1547.05 1244.61 1546.31 L1244.61 1541.61 Q1246.69 1542.74 1248.91 1543.3 Q1251.14 1543.86 1253.61 1543.86 Q1257.62 1543.86 1259.95 1541.75 Q1262.29 1539.64 1262.29 1536.03 Q1262.29 1532.42 1259.95 1530.31 Q1257.62 1528.21 1253.61 1528.21 Q1251.74 1528.21 1249.86 1528.62 Q1248.01 1529.04 1246.07 1529.92 L1246.07 1512.56 Z\" fill=\"#000000\" fill-rule=\"evenodd\" fill-opacity=\"1\" /><path clip-path=\"url(#clip220)\" d=\"M 0 0 M1282.04 1515.64 Q1278.43 1515.64 1276.6 1519.2 Q1274.79 1522.75 1274.79 1529.87 Q1274.79 1536.98 1276.6 1540.55 Q1278.43 1544.09 1282.04 1544.09 Q1285.67 1544.09 1287.48 1540.55 Q1289.31 1536.98 1289.31 1529.87 Q1289.31 1522.75 1287.48 1519.2 Q1285.67 1515.64 1282.04 1515.64 M1282.04 1511.93 Q1287.85 1511.93 1290.9 1516.54 Q1293.98 1521.12 1293.98 1529.87 Q1293.98 1538.6 1290.9 1543.21 Q1287.85 1547.79 1282.04 1547.79 Q1276.23 1547.79 1273.15 1543.21 Q1270.09 1538.6 1270.09 1529.87 Q1270.09 1521.12 1273.15 1516.54 Q1276.23 1511.93 1282.04 1511.93 Z\" fill=\"#000000\" fill-rule=\"evenodd\" fill-opacity=\"1\" /><path clip-path=\"url(#clip220)\" d=\"M 0 0 M1739.41 1515.64 Q1735.8 1515.64 1733.97 1519.2 Q1732.17 1522.75 1732.17 1529.87 Q1732.17 1536.98 1733.97 1540.55 Q1735.8 1544.09 1739.41 1544.09 Q1743.05 1544.09 1744.85 1540.55 Q1746.68 1536.98 1746.68 1529.87 Q1746.68 1522.75 1744.85 1519.2 Q1743.05 1515.64 1739.41 1515.64 M1739.41 1511.93 Q1745.22 1511.93 1748.28 1516.54 Q1751.36 1521.12 1751.36 1529.87 Q1751.36 1538.6 1748.28 1543.21 Q1745.22 1547.79 1739.41 1547.79 Q1733.6 1547.79 1730.53 1543.21 Q1727.47 1538.6 1727.47 1529.87 Q1727.47 1521.12 1730.53 1516.54 Q1733.6 1511.93 1739.41 1511.93 Z\" fill=\"#000000\" fill-rule=\"evenodd\" fill-opacity=\"1\" /><path clip-path=\"url(#clip220)\" d=\"M 0 0 M1756.43 1541.24 L1761.31 1541.24 L1761.31 1547.12 L1756.43 1547.12 L1756.43 1541.24 Z\" fill=\"#000000\" fill-rule=\"evenodd\" fill-opacity=\"1\" /><path clip-path=\"url(#clip220)\" d=\"M 0 0 M1765.2 1512.56 L1787.42 1512.56 L1787.42 1514.55 L1774.88 1547.12 L1769.99 1547.12 L1781.8 1516.5 L1765.2 1516.5 L1765.2 1512.56 Z\" fill=\"#000000\" fill-rule=\"evenodd\" fill-opacity=\"1\" /><path clip-path=\"url(#clip220)\" d=\"M 0 0 M1792.54 1512.56 L1810.9 1512.56 L1810.9 1516.5 L1796.82 1516.5 L1796.82 1524.97 Q1797.84 1524.62 1798.86 1524.46 Q1799.88 1524.27 1800.9 1524.27 Q1806.68 1524.27 1810.06 1527.44 Q1813.44 1530.62 1813.44 1536.03 Q1813.44 1541.61 1809.97 1544.71 Q1806.5 1547.79 1800.18 1547.79 Q1798 1547.79 1795.73 1547.42 Q1793.49 1547.05 1791.08 1546.31 L1791.08 1541.61 Q1793.16 1542.74 1795.39 1543.3 Q1797.61 1543.86 1800.09 1543.86 Q1804.09 1543.86 1806.43 1541.75 Q1808.77 1539.64 1808.77 1536.03 Q1808.77 1532.42 1806.43 1530.31 Q1804.09 1528.21 1800.09 1528.21 Q1798.21 1528.21 1796.34 1528.62 Q1794.48 1529.04 1792.54 1529.92 L1792.54 1512.56 Z\" fill=\"#000000\" fill-rule=\"evenodd\" fill-opacity=\"1\" /><path clip-path=\"url(#clip220)\" d=\"M 0 0 M2248.76 1543.18 L2256.4 1543.18 L2256.4 1516.82 L2248.09 1518.49 L2248.09 1514.23 L2256.35 1512.56 L2261.03 1512.56 L2261.03 1543.18 L2268.67 1543.18 L2268.67 1547.12 L2248.76 1547.12 L2248.76 1543.18 Z\" fill=\"#000000\" fill-rule=\"evenodd\" fill-opacity=\"1\" /><path clip-path=\"url(#clip220)\" d=\"M 0 0 M2273.73 1541.24 L2278.62 1541.24 L2278.62 1547.12 L2273.73 1547.12 L2273.73 1541.24 Z\" fill=\"#000000\" fill-rule=\"evenodd\" fill-opacity=\"1\" /><path clip-path=\"url(#clip220)\" d=\"M 0 0 M2293.69 1515.64 Q2290.08 1515.64 2288.25 1519.2 Q2286.44 1522.75 2286.44 1529.87 Q2286.44 1536.98 2288.25 1540.55 Q2290.08 1544.09 2293.69 1544.09 Q2297.32 1544.09 2299.13 1540.55 Q2300.96 1536.98 2300.96 1529.87 Q2300.96 1522.75 2299.13 1519.2 Q2297.32 1515.64 2293.69 1515.64 M2293.69 1511.93 Q2299.5 1511.93 2302.55 1516.54 Q2305.63 1521.12 2305.63 1529.87 Q2305.63 1538.6 2302.55 1543.21 Q2299.5 1547.79 2293.69 1547.79 Q2287.88 1547.79 2284.8 1543.21 Q2281.74 1538.6 2281.74 1529.87 Q2281.74 1521.12 2284.8 1516.54 Q2287.88 1511.93 2293.69 1511.93 Z\" fill=\"#000000\" fill-rule=\"evenodd\" fill-opacity=\"1\" /><path clip-path=\"url(#clip220)\" d=\"M 0 0 M2320.7 1515.64 Q2317.09 1515.64 2315.26 1519.2 Q2313.46 1522.75 2313.46 1529.87 Q2313.46 1536.98 2315.26 1540.55 Q2317.09 1544.09 2320.7 1544.09 Q2324.34 1544.09 2326.14 1540.55 Q2327.97 1536.98 2327.97 1529.87 Q2327.97 1522.75 2326.14 1519.2 Q2324.34 1515.64 2320.7 1515.64 M2320.7 1511.93 Q2326.51 1511.93 2329.57 1516.54 Q2332.65 1521.12 2332.65 1529.87 Q2332.65 1538.6 2329.57 1543.21 Q2326.51 1547.79 2320.7 1547.79 Q2314.89 1547.79 2311.81 1543.21 Q2308.76 1538.6 2308.76 1529.87 Q2308.76 1521.12 2311.81 1516.54 Q2314.89 1511.93 2320.7 1511.93 Z\" fill=\"#000000\" fill-rule=\"evenodd\" fill-opacity=\"1\" /><path clip-path=\"url(#clip220)\" d=\"M 0 0 M65.0198 1295.74 Q61.4087 1295.74 59.58 1299.31 Q57.7745 1302.85 57.7745 1309.98 Q57.7745 1317.08 59.58 1320.65 Q61.4087 1324.19 65.0198 1324.19 Q68.6541 1324.19 70.4596 1320.65 Q72.2883 1317.08 72.2883 1309.98 Q72.2883 1302.85 70.4596 1299.31 Q68.6541 1295.74 65.0198 1295.74 M65.0198 1292.04 Q70.83 1292.04 73.8855 1296.64 Q76.9642 1301.23 76.9642 1309.98 Q76.9642 1318.7 73.8855 1323.31 Q70.83 1327.89 65.0198 1327.89 Q59.2097 1327.89 56.131 1323.31 Q53.0754 1318.7 53.0754 1309.98 Q53.0754 1301.23 56.131 1296.64 Q59.2097 1292.04 65.0198 1292.04 Z\" fill=\"#000000\" fill-rule=\"evenodd\" fill-opacity=\"1\" /><path clip-path=\"url(#clip220)\" d=\"M 0 0 M82.0336 1321.34 L86.9179 1321.34 L86.9179 1327.22 L82.0336 1327.22 L82.0336 1321.34 Z\" fill=\"#000000\" fill-rule=\"evenodd\" fill-opacity=\"1\" /><path clip-path=\"url(#clip220)\" d=\"M 0 0 M96.015 1323.29 L112.334 1323.29 L112.334 1327.22 L90.3901 1327.22 L90.3901 1323.29 Q93.0521 1320.53 97.6354 1315.9 Q102.242 1311.25 103.422 1309.91 Q105.668 1307.38 106.547 1305.65 Q107.45 1303.89 107.45 1302.2 Q107.45 1299.44 105.506 1297.71 Q103.584 1295.97 100.483 1295.97 Q98.2835 1295.97 95.8298 1296.74 Q93.3993 1297.5 90.6215 1299.05 L90.6215 1294.33 Q93.4456 1293.19 95.8993 1292.62 Q98.353 1292.04 100.39 1292.04 Q105.76 1292.04 108.955 1294.72 Q112.149 1297.41 112.149 1301.9 Q112.149 1304.03 111.339 1305.95 Q110.552 1307.85 108.446 1310.44 Q107.867 1311.11 104.765 1314.33 Q101.663 1317.52 96.015 1323.29 Z\" fill=\"#000000\" fill-rule=\"evenodd\" fill-opacity=\"1\" /><path clip-path=\"url(#clip220)\" d=\"M 0 0 M64.0708 1114.71 Q60.4597 1114.71 58.631 1118.27 Q56.8254 1121.81 56.8254 1128.94 Q56.8254 1136.05 58.631 1139.62 Q60.4597 1143.16 64.0708 1143.16 Q67.705 1143.16 69.5105 1139.62 Q71.3392 1136.05 71.3392 1128.94 Q71.3392 1121.81 69.5105 1118.27 Q67.705 1114.71 64.0708 1114.71 M64.0708 1111 Q69.8809 1111 72.9365 1115.61 Q76.0151 1120.19 76.0151 1128.94 Q76.0151 1137.67 72.9365 1142.28 Q69.8809 1146.86 64.0708 1146.86 Q58.2606 1146.86 55.1819 1142.28 Q52.1264 1137.67 52.1264 1128.94 Q52.1264 1120.19 55.1819 1115.61 Q58.2606 1111 64.0708 1111 Z\" fill=\"#000000\" fill-rule=\"evenodd\" fill-opacity=\"1\" /><path clip-path=\"url(#clip220)\" d=\"M 0 0 M81.0846 1140.31 L85.9688 1140.31 L85.9688 1146.19 L81.0846 1146.19 L81.0846 1140.31 Z\" fill=\"#000000\" fill-rule=\"evenodd\" fill-opacity=\"1\" /><path clip-path=\"url(#clip220)\" d=\"M 0 0 M105.205 1127.56 Q108.561 1128.27 110.436 1130.54 Q112.334 1132.81 112.334 1136.14 Q112.334 1141.26 108.816 1144.06 Q105.297 1146.86 98.8159 1146.86 Q96.64 1146.86 94.3252 1146.42 Q92.0336 1146 89.5799 1145.15 L89.5799 1140.63 Q91.5243 1141.77 93.8391 1142.35 Q96.1539 1142.93 98.6771 1142.93 Q103.075 1142.93 105.367 1141.19 Q107.682 1139.45 107.682 1136.14 Q107.682 1133.09 105.529 1131.38 Q103.399 1129.64 99.5798 1129.64 L95.5521 1129.64 L95.5521 1125.8 L99.765 1125.8 Q103.214 1125.8 105.043 1124.43 Q106.871 1123.04 106.871 1120.45 Q106.871 1117.79 104.973 1116.38 Q103.098 1114.94 99.5798 1114.94 Q97.6585 1114.94 95.4595 1115.36 Q93.2604 1115.77 90.6215 1116.65 L90.6215 1112.49 Q93.2836 1111.75 95.5984 1111.38 Q97.9363 1111 99.9965 1111 Q105.321 1111 108.422 1113.44 Q111.524 1115.84 111.524 1119.96 Q111.524 1122.83 109.881 1124.82 Q108.237 1126.79 105.205 1127.56 Z\" fill=\"#000000\" fill-rule=\"evenodd\" fill-opacity=\"1\" /><path clip-path=\"url(#clip220)\" d=\"M 0 0 M62.9365 933.677 Q59.3254 933.677 57.4967 937.241 Q55.6912 940.783 55.6912 947.913 Q55.6912 955.019 57.4967 958.584 Q59.3254 962.126 62.9365 962.126 Q66.5707 962.126 68.3763 958.584 Q70.205 955.019 70.205 947.913 Q70.205 940.783 68.3763 937.241 Q66.5707 933.677 62.9365 933.677 M62.9365 929.973 Q68.7467 929.973 71.8022 934.579 Q74.8809 939.163 74.8809 947.913 Q74.8809 956.639 71.8022 961.246 Q68.7467 965.829 62.9365 965.829 Q57.1264 965.829 54.0477 961.246 Q50.9921 956.639 50.9921 947.913 Q50.9921 939.163 54.0477 934.579 Q57.1264 929.973 62.9365 929.973 Z\" fill=\"#000000\" fill-rule=\"evenodd\" fill-opacity=\"1\" /><path clip-path=\"url(#clip220)\" d=\"M 0 0 M79.9503 959.278 L84.8345 959.278 L84.8345 965.158 L79.9503 965.158 L79.9503 959.278 Z\" fill=\"#000000\" fill-rule=\"evenodd\" fill-opacity=\"1\" /><path clip-path=\"url(#clip220)\" d=\"M 0 0 M102.751 934.672 L90.9456 953.121 L102.751 953.121 L102.751 934.672 M101.524 930.598 L107.404 930.598 L107.404 953.121 L112.334 953.121 L112.334 957.01 L107.404 957.01 L107.404 965.158 L102.751 965.158 L102.751 957.01 L87.1493 957.01 L87.1493 952.496 L101.524 930.598 Z\" fill=\"#000000\" fill-rule=\"evenodd\" fill-opacity=\"1\" /><path clip-path=\"url(#clip220)\" d=\"M 0 0 M64.418 752.645 Q60.8069 752.645 58.9782 756.209 Q57.1726 759.751 57.1726 766.881 Q57.1726 773.987 58.9782 777.552 Q60.8069 781.094 64.418 781.094 Q68.0522 781.094 69.8578 777.552 Q71.6865 773.987 71.6865 766.881 Q71.6865 759.751 69.8578 756.209 Q68.0522 752.645 64.418 752.645 M64.418 748.941 Q70.2281 748.941 73.2837 753.547 Q76.3624 758.131 76.3624 766.881 Q76.3624 775.608 73.2837 780.214 Q70.2281 784.797 64.418 784.797 Q58.6078 784.797 55.5291 780.214 Q52.4736 775.608 52.4736 766.881 Q52.4736 758.131 55.5291 753.547 Q58.6078 748.941 64.418 748.941 Z\" fill=\"#000000\" fill-rule=\"evenodd\" fill-opacity=\"1\" /><path clip-path=\"url(#clip220)\" d=\"M 0 0 M81.4318 778.246 L86.316 778.246 L86.316 784.126 L81.4318 784.126 L81.4318 778.246 Z\" fill=\"#000000\" fill-rule=\"evenodd\" fill-opacity=\"1\" /><path clip-path=\"url(#clip220)\" d=\"M 0 0 M91.4317 749.566 L109.788 749.566 L109.788 753.501 L95.7141 753.501 L95.7141 761.973 Q96.7326 761.626 97.7511 761.464 Q98.7696 761.279 99.7882 761.279 Q105.575 761.279 108.955 764.45 Q112.334 767.621 112.334 773.038 Q112.334 778.617 108.862 781.719 Q105.39 784.797 99.0706 784.797 Q96.8947 784.797 94.6262 784.427 Q92.3808 784.057 89.9734 783.316 L89.9734 778.617 Q92.0567 779.751 94.2789 780.307 Q96.5011 780.862 98.978 780.862 Q102.983 780.862 105.321 778.756 Q107.658 776.649 107.658 773.038 Q107.658 769.427 105.321 767.321 Q102.983 765.214 98.978 765.214 Q97.103 765.214 95.228 765.631 Q93.3762 766.047 91.4317 766.927 L91.4317 749.566 Z\" fill=\"#000000\" fill-rule=\"evenodd\" fill-opacity=\"1\" /><path clip-path=\"url(#clip220)\" d=\"M 0 0 M63.2606 571.613 Q59.6495 571.613 57.8208 575.178 Q56.0152 578.719 56.0152 585.849 Q56.0152 592.955 57.8208 596.52 Q59.6495 600.062 63.2606 600.062 Q66.8948 600.062 68.7004 596.52 Q70.5291 592.955 70.5291 585.849 Q70.5291 578.719 68.7004 575.178 Q66.8948 571.613 63.2606 571.613 M63.2606 567.909 Q69.0707 567.909 72.1263 572.516 Q75.205 577.099 75.205 585.849 Q75.205 594.576 72.1263 599.182 Q69.0707 603.765 63.2606 603.765 Q57.4504 603.765 54.3717 599.182 Q51.3162 594.576 51.3162 585.849 Q51.3162 577.099 54.3717 572.516 Q57.4504 567.909 63.2606 567.909 Z\" fill=\"#000000\" fill-rule=\"evenodd\" fill-opacity=\"1\" /><path clip-path=\"url(#clip220)\" d=\"M 0 0 M80.2744 597.214 L85.1586 597.214 L85.1586 603.094 L80.2744 603.094 L80.2744 597.214 Z\" fill=\"#000000\" fill-rule=\"evenodd\" fill-opacity=\"1\" /><path clip-path=\"url(#clip220)\" d=\"M 0 0 M100.807 583.951 Q97.6585 583.951 95.8067 586.103 Q93.978 588.256 93.978 592.006 Q93.978 595.733 95.8067 597.909 Q97.6585 600.062 100.807 600.062 Q103.955 600.062 105.783 597.909 Q107.635 595.733 107.635 592.006 Q107.635 588.256 105.783 586.103 Q103.955 583.951 100.807 583.951 M110.089 569.298 L110.089 573.557 Q108.33 572.724 106.524 572.284 Q104.742 571.844 102.983 571.844 Q98.353 571.844 95.8993 574.969 Q93.4688 578.094 93.1215 584.414 Q94.4873 582.4 96.5474 581.335 Q98.6076 580.247 101.084 580.247 Q106.293 580.247 109.302 583.418 Q112.334 586.566 112.334 592.006 Q112.334 597.33 109.186 600.548 Q106.038 603.765 100.807 603.765 Q94.8113 603.765 91.6401 599.182 Q88.4688 594.576 88.4688 585.849 Q88.4688 577.654 92.3576 572.793 Q96.2465 567.909 102.797 567.909 Q104.557 567.909 106.339 568.256 Q108.145 568.604 110.089 569.298 Z\" fill=\"#000000\" fill-rule=\"evenodd\" fill-opacity=\"1\" /><path clip-path=\"url(#clip220)\" d=\"M 0 0 M64.3254 390.581 Q60.7143 390.581 58.8856 394.146 Q57.0801 397.687 57.0801 404.817 Q57.0801 411.923 58.8856 415.488 Q60.7143 419.03 64.3254 419.03 Q67.9596 419.03 69.7652 415.488 Q71.5939 411.923 71.5939 404.817 Q71.5939 397.687 69.7652 394.146 Q67.9596 390.581 64.3254 390.581 M64.3254 386.877 Q70.1355 386.877 73.1911 391.484 Q76.2698 396.067 76.2698 404.817 Q76.2698 413.544 73.1911 418.15 Q70.1355 422.733 64.3254 422.733 Q58.5152 422.733 55.4365 418.15 Q52.381 413.544 52.381 404.817 Q52.381 396.067 55.4365 391.484 Q58.5152 386.877 64.3254 386.877 Z\" fill=\"#000000\" fill-rule=\"evenodd\" fill-opacity=\"1\" /><path clip-path=\"url(#clip220)\" d=\"M 0 0 M81.3392 416.183 L86.2234 416.183 L86.2234 422.062 L81.3392 422.062 L81.3392 416.183 Z\" fill=\"#000000\" fill-rule=\"evenodd\" fill-opacity=\"1\" /><path clip-path=\"url(#clip220)\" d=\"M 0 0 M90.1123 387.502 L112.334 387.502 L112.334 389.493 L99.7882 422.062 L94.9039 422.062 L106.709 391.437 L90.1123 391.437 L90.1123 387.502 Z\" fill=\"#000000\" fill-rule=\"evenodd\" fill-opacity=\"1\" /><path clip-path=\"url(#clip220)\" d=\"M 0 0 M63.5152 209.549 Q59.9041 209.549 58.0754 213.114 Q56.2699 216.655 56.2699 223.785 Q56.2699 230.891 58.0754 234.456 Q59.9041 237.998 63.5152 237.998 Q67.1494 237.998 68.955 234.456 Q70.7837 230.891 70.7837 223.785 Q70.7837 216.655 68.955 213.114 Q67.1494 209.549 63.5152 209.549 M63.5152 205.845 Q69.3254 205.845 72.3809 210.452 Q75.4596 215.035 75.4596 223.785 Q75.4596 232.512 72.3809 237.118 Q69.3254 241.702 63.5152 241.702 Q57.7051 241.702 54.6264 237.118 Q51.5708 232.512 51.5708 223.785 Q51.5708 215.035 54.6264 210.452 Q57.7051 205.845 63.5152 205.845 Z\" fill=\"#000000\" fill-rule=\"evenodd\" fill-opacity=\"1\" /><path clip-path=\"url(#clip220)\" d=\"M 0 0 M80.529 235.151 L85.4132 235.151 L85.4132 241.03 L80.529 241.03 L80.529 235.151 Z\" fill=\"#000000\" fill-rule=\"evenodd\" fill-opacity=\"1\" /><path clip-path=\"url(#clip220)\" d=\"M 0 0 M100.483 224.618 Q97.1493 224.618 95.228 226.401 Q93.3299 228.183 93.3299 231.308 Q93.3299 234.433 95.228 236.215 Q97.1493 237.998 100.483 237.998 Q103.816 237.998 105.737 236.215 Q107.658 234.41 107.658 231.308 Q107.658 228.183 105.737 226.401 Q103.839 224.618 100.483 224.618 M95.8067 222.628 Q92.7975 221.887 91.1077 219.827 Q89.441 217.766 89.441 214.804 Q89.441 210.66 92.3808 208.253 Q95.3437 205.845 100.483 205.845 Q105.645 205.845 108.584 208.253 Q111.524 210.66 111.524 214.804 Q111.524 217.766 109.834 219.827 Q108.168 221.887 105.182 222.628 Q108.561 223.415 110.436 225.706 Q112.334 227.998 112.334 231.308 Q112.334 236.331 109.256 239.016 Q106.2 241.702 100.483 241.702 Q94.765 241.702 91.6864 239.016 Q88.6308 236.331 88.6308 231.308 Q88.6308 227.998 90.529 225.706 Q92.4271 223.415 95.8067 222.628 M94.0937 215.243 Q94.0937 217.928 95.7604 219.433 Q97.4502 220.938 100.483 220.938 Q103.492 220.938 105.182 219.433 Q106.895 217.928 106.895 215.243 Q106.895 212.558 105.182 211.054 Q103.492 209.549 100.483 209.549 Q97.4502 209.549 95.7604 211.054 Q94.0937 212.558 94.0937 215.243 Z\" fill=\"#000000\" fill-rule=\"evenodd\" fill-opacity=\"1\" /><polyline clip-path=\"url(#clip222)\" style=\"stroke:#000000; stroke-width:4; stroke-opacity:1; fill:none\" points=\"\n",
       "  903.938,993.136 210.724,993.136 210.724,766.846 \n",
       "  \"/>\n",
       "<polyline clip-path=\"url(#clip222)\" style=\"stroke:#000000; stroke-width:4; stroke-opacity:1; fill:none\" points=\"\n",
       "  2290.37,87.9763 210.724,87.9763 210.724,766.846 \n",
       "  \"/>\n",
       "<polyline clip-path=\"url(#clip222)\" style=\"stroke:#000000; stroke-width:4; stroke-opacity:1; fill:none\" points=\"\n",
       "  1597.15,1219.43 903.938,1219.43 903.938,993.136 \n",
       "  \"/>\n",
       "<polyline clip-path=\"url(#clip222)\" style=\"stroke:#000000; stroke-width:4; stroke-opacity:1; fill:none\" points=\"\n",
       "  2290.37,540.556 903.938,540.556 903.938,993.136 \n",
       "  \"/>\n",
       "<polyline clip-path=\"url(#clip222)\" style=\"stroke:#000000; stroke-width:4; stroke-opacity:1; fill:none\" points=\"\n",
       "  2290.37,1445.72 1597.15,1445.72 1597.15,1219.43 \n",
       "  \"/>\n",
       "<polyline clip-path=\"url(#clip222)\" style=\"stroke:#000000; stroke-width:4; stroke-opacity:1; fill:none\" points=\"\n",
       "  2290.37,993.136 1597.15,993.136 1597.15,1219.43 \n",
       "  \"/>\n",
       "<path clip-path=\"url(#clip222)\" d=\"M2290.37 75.9763 L2278.37 87.9763 L2290.37 99.9763 L2302.37 87.9763 L2290.37 75.9763 Z\" fill=\"#ed5d92\" fill-rule=\"evenodd\" fill-opacity=\"1\" stroke=\"#000000\" stroke-opacity=\"1\" stroke-width=\"3.2\"/>\n",
       "<path clip-path=\"url(#clip222)\" d=\"M2290.37 528.556 L2278.37 540.556 L2290.37 552.556 L2302.37 540.556 L2290.37 528.556 Z\" fill=\"#ed5d92\" fill-rule=\"evenodd\" fill-opacity=\"1\" stroke=\"#000000\" stroke-opacity=\"1\" stroke-width=\"3.2\"/>\n",
       "<path clip-path=\"url(#clip222)\" d=\"M2290.37 1433.72 L2278.37 1445.72 L2290.37 1457.72 L2302.37 1445.72 L2290.37 1433.72 Z\" fill=\"#ed5d92\" fill-rule=\"evenodd\" fill-opacity=\"1\" stroke=\"#000000\" stroke-opacity=\"1\" stroke-width=\"3.2\"/>\n",
       "<path clip-path=\"url(#clip222)\" d=\"M2290.37 981.136 L2278.37 993.136 L2290.37 1005.14 L2302.37 993.136 L2290.37 981.136 Z\" fill=\"#ed5d92\" fill-rule=\"evenodd\" fill-opacity=\"1\" stroke=\"#000000\" stroke-opacity=\"1\" stroke-width=\"3.2\"/>\n",
       "<path clip-path=\"url(#clip220)\" d=\"M 0 0 M2339.49 89.3333 L2339.49 111.492 L2352.61 111.492 Q2359.22 111.492 2362.38 108.778 Q2365.58 106.023 2365.58 100.392 Q2365.58 94.721 2362.38 92.0474 Q2359.22 89.3333 2352.61 89.3333 L2339.49 89.3333 M2339.49 64.4608 L2339.49 82.6898 L2351.6 82.6898 Q2357.6 82.6898 2360.51 80.4618 Q2363.47 78.1933 2363.47 73.5753 Q2363.47 68.9978 2360.51 66.7293 Q2357.6 64.4608 2351.6 64.4608 L2339.49 64.4608 M2331.31 57.7363 L2352.21 57.7363 Q2361.57 57.7363 2366.63 61.6251 Q2371.69 65.514 2371.69 72.6841 Q2371.69 78.2339 2369.1 81.5151 Q2366.51 84.7963 2361.49 85.6065 Q2367.52 86.9028 2370.84 91.0347 Q2374.21 95.1261 2374.21 101.283 Q2374.21 109.385 2368.7 113.801 Q2363.19 118.216 2353.02 118.216 L2331.31 118.216 L2331.31 57.7363 Z\" fill=\"#000000\" fill-rule=\"evenodd\" fill-opacity=\"1\" /><path clip-path=\"url(#clip220)\" d=\"M 0 0 M2335.52 517.041 L2335.52 564.072 L2345.4 564.072 Q2357.92 564.072 2363.71 558.4 Q2369.55 552.729 2369.55 540.495 Q2369.55 528.343 2363.71 522.712 Q2357.92 517.041 2345.4 517.041 L2335.52 517.041 M2327.34 510.316 L2344.15 510.316 Q2361.73 510.316 2369.95 517.648 Q2378.18 524.94 2378.18 540.495 Q2378.18 556.132 2369.91 563.464 Q2361.65 570.796 2344.15 570.796 L2327.34 570.796 L2327.34 510.316 Z\" fill=\"#000000\" fill-rule=\"evenodd\" fill-opacity=\"1\" /><path clip-path=\"url(#clip220)\" d=\"M 0 0 M2352.76 1423.54 L2341.66 1453.64 L2363.9 1453.64 L2352.76 1423.54 M2348.14 1415.48 L2357.41 1415.48 L2380.46 1475.96 L2371.96 1475.96 L2366.45 1460.44 L2339.19 1460.44 L2333.68 1475.96 L2325.05 1475.96 L2348.14 1415.48 Z\" fill=\"#000000\" fill-rule=\"evenodd\" fill-opacity=\"1\" /><path clip-path=\"url(#clip220)\" d=\"M 0 0 M2377.14 967.554 L2377.14 976.183 Q2373.01 972.334 2368.31 970.431 Q2363.65 968.527 2358.39 968.527 Q2348.02 968.527 2342.51 974.887 Q2337 981.206 2337 993.197 Q2337 1005.15 2342.51 1011.51 Q2348.02 1017.83 2358.39 1017.83 Q2363.65 1017.83 2368.31 1015.92 Q2373.01 1014.02 2377.14 1010.17 L2377.14 1018.72 Q2372.85 1021.63 2368.03 1023.09 Q2363.25 1024.55 2357.9 1024.55 Q2344.17 1024.55 2336.27 1016.17 Q2328.37 1007.74 2328.37 993.197 Q2328.37 978.613 2336.27 970.228 Q2344.17 961.802 2357.9 961.802 Q2363.33 961.802 2368.11 963.26 Q2372.93 964.678 2377.14 967.554 Z\" fill=\"#000000\" fill-rule=\"evenodd\" fill-opacity=\"1\" /></svg>\n"
      ]
     },
     "execution_count": 19,
     "metadata": {},
     "output_type": "execute_result"
    }
   ],
   "source": [
    "rand_tree, lprob = VBPILookup.rsbn(leaves, table, 1, length(leaves)-1)\n",
    "VBPILookup.Sbn.plot_and_annotate(rand_tree)"
   ]
  },
  {
   "cell_type": "code",
   "execution_count": 20,
   "metadata": {
    "scrolled": false
   },
   "outputs": [
    {
     "data": {
      "image/svg+xml": [
       "<?xml version=\"1.0\" encoding=\"utf-8\"?>\n",
       "<svg xmlns=\"http://www.w3.org/2000/svg\" xmlns:xlink=\"http://www.w3.org/1999/xlink\" width=\"600\" height=\"400\" viewBox=\"0 0 2400 1600\">\n",
       "<defs>\n",
       "  <clipPath id=\"clip260\">\n",
       "    <rect x=\"0\" y=\"0\" width=\"2400\" height=\"1600\"/>\n",
       "  </clipPath>\n",
       "</defs>\n",
       "<path clip-path=\"url(#clip260)\" d=\"\n",
       "M0 1600 L2400 1600 L2400 0 L0 0  Z\n",
       "  \" fill=\"#ffffff\" fill-rule=\"evenodd\" fill-opacity=\"1\"/>\n",
       "<defs>\n",
       "  <clipPath id=\"clip261\">\n",
       "    <rect x=\"480\" y=\"0\" width=\"1681\" height=\"1600\"/>\n",
       "  </clipPath>\n",
       "</defs>\n",
       "<path clip-path=\"url(#clip260)\" d=\"\n",
       "M148.334 1486.45 L2352.76 1486.45 L2352.76 47.2441 L148.334 47.2441  Z\n",
       "  \" fill=\"#ffffff\" fill-rule=\"evenodd\" fill-opacity=\"1\"/>\n",
       "<defs>\n",
       "  <clipPath id=\"clip262\">\n",
       "    <rect x=\"148\" y=\"47\" width=\"2205\" height=\"1440\"/>\n",
       "  </clipPath>\n",
       "</defs>\n",
       "<polyline clip-path=\"url(#clip262)\" style=\"stroke:#000000; stroke-width:2; stroke-opacity:0.1; fill:none\" points=\"\n",
       "  210.724,1486.45 210.724,47.2441 \n",
       "  \"/>\n",
       "<polyline clip-path=\"url(#clip262)\" style=\"stroke:#000000; stroke-width:2; stroke-opacity:0.1; fill:none\" points=\"\n",
       "  730.634,1486.45 730.634,47.2441 \n",
       "  \"/>\n",
       "<polyline clip-path=\"url(#clip262)\" style=\"stroke:#000000; stroke-width:2; stroke-opacity:0.1; fill:none\" points=\"\n",
       "  1250.55,1486.45 1250.55,47.2441 \n",
       "  \"/>\n",
       "<polyline clip-path=\"url(#clip262)\" style=\"stroke:#000000; stroke-width:2; stroke-opacity:0.1; fill:none\" points=\"\n",
       "  1770.46,1486.45 1770.46,47.2441 \n",
       "  \"/>\n",
       "<polyline clip-path=\"url(#clip262)\" style=\"stroke:#000000; stroke-width:2; stroke-opacity:0.1; fill:none\" points=\"\n",
       "  2290.37,1486.45 2290.37,47.2441 \n",
       "  \"/>\n",
       "<polyline clip-path=\"url(#clip260)\" style=\"stroke:#000000; stroke-width:4; stroke-opacity:1; fill:none\" points=\"\n",
       "  148.334,1486.45 2352.76,1486.45 \n",
       "  \"/>\n",
       "<polyline clip-path=\"url(#clip260)\" style=\"stroke:#000000; stroke-width:4; stroke-opacity:1; fill:none\" points=\"\n",
       "  210.724,1486.45 210.724,1469.18 \n",
       "  \"/>\n",
       "<polyline clip-path=\"url(#clip260)\" style=\"stroke:#000000; stroke-width:4; stroke-opacity:1; fill:none\" points=\"\n",
       "  730.634,1486.45 730.634,1469.18 \n",
       "  \"/>\n",
       "<polyline clip-path=\"url(#clip260)\" style=\"stroke:#000000; stroke-width:4; stroke-opacity:1; fill:none\" points=\"\n",
       "  1250.55,1486.45 1250.55,1469.18 \n",
       "  \"/>\n",
       "<polyline clip-path=\"url(#clip260)\" style=\"stroke:#000000; stroke-width:4; stroke-opacity:1; fill:none\" points=\"\n",
       "  1770.46,1486.45 1770.46,1469.18 \n",
       "  \"/>\n",
       "<polyline clip-path=\"url(#clip260)\" style=\"stroke:#000000; stroke-width:4; stroke-opacity:1; fill:none\" points=\"\n",
       "  2290.37,1486.45 2290.37,1469.18 \n",
       "  \"/>\n",
       "<path clip-path=\"url(#clip260)\" d=\"M 0 0 M178.733 1515.64 Q175.122 1515.64 173.293 1519.2 Q171.488 1522.75 171.488 1529.87 Q171.488 1536.98 173.293 1540.55 Q175.122 1544.09 178.733 1544.09 Q182.367 1544.09 184.173 1540.55 Q186.002 1536.98 186.002 1529.87 Q186.002 1522.75 184.173 1519.2 Q182.367 1515.64 178.733 1515.64 M178.733 1511.93 Q184.543 1511.93 187.599 1516.54 Q190.677 1521.12 190.677 1529.87 Q190.677 1538.6 187.599 1543.21 Q184.543 1547.79 178.733 1547.79 Q172.923 1547.79 169.844 1543.21 Q166.789 1538.6 166.789 1529.87 Q166.789 1521.12 169.844 1516.54 Q172.923 1511.93 178.733 1511.93 Z\" fill=\"#000000\" fill-rule=\"evenodd\" fill-opacity=\"1\" /><path clip-path=\"url(#clip260)\" d=\"M 0 0 M195.747 1541.24 L200.631 1541.24 L200.631 1547.12 L195.747 1547.12 L195.747 1541.24 Z\" fill=\"#000000\" fill-rule=\"evenodd\" fill-opacity=\"1\" /><path clip-path=\"url(#clip260)\" d=\"M 0 0 M215.701 1515.64 Q212.089 1515.64 210.261 1519.2 Q208.455 1522.75 208.455 1529.87 Q208.455 1536.98 210.261 1540.55 Q212.089 1544.09 215.701 1544.09 Q219.335 1544.09 221.14 1540.55 Q222.969 1536.98 222.969 1529.87 Q222.969 1522.75 221.14 1519.2 Q219.335 1515.64 215.701 1515.64 M215.701 1511.93 Q221.511 1511.93 224.566 1516.54 Q227.645 1521.12 227.645 1529.87 Q227.645 1538.6 224.566 1543.21 Q221.511 1547.79 215.701 1547.79 Q209.89 1547.79 206.812 1543.21 Q203.756 1538.6 203.756 1529.87 Q203.756 1521.12 206.812 1516.54 Q209.89 1511.93 215.701 1511.93 Z\" fill=\"#000000\" fill-rule=\"evenodd\" fill-opacity=\"1\" /><path clip-path=\"url(#clip260)\" d=\"M 0 0 M242.714 1515.64 Q239.103 1515.64 237.274 1519.2 Q235.469 1522.75 235.469 1529.87 Q235.469 1536.98 237.274 1540.55 Q239.103 1544.09 242.714 1544.09 Q246.348 1544.09 248.154 1540.55 Q249.983 1536.98 249.983 1529.87 Q249.983 1522.75 248.154 1519.2 Q246.348 1515.64 242.714 1515.64 M242.714 1511.93 Q248.524 1511.93 251.58 1516.54 Q254.659 1521.12 254.659 1529.87 Q254.659 1538.6 251.58 1543.21 Q248.524 1547.79 242.714 1547.79 Q236.904 1547.79 233.825 1543.21 Q230.77 1538.6 230.77 1529.87 Q230.77 1521.12 233.825 1516.54 Q236.904 1511.93 242.714 1511.93 Z\" fill=\"#000000\" fill-rule=\"evenodd\" fill-opacity=\"1\" /><path clip-path=\"url(#clip260)\" d=\"M 0 0 M699.94 1515.64 Q696.329 1515.64 694.5 1519.2 Q692.695 1522.75 692.695 1529.87 Q692.695 1536.98 694.5 1540.55 Q696.329 1544.09 699.94 1544.09 Q703.574 1544.09 705.38 1540.55 Q707.209 1536.98 707.209 1529.87 Q707.209 1522.75 705.38 1519.2 Q703.574 1515.64 699.94 1515.64 M699.94 1511.93 Q705.75 1511.93 708.806 1516.54 Q711.885 1521.12 711.885 1529.87 Q711.885 1538.6 708.806 1543.21 Q705.75 1547.79 699.94 1547.79 Q694.13 1547.79 691.051 1543.21 Q687.996 1538.6 687.996 1529.87 Q687.996 1521.12 691.051 1516.54 Q694.13 1511.93 699.94 1511.93 Z\" fill=\"#000000\" fill-rule=\"evenodd\" fill-opacity=\"1\" /><path clip-path=\"url(#clip260)\" d=\"M 0 0 M716.954 1541.24 L721.838 1541.24 L721.838 1547.12 L716.954 1547.12 L716.954 1541.24 Z\" fill=\"#000000\" fill-rule=\"evenodd\" fill-opacity=\"1\" /><path clip-path=\"url(#clip260)\" d=\"M 0 0 M730.935 1543.18 L747.255 1543.18 L747.255 1547.12 L725.31 1547.12 L725.31 1543.18 Q727.972 1540.43 732.556 1535.8 Q737.162 1531.15 738.343 1529.81 Q740.588 1527.28 741.468 1525.55 Q742.37 1523.79 742.37 1522.1 Q742.37 1519.34 740.426 1517.61 Q738.505 1515.87 735.403 1515.87 Q733.204 1515.87 730.75 1516.63 Q728.32 1517.4 725.542 1518.95 L725.542 1514.23 Q728.366 1513.09 730.82 1512.51 Q733.273 1511.93 735.31 1511.93 Q740.681 1511.93 743.875 1514.62 Q747.07 1517.31 747.07 1521.8 Q747.07 1523.93 746.259 1525.85 Q745.472 1527.74 743.366 1530.34 Q742.787 1531.01 739.685 1534.23 Q736.583 1537.42 730.935 1543.18 Z\" fill=\"#000000\" fill-rule=\"evenodd\" fill-opacity=\"1\" /><path clip-path=\"url(#clip260)\" d=\"M 0 0 M752.37 1512.56 L770.727 1512.56 L770.727 1516.5 L756.653 1516.5 L756.653 1524.97 Q757.671 1524.62 758.69 1524.46 Q759.708 1524.27 760.727 1524.27 Q766.514 1524.27 769.893 1527.44 Q773.273 1530.62 773.273 1536.03 Q773.273 1541.61 769.801 1544.71 Q766.329 1547.79 760.009 1547.79 Q757.833 1547.79 755.565 1547.42 Q753.319 1547.05 750.912 1546.31 L750.912 1541.61 Q752.995 1542.74 755.218 1543.3 Q757.44 1543.86 759.917 1543.86 Q763.921 1543.86 766.259 1541.75 Q768.597 1539.64 768.597 1536.03 Q768.597 1532.42 766.259 1530.31 Q763.921 1528.21 759.917 1528.21 Q758.042 1528.21 756.167 1528.62 Q754.315 1529.04 752.37 1529.92 L752.37 1512.56 Z\" fill=\"#000000\" fill-rule=\"evenodd\" fill-opacity=\"1\" /><path clip-path=\"url(#clip260)\" d=\"M 0 0 M1219.05 1515.64 Q1215.44 1515.64 1213.61 1519.2 Q1211.81 1522.75 1211.81 1529.87 Q1211.81 1536.98 1213.61 1540.55 Q1215.44 1544.09 1219.05 1544.09 Q1222.69 1544.09 1224.49 1540.55 Q1226.32 1536.98 1226.32 1529.87 Q1226.32 1522.75 1224.49 1519.2 Q1222.69 1515.64 1219.05 1515.64 M1219.05 1511.93 Q1224.86 1511.93 1227.92 1516.54 Q1231 1521.12 1231 1529.87 Q1231 1538.6 1227.92 1543.21 Q1224.86 1547.79 1219.05 1547.79 Q1213.24 1547.79 1210.16 1543.21 Q1207.11 1538.6 1207.11 1529.87 Q1207.11 1521.12 1210.16 1516.54 Q1213.24 1511.93 1219.05 1511.93 Z\" fill=\"#000000\" fill-rule=\"evenodd\" fill-opacity=\"1\" /><path clip-path=\"url(#clip260)\" d=\"M 0 0 M1236.07 1541.24 L1240.95 1541.24 L1240.95 1547.12 L1236.07 1547.12 L1236.07 1541.24 Z\" fill=\"#000000\" fill-rule=\"evenodd\" fill-opacity=\"1\" /><path clip-path=\"url(#clip260)\" d=\"M 0 0 M1246.07 1512.56 L1264.42 1512.56 L1264.42 1516.5 L1250.35 1516.5 L1250.35 1524.97 Q1251.37 1524.62 1252.39 1524.46 Q1253.4 1524.27 1254.42 1524.27 Q1260.21 1524.27 1263.59 1527.44 Q1266.97 1530.62 1266.97 1536.03 Q1266.97 1541.61 1263.5 1544.71 Q1260.02 1547.79 1253.7 1547.79 Q1251.53 1547.79 1249.26 1547.42 Q1247.02 1547.05 1244.61 1546.31 L1244.61 1541.61 Q1246.69 1542.74 1248.91 1543.3 Q1251.14 1543.86 1253.61 1543.86 Q1257.62 1543.86 1259.95 1541.75 Q1262.29 1539.64 1262.29 1536.03 Q1262.29 1532.42 1259.95 1530.31 Q1257.62 1528.21 1253.61 1528.21 Q1251.74 1528.21 1249.86 1528.62 Q1248.01 1529.04 1246.07 1529.92 L1246.07 1512.56 Z\" fill=\"#000000\" fill-rule=\"evenodd\" fill-opacity=\"1\" /><path clip-path=\"url(#clip260)\" d=\"M 0 0 M1282.04 1515.64 Q1278.43 1515.64 1276.6 1519.2 Q1274.79 1522.75 1274.79 1529.87 Q1274.79 1536.98 1276.6 1540.55 Q1278.43 1544.09 1282.04 1544.09 Q1285.67 1544.09 1287.48 1540.55 Q1289.31 1536.98 1289.31 1529.87 Q1289.31 1522.75 1287.48 1519.2 Q1285.67 1515.64 1282.04 1515.64 M1282.04 1511.93 Q1287.85 1511.93 1290.9 1516.54 Q1293.98 1521.12 1293.98 1529.87 Q1293.98 1538.6 1290.9 1543.21 Q1287.85 1547.79 1282.04 1547.79 Q1276.23 1547.79 1273.15 1543.21 Q1270.09 1538.6 1270.09 1529.87 Q1270.09 1521.12 1273.15 1516.54 Q1276.23 1511.93 1282.04 1511.93 Z\" fill=\"#000000\" fill-rule=\"evenodd\" fill-opacity=\"1\" /><path clip-path=\"url(#clip260)\" d=\"M 0 0 M1739.41 1515.64 Q1735.8 1515.64 1733.97 1519.2 Q1732.17 1522.75 1732.17 1529.87 Q1732.17 1536.98 1733.97 1540.55 Q1735.8 1544.09 1739.41 1544.09 Q1743.05 1544.09 1744.85 1540.55 Q1746.68 1536.98 1746.68 1529.87 Q1746.68 1522.75 1744.85 1519.2 Q1743.05 1515.64 1739.41 1515.64 M1739.41 1511.93 Q1745.22 1511.93 1748.28 1516.54 Q1751.36 1521.12 1751.36 1529.87 Q1751.36 1538.6 1748.28 1543.21 Q1745.22 1547.79 1739.41 1547.79 Q1733.6 1547.79 1730.53 1543.21 Q1727.47 1538.6 1727.47 1529.87 Q1727.47 1521.12 1730.53 1516.54 Q1733.6 1511.93 1739.41 1511.93 Z\" fill=\"#000000\" fill-rule=\"evenodd\" fill-opacity=\"1\" /><path clip-path=\"url(#clip260)\" d=\"M 0 0 M1756.43 1541.24 L1761.31 1541.24 L1761.31 1547.12 L1756.43 1547.12 L1756.43 1541.24 Z\" fill=\"#000000\" fill-rule=\"evenodd\" fill-opacity=\"1\" /><path clip-path=\"url(#clip260)\" d=\"M 0 0 M1765.2 1512.56 L1787.42 1512.56 L1787.42 1514.55 L1774.88 1547.12 L1769.99 1547.12 L1781.8 1516.5 L1765.2 1516.5 L1765.2 1512.56 Z\" fill=\"#000000\" fill-rule=\"evenodd\" fill-opacity=\"1\" /><path clip-path=\"url(#clip260)\" d=\"M 0 0 M1792.54 1512.56 L1810.9 1512.56 L1810.9 1516.5 L1796.82 1516.5 L1796.82 1524.97 Q1797.84 1524.62 1798.86 1524.46 Q1799.88 1524.27 1800.9 1524.27 Q1806.68 1524.27 1810.06 1527.44 Q1813.44 1530.62 1813.44 1536.03 Q1813.44 1541.61 1809.97 1544.71 Q1806.5 1547.79 1800.18 1547.79 Q1798 1547.79 1795.73 1547.42 Q1793.49 1547.05 1791.08 1546.31 L1791.08 1541.61 Q1793.16 1542.74 1795.39 1543.3 Q1797.61 1543.86 1800.09 1543.86 Q1804.09 1543.86 1806.43 1541.75 Q1808.77 1539.64 1808.77 1536.03 Q1808.77 1532.42 1806.43 1530.31 Q1804.09 1528.21 1800.09 1528.21 Q1798.21 1528.21 1796.34 1528.62 Q1794.48 1529.04 1792.54 1529.92 L1792.54 1512.56 Z\" fill=\"#000000\" fill-rule=\"evenodd\" fill-opacity=\"1\" /><path clip-path=\"url(#clip260)\" d=\"M 0 0 M2248.76 1543.18 L2256.4 1543.18 L2256.4 1516.82 L2248.09 1518.49 L2248.09 1514.23 L2256.35 1512.56 L2261.03 1512.56 L2261.03 1543.18 L2268.67 1543.18 L2268.67 1547.12 L2248.76 1547.12 L2248.76 1543.18 Z\" fill=\"#000000\" fill-rule=\"evenodd\" fill-opacity=\"1\" /><path clip-path=\"url(#clip260)\" d=\"M 0 0 M2273.73 1541.24 L2278.62 1541.24 L2278.62 1547.12 L2273.73 1547.12 L2273.73 1541.24 Z\" fill=\"#000000\" fill-rule=\"evenodd\" fill-opacity=\"1\" /><path clip-path=\"url(#clip260)\" d=\"M 0 0 M2293.69 1515.64 Q2290.08 1515.64 2288.25 1519.2 Q2286.44 1522.75 2286.44 1529.87 Q2286.44 1536.98 2288.25 1540.55 Q2290.08 1544.09 2293.69 1544.09 Q2297.32 1544.09 2299.13 1540.55 Q2300.96 1536.98 2300.96 1529.87 Q2300.96 1522.75 2299.13 1519.2 Q2297.32 1515.64 2293.69 1515.64 M2293.69 1511.93 Q2299.5 1511.93 2302.55 1516.54 Q2305.63 1521.12 2305.63 1529.87 Q2305.63 1538.6 2302.55 1543.21 Q2299.5 1547.79 2293.69 1547.79 Q2287.88 1547.79 2284.8 1543.21 Q2281.74 1538.6 2281.74 1529.87 Q2281.74 1521.12 2284.8 1516.54 Q2287.88 1511.93 2293.69 1511.93 Z\" fill=\"#000000\" fill-rule=\"evenodd\" fill-opacity=\"1\" /><path clip-path=\"url(#clip260)\" d=\"M 0 0 M2320.7 1515.64 Q2317.09 1515.64 2315.26 1519.2 Q2313.46 1522.75 2313.46 1529.87 Q2313.46 1536.98 2315.26 1540.55 Q2317.09 1544.09 2320.7 1544.09 Q2324.34 1544.09 2326.14 1540.55 Q2327.97 1536.98 2327.97 1529.87 Q2327.97 1522.75 2326.14 1519.2 Q2324.34 1515.64 2320.7 1515.64 M2320.7 1511.93 Q2326.51 1511.93 2329.57 1516.54 Q2332.65 1521.12 2332.65 1529.87 Q2332.65 1538.6 2329.57 1543.21 Q2326.51 1547.79 2320.7 1547.79 Q2314.89 1547.79 2311.81 1543.21 Q2308.76 1538.6 2308.76 1529.87 Q2308.76 1521.12 2311.81 1516.54 Q2314.89 1511.93 2320.7 1511.93 Z\" fill=\"#000000\" fill-rule=\"evenodd\" fill-opacity=\"1\" /><path clip-path=\"url(#clip260)\" d=\"M 0 0 M65.0198 1295.74 Q61.4087 1295.74 59.58 1299.31 Q57.7745 1302.85 57.7745 1309.98 Q57.7745 1317.08 59.58 1320.65 Q61.4087 1324.19 65.0198 1324.19 Q68.6541 1324.19 70.4596 1320.65 Q72.2883 1317.08 72.2883 1309.98 Q72.2883 1302.85 70.4596 1299.31 Q68.6541 1295.74 65.0198 1295.74 M65.0198 1292.04 Q70.83 1292.04 73.8855 1296.64 Q76.9642 1301.23 76.9642 1309.98 Q76.9642 1318.7 73.8855 1323.31 Q70.83 1327.89 65.0198 1327.89 Q59.2097 1327.89 56.131 1323.31 Q53.0754 1318.7 53.0754 1309.98 Q53.0754 1301.23 56.131 1296.64 Q59.2097 1292.04 65.0198 1292.04 Z\" fill=\"#000000\" fill-rule=\"evenodd\" fill-opacity=\"1\" /><path clip-path=\"url(#clip260)\" d=\"M 0 0 M82.0336 1321.34 L86.9179 1321.34 L86.9179 1327.22 L82.0336 1327.22 L82.0336 1321.34 Z\" fill=\"#000000\" fill-rule=\"evenodd\" fill-opacity=\"1\" /><path clip-path=\"url(#clip260)\" d=\"M 0 0 M96.015 1323.29 L112.334 1323.29 L112.334 1327.22 L90.3901 1327.22 L90.3901 1323.29 Q93.0521 1320.53 97.6354 1315.9 Q102.242 1311.25 103.422 1309.91 Q105.668 1307.38 106.547 1305.65 Q107.45 1303.89 107.45 1302.2 Q107.45 1299.44 105.506 1297.71 Q103.584 1295.97 100.483 1295.97 Q98.2835 1295.97 95.8298 1296.74 Q93.3993 1297.5 90.6215 1299.05 L90.6215 1294.33 Q93.4456 1293.19 95.8993 1292.62 Q98.353 1292.04 100.39 1292.04 Q105.76 1292.04 108.955 1294.72 Q112.149 1297.41 112.149 1301.9 Q112.149 1304.03 111.339 1305.95 Q110.552 1307.85 108.446 1310.44 Q107.867 1311.11 104.765 1314.33 Q101.663 1317.52 96.015 1323.29 Z\" fill=\"#000000\" fill-rule=\"evenodd\" fill-opacity=\"1\" /><path clip-path=\"url(#clip260)\" d=\"M 0 0 M64.0708 1114.71 Q60.4597 1114.71 58.631 1118.27 Q56.8254 1121.81 56.8254 1128.94 Q56.8254 1136.05 58.631 1139.62 Q60.4597 1143.16 64.0708 1143.16 Q67.705 1143.16 69.5105 1139.62 Q71.3392 1136.05 71.3392 1128.94 Q71.3392 1121.81 69.5105 1118.27 Q67.705 1114.71 64.0708 1114.71 M64.0708 1111 Q69.8809 1111 72.9365 1115.61 Q76.0151 1120.19 76.0151 1128.94 Q76.0151 1137.67 72.9365 1142.28 Q69.8809 1146.86 64.0708 1146.86 Q58.2606 1146.86 55.1819 1142.28 Q52.1264 1137.67 52.1264 1128.94 Q52.1264 1120.19 55.1819 1115.61 Q58.2606 1111 64.0708 1111 Z\" fill=\"#000000\" fill-rule=\"evenodd\" fill-opacity=\"1\" /><path clip-path=\"url(#clip260)\" d=\"M 0 0 M81.0846 1140.31 L85.9688 1140.31 L85.9688 1146.19 L81.0846 1146.19 L81.0846 1140.31 Z\" fill=\"#000000\" fill-rule=\"evenodd\" fill-opacity=\"1\" /><path clip-path=\"url(#clip260)\" d=\"M 0 0 M105.205 1127.56 Q108.561 1128.27 110.436 1130.54 Q112.334 1132.81 112.334 1136.14 Q112.334 1141.26 108.816 1144.06 Q105.297 1146.86 98.8159 1146.86 Q96.64 1146.86 94.3252 1146.42 Q92.0336 1146 89.5799 1145.15 L89.5799 1140.63 Q91.5243 1141.77 93.8391 1142.35 Q96.1539 1142.93 98.6771 1142.93 Q103.075 1142.93 105.367 1141.19 Q107.682 1139.45 107.682 1136.14 Q107.682 1133.09 105.529 1131.38 Q103.399 1129.64 99.5798 1129.64 L95.5521 1129.64 L95.5521 1125.8 L99.765 1125.8 Q103.214 1125.8 105.043 1124.43 Q106.871 1123.04 106.871 1120.45 Q106.871 1117.79 104.973 1116.38 Q103.098 1114.94 99.5798 1114.94 Q97.6585 1114.94 95.4595 1115.36 Q93.2604 1115.77 90.6215 1116.65 L90.6215 1112.49 Q93.2836 1111.75 95.5984 1111.38 Q97.9363 1111 99.9965 1111 Q105.321 1111 108.422 1113.44 Q111.524 1115.84 111.524 1119.96 Q111.524 1122.83 109.881 1124.82 Q108.237 1126.79 105.205 1127.56 Z\" fill=\"#000000\" fill-rule=\"evenodd\" fill-opacity=\"1\" /><path clip-path=\"url(#clip260)\" d=\"M 0 0 M62.9365 933.677 Q59.3254 933.677 57.4967 937.241 Q55.6912 940.783 55.6912 947.913 Q55.6912 955.019 57.4967 958.584 Q59.3254 962.126 62.9365 962.126 Q66.5707 962.126 68.3763 958.584 Q70.205 955.019 70.205 947.913 Q70.205 940.783 68.3763 937.241 Q66.5707 933.677 62.9365 933.677 M62.9365 929.973 Q68.7467 929.973 71.8022 934.579 Q74.8809 939.163 74.8809 947.913 Q74.8809 956.639 71.8022 961.246 Q68.7467 965.829 62.9365 965.829 Q57.1264 965.829 54.0477 961.246 Q50.9921 956.639 50.9921 947.913 Q50.9921 939.163 54.0477 934.579 Q57.1264 929.973 62.9365 929.973 Z\" fill=\"#000000\" fill-rule=\"evenodd\" fill-opacity=\"1\" /><path clip-path=\"url(#clip260)\" d=\"M 0 0 M79.9503 959.278 L84.8345 959.278 L84.8345 965.158 L79.9503 965.158 L79.9503 959.278 Z\" fill=\"#000000\" fill-rule=\"evenodd\" fill-opacity=\"1\" /><path clip-path=\"url(#clip260)\" d=\"M 0 0 M102.751 934.672 L90.9456 953.121 L102.751 953.121 L102.751 934.672 M101.524 930.598 L107.404 930.598 L107.404 953.121 L112.334 953.121 L112.334 957.01 L107.404 957.01 L107.404 965.158 L102.751 965.158 L102.751 957.01 L87.1493 957.01 L87.1493 952.496 L101.524 930.598 Z\" fill=\"#000000\" fill-rule=\"evenodd\" fill-opacity=\"1\" /><path clip-path=\"url(#clip260)\" d=\"M 0 0 M64.418 752.645 Q60.8069 752.645 58.9782 756.209 Q57.1726 759.751 57.1726 766.881 Q57.1726 773.987 58.9782 777.552 Q60.8069 781.094 64.418 781.094 Q68.0522 781.094 69.8578 777.552 Q71.6865 773.987 71.6865 766.881 Q71.6865 759.751 69.8578 756.209 Q68.0522 752.645 64.418 752.645 M64.418 748.941 Q70.2281 748.941 73.2837 753.547 Q76.3624 758.131 76.3624 766.881 Q76.3624 775.608 73.2837 780.214 Q70.2281 784.797 64.418 784.797 Q58.6078 784.797 55.5291 780.214 Q52.4736 775.608 52.4736 766.881 Q52.4736 758.131 55.5291 753.547 Q58.6078 748.941 64.418 748.941 Z\" fill=\"#000000\" fill-rule=\"evenodd\" fill-opacity=\"1\" /><path clip-path=\"url(#clip260)\" d=\"M 0 0 M81.4318 778.246 L86.316 778.246 L86.316 784.126 L81.4318 784.126 L81.4318 778.246 Z\" fill=\"#000000\" fill-rule=\"evenodd\" fill-opacity=\"1\" /><path clip-path=\"url(#clip260)\" d=\"M 0 0 M91.4317 749.566 L109.788 749.566 L109.788 753.501 L95.7141 753.501 L95.7141 761.973 Q96.7326 761.626 97.7511 761.464 Q98.7696 761.279 99.7882 761.279 Q105.575 761.279 108.955 764.45 Q112.334 767.621 112.334 773.038 Q112.334 778.617 108.862 781.719 Q105.39 784.797 99.0706 784.797 Q96.8947 784.797 94.6262 784.427 Q92.3808 784.057 89.9734 783.316 L89.9734 778.617 Q92.0567 779.751 94.2789 780.307 Q96.5011 780.862 98.978 780.862 Q102.983 780.862 105.321 778.756 Q107.658 776.649 107.658 773.038 Q107.658 769.427 105.321 767.321 Q102.983 765.214 98.978 765.214 Q97.103 765.214 95.228 765.631 Q93.3762 766.047 91.4317 766.927 L91.4317 749.566 Z\" fill=\"#000000\" fill-rule=\"evenodd\" fill-opacity=\"1\" /><path clip-path=\"url(#clip260)\" d=\"M 0 0 M63.2606 571.613 Q59.6495 571.613 57.8208 575.178 Q56.0152 578.719 56.0152 585.849 Q56.0152 592.955 57.8208 596.52 Q59.6495 600.062 63.2606 600.062 Q66.8948 600.062 68.7004 596.52 Q70.5291 592.955 70.5291 585.849 Q70.5291 578.719 68.7004 575.178 Q66.8948 571.613 63.2606 571.613 M63.2606 567.909 Q69.0707 567.909 72.1263 572.516 Q75.205 577.099 75.205 585.849 Q75.205 594.576 72.1263 599.182 Q69.0707 603.765 63.2606 603.765 Q57.4504 603.765 54.3717 599.182 Q51.3162 594.576 51.3162 585.849 Q51.3162 577.099 54.3717 572.516 Q57.4504 567.909 63.2606 567.909 Z\" fill=\"#000000\" fill-rule=\"evenodd\" fill-opacity=\"1\" /><path clip-path=\"url(#clip260)\" d=\"M 0 0 M80.2744 597.214 L85.1586 597.214 L85.1586 603.094 L80.2744 603.094 L80.2744 597.214 Z\" fill=\"#000000\" fill-rule=\"evenodd\" fill-opacity=\"1\" /><path clip-path=\"url(#clip260)\" d=\"M 0 0 M100.807 583.951 Q97.6585 583.951 95.8067 586.103 Q93.978 588.256 93.978 592.006 Q93.978 595.733 95.8067 597.909 Q97.6585 600.062 100.807 600.062 Q103.955 600.062 105.783 597.909 Q107.635 595.733 107.635 592.006 Q107.635 588.256 105.783 586.103 Q103.955 583.951 100.807 583.951 M110.089 569.298 L110.089 573.557 Q108.33 572.724 106.524 572.284 Q104.742 571.844 102.983 571.844 Q98.353 571.844 95.8993 574.969 Q93.4688 578.094 93.1215 584.414 Q94.4873 582.4 96.5474 581.335 Q98.6076 580.247 101.084 580.247 Q106.293 580.247 109.302 583.418 Q112.334 586.566 112.334 592.006 Q112.334 597.33 109.186 600.548 Q106.038 603.765 100.807 603.765 Q94.8113 603.765 91.6401 599.182 Q88.4688 594.576 88.4688 585.849 Q88.4688 577.654 92.3576 572.793 Q96.2465 567.909 102.797 567.909 Q104.557 567.909 106.339 568.256 Q108.145 568.604 110.089 569.298 Z\" fill=\"#000000\" fill-rule=\"evenodd\" fill-opacity=\"1\" /><path clip-path=\"url(#clip260)\" d=\"M 0 0 M64.3254 390.581 Q60.7143 390.581 58.8856 394.146 Q57.0801 397.687 57.0801 404.817 Q57.0801 411.923 58.8856 415.488 Q60.7143 419.03 64.3254 419.03 Q67.9596 419.03 69.7652 415.488 Q71.5939 411.923 71.5939 404.817 Q71.5939 397.687 69.7652 394.146 Q67.9596 390.581 64.3254 390.581 M64.3254 386.877 Q70.1355 386.877 73.1911 391.484 Q76.2698 396.067 76.2698 404.817 Q76.2698 413.544 73.1911 418.15 Q70.1355 422.733 64.3254 422.733 Q58.5152 422.733 55.4365 418.15 Q52.381 413.544 52.381 404.817 Q52.381 396.067 55.4365 391.484 Q58.5152 386.877 64.3254 386.877 Z\" fill=\"#000000\" fill-rule=\"evenodd\" fill-opacity=\"1\" /><path clip-path=\"url(#clip260)\" d=\"M 0 0 M81.3392 416.183 L86.2234 416.183 L86.2234 422.062 L81.3392 422.062 L81.3392 416.183 Z\" fill=\"#000000\" fill-rule=\"evenodd\" fill-opacity=\"1\" /><path clip-path=\"url(#clip260)\" d=\"M 0 0 M90.1123 387.502 L112.334 387.502 L112.334 389.493 L99.7882 422.062 L94.9039 422.062 L106.709 391.437 L90.1123 391.437 L90.1123 387.502 Z\" fill=\"#000000\" fill-rule=\"evenodd\" fill-opacity=\"1\" /><path clip-path=\"url(#clip260)\" d=\"M 0 0 M63.5152 209.549 Q59.9041 209.549 58.0754 213.114 Q56.2699 216.655 56.2699 223.785 Q56.2699 230.891 58.0754 234.456 Q59.9041 237.998 63.5152 237.998 Q67.1494 237.998 68.955 234.456 Q70.7837 230.891 70.7837 223.785 Q70.7837 216.655 68.955 213.114 Q67.1494 209.549 63.5152 209.549 M63.5152 205.845 Q69.3254 205.845 72.3809 210.452 Q75.4596 215.035 75.4596 223.785 Q75.4596 232.512 72.3809 237.118 Q69.3254 241.702 63.5152 241.702 Q57.7051 241.702 54.6264 237.118 Q51.5708 232.512 51.5708 223.785 Q51.5708 215.035 54.6264 210.452 Q57.7051 205.845 63.5152 205.845 Z\" fill=\"#000000\" fill-rule=\"evenodd\" fill-opacity=\"1\" /><path clip-path=\"url(#clip260)\" d=\"M 0 0 M80.529 235.151 L85.4132 235.151 L85.4132 241.03 L80.529 241.03 L80.529 235.151 Z\" fill=\"#000000\" fill-rule=\"evenodd\" fill-opacity=\"1\" /><path clip-path=\"url(#clip260)\" d=\"M 0 0 M100.483 224.618 Q97.1493 224.618 95.228 226.401 Q93.3299 228.183 93.3299 231.308 Q93.3299 234.433 95.228 236.215 Q97.1493 237.998 100.483 237.998 Q103.816 237.998 105.737 236.215 Q107.658 234.41 107.658 231.308 Q107.658 228.183 105.737 226.401 Q103.839 224.618 100.483 224.618 M95.8067 222.628 Q92.7975 221.887 91.1077 219.827 Q89.441 217.766 89.441 214.804 Q89.441 210.66 92.3808 208.253 Q95.3437 205.845 100.483 205.845 Q105.645 205.845 108.584 208.253 Q111.524 210.66 111.524 214.804 Q111.524 217.766 109.834 219.827 Q108.168 221.887 105.182 222.628 Q108.561 223.415 110.436 225.706 Q112.334 227.998 112.334 231.308 Q112.334 236.331 109.256 239.016 Q106.2 241.702 100.483 241.702 Q94.765 241.702 91.6864 239.016 Q88.6308 236.331 88.6308 231.308 Q88.6308 227.998 90.529 225.706 Q92.4271 223.415 95.8067 222.628 M94.0937 215.243 Q94.0937 217.928 95.7604 219.433 Q97.4502 220.938 100.483 220.938 Q103.492 220.938 105.182 219.433 Q106.895 217.928 106.895 215.243 Q106.895 212.558 105.182 211.054 Q103.492 209.549 100.483 209.549 Q97.4502 209.549 95.7604 211.054 Q94.0937 212.558 94.0937 215.243 Z\" fill=\"#000000\" fill-rule=\"evenodd\" fill-opacity=\"1\" /><polyline clip-path=\"url(#clip262)\" style=\"stroke:#000000; stroke-width:4; stroke-opacity:1; fill:none\" points=\"\n",
       "  903.938,993.136 210.724,993.136 210.724,766.846 \n",
       "  \"/>\n",
       "<polyline clip-path=\"url(#clip262)\" style=\"stroke:#000000; stroke-width:4; stroke-opacity:1; fill:none\" points=\"\n",
       "  2290.37,87.9763 210.724,87.9763 210.724,766.846 \n",
       "  \"/>\n",
       "<polyline clip-path=\"url(#clip262)\" style=\"stroke:#000000; stroke-width:4; stroke-opacity:1; fill:none\" points=\"\n",
       "  1597.15,1219.43 903.938,1219.43 903.938,993.136 \n",
       "  \"/>\n",
       "<polyline clip-path=\"url(#clip262)\" style=\"stroke:#000000; stroke-width:4; stroke-opacity:1; fill:none\" points=\"\n",
       "  2290.37,540.556 903.938,540.556 903.938,993.136 \n",
       "  \"/>\n",
       "<polyline clip-path=\"url(#clip262)\" style=\"stroke:#000000; stroke-width:4; stroke-opacity:1; fill:none\" points=\"\n",
       "  2290.37,1445.72 1597.15,1445.72 1597.15,1219.43 \n",
       "  \"/>\n",
       "<polyline clip-path=\"url(#clip262)\" style=\"stroke:#000000; stroke-width:4; stroke-opacity:1; fill:none\" points=\"\n",
       "  2290.37,993.136 1597.15,993.136 1597.15,1219.43 \n",
       "  \"/>\n",
       "<path clip-path=\"url(#clip262)\" d=\"M2290.37 75.9763 L2278.37 87.9763 L2290.37 99.9763 L2302.37 87.9763 L2290.37 75.9763 Z\" fill=\"#ed5d92\" fill-rule=\"evenodd\" fill-opacity=\"1\" stroke=\"#000000\" stroke-opacity=\"1\" stroke-width=\"3.2\"/>\n",
       "<path clip-path=\"url(#clip262)\" d=\"M2290.37 528.556 L2278.37 540.556 L2290.37 552.556 L2302.37 540.556 L2290.37 528.556 Z\" fill=\"#ed5d92\" fill-rule=\"evenodd\" fill-opacity=\"1\" stroke=\"#000000\" stroke-opacity=\"1\" stroke-width=\"3.2\"/>\n",
       "<path clip-path=\"url(#clip262)\" d=\"M2290.37 1433.72 L2278.37 1445.72 L2290.37 1457.72 L2302.37 1445.72 L2290.37 1433.72 Z\" fill=\"#ed5d92\" fill-rule=\"evenodd\" fill-opacity=\"1\" stroke=\"#000000\" stroke-opacity=\"1\" stroke-width=\"3.2\"/>\n",
       "<path clip-path=\"url(#clip262)\" d=\"M2290.37 981.136 L2278.37 993.136 L2290.37 1005.14 L2302.37 993.136 L2290.37 981.136 Z\" fill=\"#ed5d92\" fill-rule=\"evenodd\" fill-opacity=\"1\" stroke=\"#000000\" stroke-opacity=\"1\" stroke-width=\"3.2\"/>\n",
       "<path clip-path=\"url(#clip260)\" d=\"M 0 0 M2339.49 89.3333 L2339.49 111.492 L2352.61 111.492 Q2359.22 111.492 2362.38 108.778 Q2365.58 106.023 2365.58 100.392 Q2365.58 94.721 2362.38 92.0474 Q2359.22 89.3333 2352.61 89.3333 L2339.49 89.3333 M2339.49 64.4608 L2339.49 82.6898 L2351.6 82.6898 Q2357.6 82.6898 2360.51 80.4618 Q2363.47 78.1933 2363.47 73.5753 Q2363.47 68.9978 2360.51 66.7293 Q2357.6 64.4608 2351.6 64.4608 L2339.49 64.4608 M2331.31 57.7363 L2352.21 57.7363 Q2361.57 57.7363 2366.63 61.6251 Q2371.69 65.514 2371.69 72.6841 Q2371.69 78.2339 2369.1 81.5151 Q2366.51 84.7963 2361.49 85.6065 Q2367.52 86.9028 2370.84 91.0347 Q2374.21 95.1261 2374.21 101.283 Q2374.21 109.385 2368.7 113.801 Q2363.19 118.216 2353.02 118.216 L2331.31 118.216 L2331.31 57.7363 Z\" fill=\"#000000\" fill-rule=\"evenodd\" fill-opacity=\"1\" /><path clip-path=\"url(#clip260)\" d=\"M 0 0 M2335.52 517.041 L2335.52 564.072 L2345.4 564.072 Q2357.92 564.072 2363.71 558.4 Q2369.55 552.729 2369.55 540.495 Q2369.55 528.343 2363.71 522.712 Q2357.92 517.041 2345.4 517.041 L2335.52 517.041 M2327.34 510.316 L2344.15 510.316 Q2361.73 510.316 2369.95 517.648 Q2378.18 524.94 2378.18 540.495 Q2378.18 556.132 2369.91 563.464 Q2361.65 570.796 2344.15 570.796 L2327.34 570.796 L2327.34 510.316 Z\" fill=\"#000000\" fill-rule=\"evenodd\" fill-opacity=\"1\" /><path clip-path=\"url(#clip260)\" d=\"M 0 0 M2352.76 1423.54 L2341.66 1453.64 L2363.9 1453.64 L2352.76 1423.54 M2348.14 1415.48 L2357.41 1415.48 L2380.46 1475.96 L2371.96 1475.96 L2366.45 1460.44 L2339.19 1460.44 L2333.68 1475.96 L2325.05 1475.96 L2348.14 1415.48 Z\" fill=\"#000000\" fill-rule=\"evenodd\" fill-opacity=\"1\" /><path clip-path=\"url(#clip260)\" d=\"M 0 0 M2377.14 967.554 L2377.14 976.183 Q2373.01 972.334 2368.31 970.431 Q2363.65 968.527 2358.39 968.527 Q2348.02 968.527 2342.51 974.887 Q2337 981.206 2337 993.197 Q2337 1005.15 2342.51 1011.51 Q2348.02 1017.83 2358.39 1017.83 Q2363.65 1017.83 2368.31 1015.92 Q2373.01 1014.02 2377.14 1010.17 L2377.14 1018.72 Q2372.85 1021.63 2368.03 1023.09 Q2363.25 1024.55 2357.9 1024.55 Q2344.17 1024.55 2336.27 1016.17 Q2328.37 1007.74 2328.37 993.197 Q2328.37 978.613 2336.27 970.228 Q2344.17 961.802 2357.9 961.802 Q2363.33 961.802 2368.11 963.26 Q2372.93 964.678 2377.14 967.554 Z\" fill=\"#000000\" fill-rule=\"evenodd\" fill-opacity=\"1\" /></svg>\n"
      ]
     },
     "execution_count": 20,
     "metadata": {},
     "output_type": "execute_result"
    }
   ],
   "source": [
    "rand_tree, lprob = VBPILookup.rsbn(leaves, table, 1, length(leaves)-1)\n",
    "VBPILookup.Sbn.plot_and_annotate(rand_tree)"
   ]
  },
  {
   "cell_type": "markdown",
   "metadata": {},
   "source": [
    "Parameterizing by clade-subsplits has a few advantages. It is more flexible than a \"clade\"-conditional model, unrooted trees can be accounted for by integrating out $S_1$, and the topology of the SBN is fixed.\n",
    "\n",
    "The branch lengths $q$ are defined conditional on each tree. These are discussed in Matsen and Zhang (2018a), but for brevity we omit discussion of this distribution.\n",
    "\n",
    "$$\n",
    "\\mathcal P(T = \\tau, q) = \\mathcal P(T = \\tau) \\mathcal P(q | T = \\tau)\n",
    "$$"
   ]
  },
  {
   "cell_type": "markdown",
   "metadata": {},
   "source": [
    "## Variational Phylogenetic Inference via SBNs"
   ]
  },
  {
   "cell_type": "markdown",
   "metadata": {},
   "source": [
    "### Creating a probability table of all possible trees"
   ]
  },
  {
   "cell_type": "markdown",
   "metadata": {},
   "source": [
    "In a real-data setting, our posterior distribution across trees would mostly be driven by the likelihood given the traits of each individual. However, for illustrating our method, our posterior distribution over trees simply assigns a probability to each possible tree. This distribution is drawn from a Dirichlet with parameter $\\beta \\vec 1$.\n",
    "\n",
    "To implement such a scheme, we need a way to map each SBN to its probability. Thus, we implemented a function that calculates a unique hash for each tree by recursively hashing the nodes."
   ]
  },
  {
   "cell_type": "code",
   "execution_count": 21,
   "metadata": {},
   "outputs": [
    {
     "data": {
      "text/plain": [
       "0x71d4a19960c0540f"
      ]
     },
     "execution_count": 21,
     "metadata": {},
     "output_type": "execute_result"
    }
   ],
   "source": [
    "Sbn.hashtree(example_sbn)"
   ]
  },
  {
   "cell_type": "markdown",
   "metadata": {},
   "source": [
    "These hashes are then used to populate a lookup table."
   ]
  },
  {
   "cell_type": "code",
   "execution_count": 22,
   "metadata": {},
   "outputs": [
    {
     "data": {
      "text/plain": [
       "Dict{UInt64,Float64} with 15 entries:\n",
       "  0xa20ef64cc98565a2 => 0.0191427\n",
       "  0x71d4a19960c0540f => 4.14381e-12\n",
       "  0x02aaf70a27f7abb8 => 2.75518e-139\n",
       "  0x07888e3712341879 => 1.26392e-51\n",
       "  0x391f9e501ca5c23b => 6.60767e-97\n",
       "  0xf46b59cbd3f2d10a => 5.45447e-9\n",
       "  0xe5cd567f874eb13d => 1.98427e-158\n",
       "  0xa870673ad771a28f => 3.17728e-14\n",
       "  0x78968d881d9566f9 => 3.75027e-17\n",
       "  0x958dabca02951ac8 => 0.980857\n",
       "  0xe5210469fce9ff99 => 2.23258e-15\n",
       "  0x1090e821a39084a6 => 3.34554e-34\n",
       "  0xca4cf0e9c15b5973 => 3.3723e-80\n",
       "  0x9ab1b84ed40fb2b5 => 2.17516e-88\n",
       "  0xc1a2cace84f2e3fd => 5.10182e-103"
      ]
     },
     "execution_count": 22,
     "metadata": {},
     "output_type": "execute_result"
    }
   ],
   "source": [
    "leaves = [:A, :B, :C, :D]\n",
    "\n",
    "all_sbns=VBPILookup.enumerate_all_sbns(leaves, 1, length(leaves)-1);\n",
    "\n",
    "all_sbn_probs = rand(Dirichlet(0.01*fill(1.0, length(all_sbns))))\n",
    "\n",
    "all_sbn_hash = Sbn.hashtree.(all_sbns)\n",
    "all_sbn_dict = Dict(zip(all_sbn_hash, all_sbn_probs))"
   ]
  },
  {
   "cell_type": "code",
   "execution_count": 23,
   "metadata": {
    "scrolled": false
   },
   "outputs": [
    {
     "data": {
      "text/plain": [
       "4.143806009629161e-12"
      ]
     },
     "execution_count": 23,
     "metadata": {},
     "output_type": "execute_result"
    }
   ],
   "source": [
    "all_sbn_dict[Sbn.hashtree(example_sbn)]"
   ]
  },
  {
   "cell_type": "markdown",
   "metadata": {},
   "source": [
    "### Calculating the Evidence Lower Bound (ELBO)"
   ]
  },
  {
   "cell_type": "markdown",
   "metadata": {},
   "source": [
    "Recall that our goal is to infer the posterior distribution $\\mathcal P(\\tau, q | Y)$. Variational Inference approaches this problem by attempting to find a variational distribution $Q_\\phi$ from a family $\\mathcal Q$ parameterized by $\\phi$ which minimizes the KL-divergence between them.\n",
    "  $$\n",
    "  \\begin{split}\n",
    "        \\hat \\phi &= \\text{argmin}_{\\phi} \\text{KL}(Q_\\phi(\\tau, q) || \\mathcal P(\\tau, q | Y)) \\\\\n",
    "        &= \\text{argmin}_{\\phi} E_{Q_\\phi(t, q)} \\left(\\log \\frac {\\mathcal P (\\tau, q | Y)} {Q_\\phi(t, q)} \\right)\n",
    "  \\end{split}\n",
    "  $$\n",
    "This formulation is not directly usable, since $\\mathcal P(\\tau, q | Y)$ is intractable."
   ]
  },
  {
   "cell_type": "markdown",
   "metadata": {},
   "source": [
    "We can calculate the evidence lower bound (ELBO) instead; we write this as $L(\\phi)$. Maximizing the ELBO with respect to $\\phi$ is equivalent to minimizing the KL term above.\n",
    "    $$\n",
    "    \\begin{split}\n",
    "        L(\\phi) &\\triangleq E_{Q_\\phi(\\tau, q)}(\\log \\mathcal P(\\tau, q, Y) - \\log Q_\\phi(\\tau, q)) \\\\\n",
    "        &= E_{Q_\\phi(\\tau, q)}( \\log \\mathcal P(Y) + \\log \\mathcal P(\\tau, q| Y) - \\log Q_\\phi(\\tau, q)) \\\\\n",
    "        &= \\log \\mathcal P(Y) + E_{Q_\\phi(\\tau, q)}(\\log \\mathcal P(\\tau, q| Y) - \\log Q_\\phi(\\tau, q)) \\\\\n",
    "        &= \\underbrace{\\log \\mathcal P(Y)}_{\\text{Evidence}} + \\underbrace{\\text{KL}(Q_\\phi(\\tau, q) || \\mathcal P(\\tau, q | Y))}_{\\text{Non-negative divergence}} \n",
    "        % &=\\int (\\log p(x, z) - \\log q_\\phi (z | x)) d q_\\phi (z | x) \\\\\n",
    "        % &=\\int \\left(\\log p(x) + \\log p(z|x) - \\log q_\\phi (z | x) \\right) d q_\\phi (z | x) \\\\\n",
    "        % &= \\log p(x) + \\int \\left (\\log \\frac{p(z|x)} {q_\\phi (z | x)} \\right) d q_\\phi (z | x) \\\\\n",
    "        % &= \\log p(x) - \\mathrm{KL}(q_\\phi(z|x) || p(z, x))\n",
    "    \\end{split}\n",
    "    $$\n",
    "The integrand of the ELBO is tractable, although the expectation still is not. Hence we use stochastic optimization.\n",
    "An unbiased estimate of the ELBO $L(\\phi)$ is \n",
    "$$\n",
    "\\log \\mathcal P(\\tau^i, q^i, Y) - \\log Q_\\phi(\\tau^i, q^i)\n",
    "$$\n",
    "for $\\tau^i, q^i \\sim Q_\\phi(\\cdot, \\cdot)$. "
   ]
  },
  {
   "cell_type": "code",
   "execution_count": 24,
   "metadata": {},
   "outputs": [
    {
     "name": "stdout",
     "output_type": "stream",
     "text": [
      "(VBPILookup.est_elbo(leaves, table, all_sbn_dict))[1] = -219.51661231783348\n",
      "(VBPILookup.est_elbo(leaves, table, all_sbn_dict))[1] = -15.98230789547329\n",
      "(VBPILookup.est_elbo(leaves, table, all_sbn_dict))[1] = -317.0999363366595\n",
      "(VBPILookup.est_elbo(leaves, table, all_sbn_dict))[1] = -30.69109504597666\n",
      "(VBPILookup.est_elbo(leaves, table, all_sbn_dict))[1] = -23.16488398669185\n"
     ]
    }
   ],
   "source": [
    "for _ in 1:5\n",
    "    @show VBPILookup.est_elbo(leaves, table, all_sbn_dict)[1]\n",
    "end"
   ]
  },
  {
   "cell_type": "markdown",
   "metadata": {},
   "source": [
    "However, a more accurate lower bound to the evidence can be achieved by using multiple iid samples and weighting by their importance:\n",
    "    $$\n",
    "      L^K(\\phi)  \\triangleq E_{Q_\\phi(\\tau^i, q^i)}\\left(\\log \\left( \\frac{1}{K} \\sum_{i=1}^K \\frac{\\mathcal P(\\tau^i, q^i, Y)} {Q_\\phi(\\tau^i, q^i)}  \\right) \\right)\n",
    "    $$\n",
    "We call this objective the \"Importance Weighted ELBO\" (IW-ELBO). Sampling from the variational distribution, we obtain an unbiased estimate of $L^K (\\phi)$: \n",
    "$$\n",
    "\\log \\left(  \\frac{1}{K} \\sum_{i=1}^K \\frac{\\mathcal P(\\tau^i, q^i, Y)} {Q_\\phi(\\tau^i, q^i)} \\right)\n",
    "$$"
   ]
  },
  {
   "cell_type": "code",
   "execution_count": 25,
   "metadata": {},
   "outputs": [
    {
     "name": "stdout",
     "output_type": "stream",
     "text": [
      "VBPILookup.est_iwelbo(leaves, table, all_sbn_dict, 100) = 0.06021029771530095\n",
      "VBPILookup.est_iwelbo(leaves, table, all_sbn_dict, 100) = -0.45567484126691493\n",
      "VBPILookup.est_iwelbo(leaves, table, all_sbn_dict, 100) = 0.21503090534089164\n",
      "VBPILookup.est_iwelbo(leaves, table, all_sbn_dict, 100) = 0.22791617927859242\n",
      "VBPILookup.est_iwelbo(leaves, table, all_sbn_dict, 100) = 0.04110363908624315\n"
     ]
    }
   ],
   "source": [
    "for _ in 1:5\n",
    "    @show VBPILookup.est_iwelbo(leaves, table, all_sbn_dict, 100)\n",
    "end"
   ]
  },
  {
   "cell_type": "markdown",
   "metadata": {},
   "source": [
    "Note that as we increase the number of samples $K$ to calculate the objective, $\\log \\left(  \\frac{1}{K} \\sum_{i=1}^K \\frac{\\mathcal P(\\tau^i, q^i, Y)} {Q_\\phi(\\tau^i, q^i)} \\right) \\to \\mathcal P (Y)$ almost surely."
   ]
  },
  {
   "cell_type": "markdown",
   "metadata": {},
   "source": [
    "The variational distribution $Q_\\phi (\\tau, q)$ is parameterized as $Q_\\phi(\\tau) Q_\\phi(q | \\tau)$. Since our experiments below only consider different trees, we omit discussion of the distribution of branch lengths. The variational distribution of $\\tau$ is based on the SBN parameterization detailed above.\n",
    "    $$\n",
    "      Q_\\phi(\\tau) = Q_\\phi(S_1, \\dots) = Q_\\phi(S_1 = s_i) \\prod_{i > 1} Q_\\phi(S_i = s_i | s_{j \\in \\pi(i)} = s_{j \\in \\pi(i)})\n",
    "    $$"
   ]
  },
  {
   "cell_type": "markdown",
   "metadata": {},
   "source": [
    "For every possible parent-child subsplit pair, there is an associated parameter $\\phi_{s|t}$. This problem is made tractable by restricting the support of possible pairs over high-probability areas of the posterior (found via bootstrap) $\\mathbb S_1$ and $\\mathbb S_i (s_{j \\in \\pi(i)})$ represent these restricted supports.\n",
    "    $$\n",
    "      Q_\\phi(S_1 = s_1) = \\frac{\\exp(\\phi_{s_1})}{\\sum_{s_1^r \\in \\mathbb S_1} \\exp{(\\phi_{s_1^r})}}\n",
    "    $$\n",
    "\n",
    "$$\n",
    "    Q_\\phi(S_i = s_i | S_{j \\in \\pi(i)} = s_{j \\in \\pi(i)}) = \\frac{\\exp(\\phi(s_i | s_{j \\in \\pi(i)}))}{\\sum_{s_i^r \\in \\mathbb S_i(s_{j \\in \\pi(i)})} \\exp(\\phi(s_i^r |s_{j \\in \\pi(i)}))}\n",
    "$$"
   ]
  },
  {
   "cell_type": "markdown",
   "metadata": {},
   "source": [
    "### Stochastic Optimization of the ELBO"
   ]
  },
  {
   "cell_type": "markdown",
   "metadata": {},
   "source": [
    "Since the $L^K(\\phi)$ is optimized using stochastic gradient descent (SGD). In general, \n",
    "$$\n",
    "\\nabla_\\phi L^K(\\phi) \\ne  E_{Q_\\phi(\\tau^i, q^i)}\\left(\\nabla_\\phi\\log \\frac{1}{K} \\sum_{i=1}^K \\frac{\\mathcal P(\\tau^i, q^i, Y)} {Q_\\phi(\\tau^i, q^i)} \\right)\n",
    "$$ \n",
    "\n",
    "The authors use the VIMCO gradient estimator for parameters associated with $\\tau$; this reduces the variance by leveraging the multiple samples in $L^K$.\n",
    "$$\n",
    "\\nabla_\\phi L^K(\\phi) = E_{Q_\\phi (\\tau^{1:K})} \\sum_{j=1}^K (W_j - \\tilde w^j) \\nabla_\\phi \\log Q_\\phi(\\tau^j)\n",
    "$$\n",
    "where:\n",
    "- $f_\\phi(\\tau^i) = \\frac{\\mathcal P(\\tau^i, Y)}{Q_\\phi (\\tau^i)}$ is the unnormalized importance weight of sample $i$;\n",
    "-  $\\hat f_\\phi(\\tau^{-j}) = \\left( \\prod_{i \\ne j} f_\\phi (\\tau^i) \\right)^{\\frac{1}{K-1}}$ is the geometric mean of the unnormalized weights;\n",
    "- $\\tilde w^j = \\frac{f_\\phi (\\tau^j)}{\\sum_{i=1}^K f_\\phi (\\tau^j)}$;\n",
    "- and $W_j = \\hat L^K (\\phi) - \\log \\frac 1 K \\left( \\sum_{i \\ne j} f_\\phi (\\tau^i) + {\\hat f_\\phi(\\tau^{-1})} \\right)$ is a per-sample local-learning signal"
   ]
  },
  {
   "cell_type": "markdown",
   "metadata": {},
   "source": [
    "In practice, so we can use auto-differentiation tools, we define a \"surrogate objective\" whose gradient equals the VIMCO gradient. \n",
    "$$\n",
    "\\tilde L^K (\\phi) \\triangleq \\sum_{j=1}^K (W_j - \\tilde w^j) |_{\\phi=\\phi} \\log Q_\\phi(\\tau^j)\n",
    "$$\n",
    "where the term in parenthesis preceding $|_{\\phi=\\phi}$ is evaluated at $\\phi$ but treated as a constant with respect to $\\phi$ when differentiating."
   ]
  },
  {
   "cell_type": "code",
   "execution_count": 26,
   "metadata": {},
   "outputs": [
    {
     "name": "stdout",
     "output_type": "stream",
     "text": [
      "i = 1\n",
      "L_tilde = 0.43985568005732856\n",
      "∇ = Grads(...)\n",
      "∇[table.probs] = [2.1848594829117265e-15, -1.0689905769994154e-15, -1.1158689059123103e-15, -2.7259921840475446e-16, 1.2132400705904373e-15, -9.40640852185682e-16, 0.04814283003032064, -0.09628566006064128, 0.04814283003032064, 1.531727134766042e-5, -3.063454269532084e-5, 1.531727134766042e-5, 0.02063920598642796, 0.02063920598643131, 0.020639205986433797, -0.12378928410453395, 0.02063920598642796, 0.02059325417238498, 0.02063920598642796]\n",
      "\n",
      "i = 2\n",
      "L_tilde = 0.2782724595229482\n",
      "∇ = Grads(...)\n",
      "∇[table.probs] = [-8.30426163493959e-18, 1.987858918486686e-17, -1.1574327549927265e-17, -2.869351024551526e-16, -3.5854824201088316e-16, 6.45483344466036e-16, 0.030460118894696183, -0.060920237789392366, 0.030460118894696183, 6.888133510904332e-6, -1.3776267021808666e-5, 6.888133510904332e-6, 0.01305728872637386, 0.013057288726373894, 0.013057288726378092, -0.0783230679577147, 0.01305728872637386, 0.013036624325841148, 0.01305728872637386]\n",
      "\n"
     ]
    }
   ],
   "source": [
    "train_obj()  = -VBPILookup.vimco_objective(leaves, table, all_sbn_dict, 100)\n",
    "params       = Flux.params(table.probs)\n",
    "for i in 1:2\n",
    "    L_tilde, ∇ = VBPILookup.gradient_with_loss(train_obj, params)\n",
    "    @show i\n",
    "    @show L_tilde\n",
    "    @show ∇\n",
    "    @show ∇[table.probs]\n",
    "    println(\"\")\n",
    "end\n",
    "    "
   ]
  },
  {
   "cell_type": "markdown",
   "metadata": {},
   "source": [
    "  ## Their Synthetic Experiment\n",
    "Zhang and Matsen (2018a) evaluated their method on a synthetic dataset. They consider the sample space of all unrooted phylogenetic trees with 8 leaves (leaving a sample size of 10395). As hinted to earlier, a posterior $p_0(\\tau)$ is generated by drawing from a symmetric Dirichlet distribution with concentration parameter $\\beta = 0.008$. Since there is no data, the model log evidence is $\\log \\mathcal P(Y) = 0$, so the tightness of the variational lower bound is known.\n",
    "Also, branch lengths are not considered\n"
   ]
  },
  {
   "cell_type": "markdown",
   "metadata": {},
   "source": [
    "In their experiment, they tested two different sample sizes in calculating bounds: \\(20, 50\\). They compare the VIMCO estimator with the reweighted-wake-sleep (RWS) objective, which minimizes the KL in the other direcction.\n",
    "\n",
    "  ![](./fig/experiments_sim.png)"
   ]
  },
  {
   "cell_type": "markdown",
   "metadata": {},
   "source": [
    "Focusing on KL, the VIMCO with 50 samples in training objective learns the best variational\n",
    "    distribution. From the right plot, VIMCO slightly underestimates higher-probability areas and over-estimates lower-probability areas. RWS underestimates lower-probability areas."
   ]
  },
  {
   "cell_type": "markdown",
   "metadata": {},
   "source": [
    "## Implementing Synthetic Experiment in Julia"
   ]
  },
  {
   "cell_type": "markdown",
   "metadata": {},
   "source": [
    "Here we perform a similar experiment to the synthetic experiment in Zhang and Matsen (2018a). The only difference is that we consider all rooted trees of 7 individuals (which has the same sample size)."
   ]
  },
  {
   "cell_type": "code",
   "execution_count": 129,
   "metadata": {
    "scrolled": true
   },
   "outputs": [
    {
     "data": {
      "text/plain": [
       "7-element Array{Symbol,1}:\n",
       " :A\n",
       " :B\n",
       " :C\n",
       " :D\n",
       " :E\n",
       " :F\n",
       " :G"
      ]
     },
     "execution_count": 129,
     "metadata": {},
     "output_type": "execute_result"
    }
   ],
   "source": [
    "leaves=[:A, :B, :C, :D, :E, :F, :G]"
   ]
  },
  {
   "cell_type": "code",
   "execution_count": 130,
   "metadata": {
    "scrolled": false
   },
   "outputs": [
    {
     "data": {
      "text/plain": [
       "Dict{UInt64,Float64} with 10395 entries:\n",
       "  0xe86bb02926f15f5f => 1.31701e-42\n",
       "  0xacf12cca9d4ed0ab => 6.68894e-30\n",
       "  0xaf769f7de8e6e7e6 => 5.39837e-106\n",
       "  0x53e0f3ca6517d2a6 => 1.95738e-92\n",
       "  0xf1d5e3ff57ce4ef5 => 2.03634e-105\n",
       "  0x5958a1748a0eba0f => 2.60571e-33\n",
       "  0x5be3301d4863345e => 1.58984e-7\n",
       "  0x96c478fb5e9209cf => 2.55027e-51\n",
       "  0x8ffdbeb31051701d => 1.85762e-5\n",
       "  0xf05f8b68627381f6 => 5.80306e-106\n",
       "  0x4e0e001b6e82a5c8 => 1.43567e-8\n",
       "  0xf630b979a3a0ddb3 => 6.92443e-9\n",
       "  0x590a10265cc541b6 => 6.42426e-126\n",
       "  0xb3c22cea9e7f6785 => 8.93264e-86\n",
       "  0x745fe4356016c723 => 7.68897e-102\n",
       "  0xc0a68f2ffe6bbdac => 1.06009e-16\n",
       "  0xdd85e5795169ad39 => 1.89002e-74\n",
       "  0x74ee3ff43a61a6fa => 2.55743e-28\n",
       "  0xd33feb1f8ffb17cf => 2.89879e-32\n",
       "  0xbae82a43b1bdaff4 => 5.17656e-17\n",
       "  0x1b9d6be63dd003ba => 2.64969e-162\n",
       "  0x88ad7f55811bc7e5 => 8.96543e-8\n",
       "  0xd920d1cb8a60ed68 => 3.76158e-29\n",
       "  0x0622aceedb1832d1 => 7.70699e-92\n",
       "  0x6d07d7e817c39035 => 5.08317e-11\n",
       "  ⋮                  => ⋮"
      ]
     },
     "execution_count": 130,
     "metadata": {},
     "output_type": "execute_result"
    }
   ],
   "source": [
    "all_sbns=VBPILookup.enumerate_all_sbns(leaves, 1, length(leaves)-1);\n",
    "\n",
    "all_sbn_probs = rand(Dirichlet(0.008*fill(1.0, length(all_sbns))))\n",
    "\n",
    "all_sbn_hash = Sbn.hashtree.(all_sbns)\n",
    "all_sbn_dict = Dict(zip(all_sbn_hash, all_sbn_probs))"
   ]
  },
  {
   "cell_type": "markdown",
   "metadata": {},
   "source": [
    "Here is what one example tree looks like:"
   ]
  },
  {
   "cell_type": "code",
   "execution_count": 131,
   "metadata": {},
   "outputs": [
    {
     "data": {
      "image/svg+xml": [
       "<?xml version=\"1.0\" encoding=\"utf-8\"?>\n",
       "<svg xmlns=\"http://www.w3.org/2000/svg\" xmlns:xlink=\"http://www.w3.org/1999/xlink\" width=\"600\" height=\"400\" viewBox=\"0 0 2400 1600\">\n",
       "<defs>\n",
       "  <clipPath id=\"clip500\">\n",
       "    <rect x=\"0\" y=\"0\" width=\"2400\" height=\"1600\"/>\n",
       "  </clipPath>\n",
       "</defs>\n",
       "<path clip-path=\"url(#clip500)\" d=\"\n",
       "M0 1600 L2400 1600 L2400 0 L0 0  Z\n",
       "  \" fill=\"#ffffff\" fill-rule=\"evenodd\" fill-opacity=\"1\"/>\n",
       "<defs>\n",
       "  <clipPath id=\"clip501\">\n",
       "    <rect x=\"480\" y=\"0\" width=\"1681\" height=\"1600\"/>\n",
       "  </clipPath>\n",
       "</defs>\n",
       "<path clip-path=\"url(#clip500)\" d=\"\n",
       "M148.334 1486.45 L2352.76 1486.45 L2352.76 47.2441 L148.334 47.2441  Z\n",
       "  \" fill=\"#ffffff\" fill-rule=\"evenodd\" fill-opacity=\"1\"/>\n",
       "<defs>\n",
       "  <clipPath id=\"clip502\">\n",
       "    <rect x=\"148\" y=\"47\" width=\"2205\" height=\"1440\"/>\n",
       "  </clipPath>\n",
       "</defs>\n",
       "<polyline clip-path=\"url(#clip502)\" style=\"stroke:#000000; stroke-width:2; stroke-opacity:0.1; fill:none\" points=\"\n",
       "  210.724,1486.45 210.724,47.2441 \n",
       "  \"/>\n",
       "<polyline clip-path=\"url(#clip502)\" style=\"stroke:#000000; stroke-width:2; stroke-opacity:0.1; fill:none\" points=\"\n",
       "  730.634,1486.45 730.634,47.2441 \n",
       "  \"/>\n",
       "<polyline clip-path=\"url(#clip502)\" style=\"stroke:#000000; stroke-width:2; stroke-opacity:0.1; fill:none\" points=\"\n",
       "  1250.55,1486.45 1250.55,47.2441 \n",
       "  \"/>\n",
       "<polyline clip-path=\"url(#clip502)\" style=\"stroke:#000000; stroke-width:2; stroke-opacity:0.1; fill:none\" points=\"\n",
       "  1770.46,1486.45 1770.46,47.2441 \n",
       "  \"/>\n",
       "<polyline clip-path=\"url(#clip502)\" style=\"stroke:#000000; stroke-width:2; stroke-opacity:0.1; fill:none\" points=\"\n",
       "  2290.37,1486.45 2290.37,47.2441 \n",
       "  \"/>\n",
       "<polyline clip-path=\"url(#clip500)\" style=\"stroke:#000000; stroke-width:4; stroke-opacity:1; fill:none\" points=\"\n",
       "  148.334,1486.45 2352.76,1486.45 \n",
       "  \"/>\n",
       "<polyline clip-path=\"url(#clip500)\" style=\"stroke:#000000; stroke-width:4; stroke-opacity:1; fill:none\" points=\"\n",
       "  210.724,1486.45 210.724,1469.18 \n",
       "  \"/>\n",
       "<polyline clip-path=\"url(#clip500)\" style=\"stroke:#000000; stroke-width:4; stroke-opacity:1; fill:none\" points=\"\n",
       "  730.634,1486.45 730.634,1469.18 \n",
       "  \"/>\n",
       "<polyline clip-path=\"url(#clip500)\" style=\"stroke:#000000; stroke-width:4; stroke-opacity:1; fill:none\" points=\"\n",
       "  1250.55,1486.45 1250.55,1469.18 \n",
       "  \"/>\n",
       "<polyline clip-path=\"url(#clip500)\" style=\"stroke:#000000; stroke-width:4; stroke-opacity:1; fill:none\" points=\"\n",
       "  1770.46,1486.45 1770.46,1469.18 \n",
       "  \"/>\n",
       "<polyline clip-path=\"url(#clip500)\" style=\"stroke:#000000; stroke-width:4; stroke-opacity:1; fill:none\" points=\"\n",
       "  2290.37,1486.45 2290.37,1469.18 \n",
       "  \"/>\n",
       "<path clip-path=\"url(#clip500)\" d=\"M 0 0 M178.733 1515.64 Q175.122 1515.64 173.293 1519.2 Q171.488 1522.75 171.488 1529.87 Q171.488 1536.98 173.293 1540.55 Q175.122 1544.09 178.733 1544.09 Q182.367 1544.09 184.173 1540.55 Q186.002 1536.98 186.002 1529.87 Q186.002 1522.75 184.173 1519.2 Q182.367 1515.64 178.733 1515.64 M178.733 1511.93 Q184.543 1511.93 187.599 1516.54 Q190.677 1521.12 190.677 1529.87 Q190.677 1538.6 187.599 1543.21 Q184.543 1547.79 178.733 1547.79 Q172.923 1547.79 169.844 1543.21 Q166.789 1538.6 166.789 1529.87 Q166.789 1521.12 169.844 1516.54 Q172.923 1511.93 178.733 1511.93 Z\" fill=\"#000000\" fill-rule=\"evenodd\" fill-opacity=\"1\" /><path clip-path=\"url(#clip500)\" d=\"M 0 0 M195.747 1541.24 L200.631 1541.24 L200.631 1547.12 L195.747 1547.12 L195.747 1541.24 Z\" fill=\"#000000\" fill-rule=\"evenodd\" fill-opacity=\"1\" /><path clip-path=\"url(#clip500)\" d=\"M 0 0 M215.701 1515.64 Q212.089 1515.64 210.261 1519.2 Q208.455 1522.75 208.455 1529.87 Q208.455 1536.98 210.261 1540.55 Q212.089 1544.09 215.701 1544.09 Q219.335 1544.09 221.14 1540.55 Q222.969 1536.98 222.969 1529.87 Q222.969 1522.75 221.14 1519.2 Q219.335 1515.64 215.701 1515.64 M215.701 1511.93 Q221.511 1511.93 224.566 1516.54 Q227.645 1521.12 227.645 1529.87 Q227.645 1538.6 224.566 1543.21 Q221.511 1547.79 215.701 1547.79 Q209.89 1547.79 206.812 1543.21 Q203.756 1538.6 203.756 1529.87 Q203.756 1521.12 206.812 1516.54 Q209.89 1511.93 215.701 1511.93 Z\" fill=\"#000000\" fill-rule=\"evenodd\" fill-opacity=\"1\" /><path clip-path=\"url(#clip500)\" d=\"M 0 0 M242.714 1515.64 Q239.103 1515.64 237.274 1519.2 Q235.469 1522.75 235.469 1529.87 Q235.469 1536.98 237.274 1540.55 Q239.103 1544.09 242.714 1544.09 Q246.348 1544.09 248.154 1540.55 Q249.983 1536.98 249.983 1529.87 Q249.983 1522.75 248.154 1519.2 Q246.348 1515.64 242.714 1515.64 M242.714 1511.93 Q248.524 1511.93 251.58 1516.54 Q254.659 1521.12 254.659 1529.87 Q254.659 1538.6 251.58 1543.21 Q248.524 1547.79 242.714 1547.79 Q236.904 1547.79 233.825 1543.21 Q230.77 1538.6 230.77 1529.87 Q230.77 1521.12 233.825 1516.54 Q236.904 1511.93 242.714 1511.93 Z\" fill=\"#000000\" fill-rule=\"evenodd\" fill-opacity=\"1\" /><path clip-path=\"url(#clip500)\" d=\"M 0 0 M699.94 1515.64 Q696.329 1515.64 694.5 1519.2 Q692.695 1522.75 692.695 1529.87 Q692.695 1536.98 694.5 1540.55 Q696.329 1544.09 699.94 1544.09 Q703.574 1544.09 705.38 1540.55 Q707.209 1536.98 707.209 1529.87 Q707.209 1522.75 705.38 1519.2 Q703.574 1515.64 699.94 1515.64 M699.94 1511.93 Q705.75 1511.93 708.806 1516.54 Q711.885 1521.12 711.885 1529.87 Q711.885 1538.6 708.806 1543.21 Q705.75 1547.79 699.94 1547.79 Q694.13 1547.79 691.051 1543.21 Q687.996 1538.6 687.996 1529.87 Q687.996 1521.12 691.051 1516.54 Q694.13 1511.93 699.94 1511.93 Z\" fill=\"#000000\" fill-rule=\"evenodd\" fill-opacity=\"1\" /><path clip-path=\"url(#clip500)\" d=\"M 0 0 M716.954 1541.24 L721.838 1541.24 L721.838 1547.12 L716.954 1547.12 L716.954 1541.24 Z\" fill=\"#000000\" fill-rule=\"evenodd\" fill-opacity=\"1\" /><path clip-path=\"url(#clip500)\" d=\"M 0 0 M730.935 1543.18 L747.255 1543.18 L747.255 1547.12 L725.31 1547.12 L725.31 1543.18 Q727.972 1540.43 732.556 1535.8 Q737.162 1531.15 738.343 1529.81 Q740.588 1527.28 741.468 1525.55 Q742.37 1523.79 742.37 1522.1 Q742.37 1519.34 740.426 1517.61 Q738.505 1515.87 735.403 1515.87 Q733.204 1515.87 730.75 1516.63 Q728.32 1517.4 725.542 1518.95 L725.542 1514.23 Q728.366 1513.09 730.82 1512.51 Q733.273 1511.93 735.31 1511.93 Q740.681 1511.93 743.875 1514.62 Q747.07 1517.31 747.07 1521.8 Q747.07 1523.93 746.259 1525.85 Q745.472 1527.74 743.366 1530.34 Q742.787 1531.01 739.685 1534.23 Q736.583 1537.42 730.935 1543.18 Z\" fill=\"#000000\" fill-rule=\"evenodd\" fill-opacity=\"1\" /><path clip-path=\"url(#clip500)\" d=\"M 0 0 M752.37 1512.56 L770.727 1512.56 L770.727 1516.5 L756.653 1516.5 L756.653 1524.97 Q757.671 1524.62 758.69 1524.46 Q759.708 1524.27 760.727 1524.27 Q766.514 1524.27 769.893 1527.44 Q773.273 1530.62 773.273 1536.03 Q773.273 1541.61 769.801 1544.71 Q766.329 1547.79 760.009 1547.79 Q757.833 1547.79 755.565 1547.42 Q753.319 1547.05 750.912 1546.31 L750.912 1541.61 Q752.995 1542.74 755.218 1543.3 Q757.44 1543.86 759.917 1543.86 Q763.921 1543.86 766.259 1541.75 Q768.597 1539.64 768.597 1536.03 Q768.597 1532.42 766.259 1530.31 Q763.921 1528.21 759.917 1528.21 Q758.042 1528.21 756.167 1528.62 Q754.315 1529.04 752.37 1529.92 L752.37 1512.56 Z\" fill=\"#000000\" fill-rule=\"evenodd\" fill-opacity=\"1\" /><path clip-path=\"url(#clip500)\" d=\"M 0 0 M1219.05 1515.64 Q1215.44 1515.64 1213.61 1519.2 Q1211.81 1522.75 1211.81 1529.87 Q1211.81 1536.98 1213.61 1540.55 Q1215.44 1544.09 1219.05 1544.09 Q1222.69 1544.09 1224.49 1540.55 Q1226.32 1536.98 1226.32 1529.87 Q1226.32 1522.75 1224.49 1519.2 Q1222.69 1515.64 1219.05 1515.64 M1219.05 1511.93 Q1224.86 1511.93 1227.92 1516.54 Q1231 1521.12 1231 1529.87 Q1231 1538.6 1227.92 1543.21 Q1224.86 1547.79 1219.05 1547.79 Q1213.24 1547.79 1210.16 1543.21 Q1207.11 1538.6 1207.11 1529.87 Q1207.11 1521.12 1210.16 1516.54 Q1213.24 1511.93 1219.05 1511.93 Z\" fill=\"#000000\" fill-rule=\"evenodd\" fill-opacity=\"1\" /><path clip-path=\"url(#clip500)\" d=\"M 0 0 M1236.07 1541.24 L1240.95 1541.24 L1240.95 1547.12 L1236.07 1547.12 L1236.07 1541.24 Z\" fill=\"#000000\" fill-rule=\"evenodd\" fill-opacity=\"1\" /><path clip-path=\"url(#clip500)\" d=\"M 0 0 M1246.07 1512.56 L1264.42 1512.56 L1264.42 1516.5 L1250.35 1516.5 L1250.35 1524.97 Q1251.37 1524.62 1252.39 1524.46 Q1253.4 1524.27 1254.42 1524.27 Q1260.21 1524.27 1263.59 1527.44 Q1266.97 1530.62 1266.97 1536.03 Q1266.97 1541.61 1263.5 1544.71 Q1260.02 1547.79 1253.7 1547.79 Q1251.53 1547.79 1249.26 1547.42 Q1247.02 1547.05 1244.61 1546.31 L1244.61 1541.61 Q1246.69 1542.74 1248.91 1543.3 Q1251.14 1543.86 1253.61 1543.86 Q1257.62 1543.86 1259.95 1541.75 Q1262.29 1539.64 1262.29 1536.03 Q1262.29 1532.42 1259.95 1530.31 Q1257.62 1528.21 1253.61 1528.21 Q1251.74 1528.21 1249.86 1528.62 Q1248.01 1529.04 1246.07 1529.92 L1246.07 1512.56 Z\" fill=\"#000000\" fill-rule=\"evenodd\" fill-opacity=\"1\" /><path clip-path=\"url(#clip500)\" d=\"M 0 0 M1282.04 1515.64 Q1278.43 1515.64 1276.6 1519.2 Q1274.79 1522.75 1274.79 1529.87 Q1274.79 1536.98 1276.6 1540.55 Q1278.43 1544.09 1282.04 1544.09 Q1285.67 1544.09 1287.48 1540.55 Q1289.31 1536.98 1289.31 1529.87 Q1289.31 1522.75 1287.48 1519.2 Q1285.67 1515.64 1282.04 1515.64 M1282.04 1511.93 Q1287.85 1511.93 1290.9 1516.54 Q1293.98 1521.12 1293.98 1529.87 Q1293.98 1538.6 1290.9 1543.21 Q1287.85 1547.79 1282.04 1547.79 Q1276.23 1547.79 1273.15 1543.21 Q1270.09 1538.6 1270.09 1529.87 Q1270.09 1521.12 1273.15 1516.54 Q1276.23 1511.93 1282.04 1511.93 Z\" fill=\"#000000\" fill-rule=\"evenodd\" fill-opacity=\"1\" /><path clip-path=\"url(#clip500)\" d=\"M 0 0 M1739.41 1515.64 Q1735.8 1515.64 1733.97 1519.2 Q1732.17 1522.75 1732.17 1529.87 Q1732.17 1536.98 1733.97 1540.55 Q1735.8 1544.09 1739.41 1544.09 Q1743.05 1544.09 1744.85 1540.55 Q1746.68 1536.98 1746.68 1529.87 Q1746.68 1522.75 1744.85 1519.2 Q1743.05 1515.64 1739.41 1515.64 M1739.41 1511.93 Q1745.22 1511.93 1748.28 1516.54 Q1751.36 1521.12 1751.36 1529.87 Q1751.36 1538.6 1748.28 1543.21 Q1745.22 1547.79 1739.41 1547.79 Q1733.6 1547.79 1730.53 1543.21 Q1727.47 1538.6 1727.47 1529.87 Q1727.47 1521.12 1730.53 1516.54 Q1733.6 1511.93 1739.41 1511.93 Z\" fill=\"#000000\" fill-rule=\"evenodd\" fill-opacity=\"1\" /><path clip-path=\"url(#clip500)\" d=\"M 0 0 M1756.43 1541.24 L1761.31 1541.24 L1761.31 1547.12 L1756.43 1547.12 L1756.43 1541.24 Z\" fill=\"#000000\" fill-rule=\"evenodd\" fill-opacity=\"1\" /><path clip-path=\"url(#clip500)\" d=\"M 0 0 M1765.2 1512.56 L1787.42 1512.56 L1787.42 1514.55 L1774.88 1547.12 L1769.99 1547.12 L1781.8 1516.5 L1765.2 1516.5 L1765.2 1512.56 Z\" fill=\"#000000\" fill-rule=\"evenodd\" fill-opacity=\"1\" /><path clip-path=\"url(#clip500)\" d=\"M 0 0 M1792.54 1512.56 L1810.9 1512.56 L1810.9 1516.5 L1796.82 1516.5 L1796.82 1524.97 Q1797.84 1524.62 1798.86 1524.46 Q1799.88 1524.27 1800.9 1524.27 Q1806.68 1524.27 1810.06 1527.44 Q1813.44 1530.62 1813.44 1536.03 Q1813.44 1541.61 1809.97 1544.71 Q1806.5 1547.79 1800.18 1547.79 Q1798 1547.79 1795.73 1547.42 Q1793.49 1547.05 1791.08 1546.31 L1791.08 1541.61 Q1793.16 1542.74 1795.39 1543.3 Q1797.61 1543.86 1800.09 1543.86 Q1804.09 1543.86 1806.43 1541.75 Q1808.77 1539.64 1808.77 1536.03 Q1808.77 1532.42 1806.43 1530.31 Q1804.09 1528.21 1800.09 1528.21 Q1798.21 1528.21 1796.34 1528.62 Q1794.48 1529.04 1792.54 1529.92 L1792.54 1512.56 Z\" fill=\"#000000\" fill-rule=\"evenodd\" fill-opacity=\"1\" /><path clip-path=\"url(#clip500)\" d=\"M 0 0 M2248.76 1543.18 L2256.4 1543.18 L2256.4 1516.82 L2248.09 1518.49 L2248.09 1514.23 L2256.35 1512.56 L2261.03 1512.56 L2261.03 1543.18 L2268.67 1543.18 L2268.67 1547.12 L2248.76 1547.12 L2248.76 1543.18 Z\" fill=\"#000000\" fill-rule=\"evenodd\" fill-opacity=\"1\" /><path clip-path=\"url(#clip500)\" d=\"M 0 0 M2273.73 1541.24 L2278.62 1541.24 L2278.62 1547.12 L2273.73 1547.12 L2273.73 1541.24 Z\" fill=\"#000000\" fill-rule=\"evenodd\" fill-opacity=\"1\" /><path clip-path=\"url(#clip500)\" d=\"M 0 0 M2293.69 1515.64 Q2290.08 1515.64 2288.25 1519.2 Q2286.44 1522.75 2286.44 1529.87 Q2286.44 1536.98 2288.25 1540.55 Q2290.08 1544.09 2293.69 1544.09 Q2297.32 1544.09 2299.13 1540.55 Q2300.96 1536.98 2300.96 1529.87 Q2300.96 1522.75 2299.13 1519.2 Q2297.32 1515.64 2293.69 1515.64 M2293.69 1511.93 Q2299.5 1511.93 2302.55 1516.54 Q2305.63 1521.12 2305.63 1529.87 Q2305.63 1538.6 2302.55 1543.21 Q2299.5 1547.79 2293.69 1547.79 Q2287.88 1547.79 2284.8 1543.21 Q2281.74 1538.6 2281.74 1529.87 Q2281.74 1521.12 2284.8 1516.54 Q2287.88 1511.93 2293.69 1511.93 Z\" fill=\"#000000\" fill-rule=\"evenodd\" fill-opacity=\"1\" /><path clip-path=\"url(#clip500)\" d=\"M 0 0 M2320.7 1515.64 Q2317.09 1515.64 2315.26 1519.2 Q2313.46 1522.75 2313.46 1529.87 Q2313.46 1536.98 2315.26 1540.55 Q2317.09 1544.09 2320.7 1544.09 Q2324.34 1544.09 2326.14 1540.55 Q2327.97 1536.98 2327.97 1529.87 Q2327.97 1522.75 2326.14 1519.2 Q2324.34 1515.64 2320.7 1515.64 M2320.7 1511.93 Q2326.51 1511.93 2329.57 1516.54 Q2332.65 1521.12 2332.65 1529.87 Q2332.65 1538.6 2329.57 1543.21 Q2326.51 1547.79 2320.7 1547.79 Q2314.89 1547.79 2311.81 1543.21 Q2308.76 1538.6 2308.76 1529.87 Q2308.76 1521.12 2311.81 1516.54 Q2314.89 1511.93 2320.7 1511.93 Z\" fill=\"#000000\" fill-rule=\"evenodd\" fill-opacity=\"1\" /><path clip-path=\"url(#clip500)\" d=\"M 0 0 M65.0198 1227.85 Q61.4087 1227.85 59.58 1231.42 Q57.7745 1234.96 57.7745 1242.09 Q57.7745 1249.2 59.58 1252.76 Q61.4087 1256.3 65.0198 1256.3 Q68.6541 1256.3 70.4596 1252.76 Q72.2883 1249.2 72.2883 1242.09 Q72.2883 1234.96 70.4596 1231.42 Q68.6541 1227.85 65.0198 1227.85 M65.0198 1224.15 Q70.83 1224.15 73.8855 1228.76 Q76.9642 1233.34 76.9642 1242.09 Q76.9642 1250.82 73.8855 1255.42 Q70.83 1260.01 65.0198 1260.01 Q59.2097 1260.01 56.131 1255.42 Q53.0754 1250.82 53.0754 1242.09 Q53.0754 1233.34 56.131 1228.76 Q59.2097 1224.15 65.0198 1224.15 Z\" fill=\"#000000\" fill-rule=\"evenodd\" fill-opacity=\"1\" /><path clip-path=\"url(#clip500)\" d=\"M 0 0 M82.0336 1253.46 L86.9179 1253.46 L86.9179 1259.33 L82.0336 1259.33 L82.0336 1253.46 Z\" fill=\"#000000\" fill-rule=\"evenodd\" fill-opacity=\"1\" /><path clip-path=\"url(#clip500)\" d=\"M 0 0 M96.015 1255.4 L112.334 1255.4 L112.334 1259.33 L90.3901 1259.33 L90.3901 1255.4 Q93.0521 1252.65 97.6354 1248.02 Q102.242 1243.36 103.422 1242.02 Q105.668 1239.5 106.547 1237.76 Q107.45 1236 107.45 1234.31 Q107.45 1231.56 105.506 1229.82 Q103.584 1228.08 100.483 1228.08 Q98.2835 1228.08 95.8298 1228.85 Q93.3993 1229.61 90.6215 1231.16 L90.6215 1226.44 Q93.4456 1225.31 95.8993 1224.73 Q98.353 1224.15 100.39 1224.15 Q105.76 1224.15 108.955 1226.83 Q112.149 1229.52 112.149 1234.01 Q112.149 1236.14 111.339 1238.06 Q110.552 1239.96 108.446 1242.55 Q107.867 1243.22 104.765 1246.44 Q101.663 1249.64 96.015 1255.4 Z\" fill=\"#000000\" fill-rule=\"evenodd\" fill-opacity=\"1\" /><path clip-path=\"url(#clip500)\" d=\"M 0 0 M62.9365 911.048 Q59.3254 911.048 57.4967 914.612 Q55.6912 918.154 55.6912 925.284 Q55.6912 932.39 57.4967 935.955 Q59.3254 939.497 62.9365 939.497 Q66.5707 939.497 68.3763 935.955 Q70.205 932.39 70.205 925.284 Q70.205 918.154 68.3763 914.612 Q66.5707 911.048 62.9365 911.048 M62.9365 907.344 Q68.7467 907.344 71.8022 911.95 Q74.8809 916.534 74.8809 925.284 Q74.8809 934.01 71.8022 938.617 Q68.7467 943.2 62.9365 943.2 Q57.1264 943.2 54.0477 938.617 Q50.9921 934.01 50.9921 925.284 Q50.9921 916.534 54.0477 911.95 Q57.1264 907.344 62.9365 907.344 Z\" fill=\"#000000\" fill-rule=\"evenodd\" fill-opacity=\"1\" /><path clip-path=\"url(#clip500)\" d=\"M 0 0 M79.9503 936.649 L84.8345 936.649 L84.8345 942.529 L79.9503 942.529 L79.9503 936.649 Z\" fill=\"#000000\" fill-rule=\"evenodd\" fill-opacity=\"1\" /><path clip-path=\"url(#clip500)\" d=\"M 0 0 M102.751 912.043 L90.9456 930.492 L102.751 930.492 L102.751 912.043 M101.524 907.969 L107.404 907.969 L107.404 930.492 L112.334 930.492 L112.334 934.381 L107.404 934.381 L107.404 942.529 L102.751 942.529 L102.751 934.381 L87.1493 934.381 L87.1493 929.867 L101.524 907.969 Z\" fill=\"#000000\" fill-rule=\"evenodd\" fill-opacity=\"1\" /><path clip-path=\"url(#clip500)\" d=\"M 0 0 M63.2606 594.242 Q59.6495 594.242 57.8208 597.807 Q56.0152 601.348 56.0152 608.478 Q56.0152 615.584 57.8208 619.149 Q59.6495 622.691 63.2606 622.691 Q66.8948 622.691 68.7004 619.149 Q70.5291 615.584 70.5291 608.478 Q70.5291 601.348 68.7004 597.807 Q66.8948 594.242 63.2606 594.242 M63.2606 590.538 Q69.0707 590.538 72.1263 595.145 Q75.205 599.728 75.205 608.478 Q75.205 617.205 72.1263 621.811 Q69.0707 626.394 63.2606 626.394 Q57.4504 626.394 54.3717 621.811 Q51.3162 617.205 51.3162 608.478 Q51.3162 599.728 54.3717 595.145 Q57.4504 590.538 63.2606 590.538 Z\" fill=\"#000000\" fill-rule=\"evenodd\" fill-opacity=\"1\" /><path clip-path=\"url(#clip500)\" d=\"M 0 0 M80.2744 619.843 L85.1586 619.843 L85.1586 625.723 L80.2744 625.723 L80.2744 619.843 Z\" fill=\"#000000\" fill-rule=\"evenodd\" fill-opacity=\"1\" /><path clip-path=\"url(#clip500)\" d=\"M 0 0 M100.807 606.58 Q97.6585 606.58 95.8067 608.732 Q93.978 610.885 93.978 614.635 Q93.978 618.362 95.8067 620.538 Q97.6585 622.691 100.807 622.691 Q103.955 622.691 105.783 620.538 Q107.635 618.362 107.635 614.635 Q107.635 610.885 105.783 608.732 Q103.955 606.58 100.807 606.58 M110.089 591.927 L110.089 596.186 Q108.33 595.353 106.524 594.913 Q104.742 594.473 102.983 594.473 Q98.353 594.473 95.8993 597.598 Q93.4688 600.723 93.1215 607.043 Q94.4873 605.029 96.5474 603.964 Q98.6076 602.876 101.084 602.876 Q106.293 602.876 109.302 606.047 Q112.334 609.195 112.334 614.635 Q112.334 619.959 109.186 623.177 Q106.038 626.394 100.807 626.394 Q94.8113 626.394 91.6401 621.811 Q88.4688 617.205 88.4688 608.478 Q88.4688 600.283 92.3576 595.422 Q96.2465 590.538 102.797 590.538 Q104.557 590.538 106.339 590.885 Q108.145 591.232 110.089 591.927 Z\" fill=\"#000000\" fill-rule=\"evenodd\" fill-opacity=\"1\" /><path clip-path=\"url(#clip500)\" d=\"M 0 0 M63.5152 277.436 Q59.9041 277.436 58.0754 281.001 Q56.2699 284.542 56.2699 291.672 Q56.2699 298.778 58.0754 302.343 Q59.9041 305.885 63.5152 305.885 Q67.1494 305.885 68.955 302.343 Q70.7837 298.778 70.7837 291.672 Q70.7837 284.542 68.955 281.001 Q67.1494 277.436 63.5152 277.436 M63.5152 273.732 Q69.3254 273.732 72.3809 278.339 Q75.4596 282.922 75.4596 291.672 Q75.4596 300.399 72.3809 305.005 Q69.3254 309.588 63.5152 309.588 Q57.7051 309.588 54.6264 305.005 Q51.5708 300.399 51.5708 291.672 Q51.5708 282.922 54.6264 278.339 Q57.7051 273.732 63.5152 273.732 Z\" fill=\"#000000\" fill-rule=\"evenodd\" fill-opacity=\"1\" /><path clip-path=\"url(#clip500)\" d=\"M 0 0 M80.529 303.038 L85.4132 303.038 L85.4132 308.917 L80.529 308.917 L80.529 303.038 Z\" fill=\"#000000\" fill-rule=\"evenodd\" fill-opacity=\"1\" /><path clip-path=\"url(#clip500)\" d=\"M 0 0 M100.483 292.505 Q97.1493 292.505 95.228 294.288 Q93.3299 296.07 93.3299 299.195 Q93.3299 302.32 95.228 304.102 Q97.1493 305.885 100.483 305.885 Q103.816 305.885 105.737 304.102 Q107.658 302.297 107.658 299.195 Q107.658 296.07 105.737 294.288 Q103.839 292.505 100.483 292.505 M95.8067 290.515 Q92.7975 289.774 91.1077 287.714 Q89.441 285.653 89.441 282.69 Q89.441 278.547 92.3808 276.14 Q95.3437 273.732 100.483 273.732 Q105.645 273.732 108.584 276.14 Q111.524 278.547 111.524 282.69 Q111.524 285.653 109.834 287.714 Q108.168 289.774 105.182 290.515 Q108.561 291.302 110.436 293.593 Q112.334 295.885 112.334 299.195 Q112.334 304.218 109.256 306.903 Q106.2 309.588 100.483 309.588 Q94.765 309.588 91.6864 306.903 Q88.6308 304.218 88.6308 299.195 Q88.6308 295.885 90.529 293.593 Q92.4271 291.302 95.8067 290.515 M94.0937 283.13 Q94.0937 285.815 95.7604 287.32 Q97.4502 288.825 100.483 288.825 Q103.492 288.825 105.182 287.32 Q106.895 285.815 106.895 283.13 Q106.895 280.445 105.182 278.94 Q103.492 277.436 100.483 277.436 Q97.4502 277.436 95.7604 278.94 Q94.0937 280.445 94.0937 283.13 Z\" fill=\"#000000\" fill-rule=\"evenodd\" fill-opacity=\"1\" /><polyline clip-path=\"url(#clip502)\" style=\"stroke:#000000; stroke-width:4; stroke-opacity:1; fill:none\" points=\"\n",
       "  730.634,1332.57 210.724,1332.57 210.724,766.846 \n",
       "  \"/>\n",
       "<polyline clip-path=\"url(#clip502)\" style=\"stroke:#000000; stroke-width:4; stroke-opacity:1; fill:none\" points=\"\n",
       "  730.634,540.556 210.724,540.556 210.724,766.846 \n",
       "  \"/>\n",
       "<polyline clip-path=\"url(#clip502)\" style=\"stroke:#000000; stroke-width:4; stroke-opacity:1; fill:none\" points=\"\n",
       "  2290.37,1445.72 730.634,1445.72 730.634,1332.57 \n",
       "  \"/>\n",
       "<polyline clip-path=\"url(#clip502)\" style=\"stroke:#000000; stroke-width:4; stroke-opacity:1; fill:none\" points=\"\n",
       "  2290.37,1219.43 730.634,1219.43 730.634,1332.57 \n",
       "  \"/>\n",
       "<polyline clip-path=\"url(#clip502)\" style=\"stroke:#000000; stroke-width:4; stroke-opacity:1; fill:none\" points=\"\n",
       "  1250.55,653.701 730.634,653.701 730.634,540.556 \n",
       "  \"/>\n",
       "<polyline clip-path=\"url(#clip502)\" style=\"stroke:#000000; stroke-width:4; stroke-opacity:1; fill:none\" points=\"\n",
       "  2290.37,87.9763 730.634,87.9763 730.634,540.556 \n",
       "  \"/>\n",
       "<polyline clip-path=\"url(#clip502)\" style=\"stroke:#000000; stroke-width:4; stroke-opacity:1; fill:none\" points=\"\n",
       "  1770.46,879.991 1250.55,879.991 1250.55,653.701 \n",
       "  \"/>\n",
       "<polyline clip-path=\"url(#clip502)\" style=\"stroke:#000000; stroke-width:4; stroke-opacity:1; fill:none\" points=\"\n",
       "  1770.46,427.411 1250.55,427.411 1250.55,653.701 \n",
       "  \"/>\n",
       "<polyline clip-path=\"url(#clip502)\" style=\"stroke:#000000; stroke-width:4; stroke-opacity:1; fill:none\" points=\"\n",
       "  2290.37,993.136 1770.46,993.136 1770.46,879.991 \n",
       "  \"/>\n",
       "<polyline clip-path=\"url(#clip502)\" style=\"stroke:#000000; stroke-width:4; stroke-opacity:1; fill:none\" points=\"\n",
       "  2290.37,766.846 1770.46,766.846 1770.46,879.991 \n",
       "  \"/>\n",
       "<polyline clip-path=\"url(#clip502)\" style=\"stroke:#000000; stroke-width:4; stroke-opacity:1; fill:none\" points=\"\n",
       "  2290.37,540.556 1770.46,540.556 1770.46,427.411 \n",
       "  \"/>\n",
       "<polyline clip-path=\"url(#clip502)\" style=\"stroke:#000000; stroke-width:4; stroke-opacity:1; fill:none\" points=\"\n",
       "  2290.37,314.266 1770.46,314.266 1770.46,427.411 \n",
       "  \"/>\n",
       "<path clip-path=\"url(#clip502)\" d=\"M2290.37 1433.72 L2278.37 1445.72 L2290.37 1457.72 L2302.37 1445.72 L2290.37 1433.72 Z\" fill=\"#608cf6\" fill-rule=\"evenodd\" fill-opacity=\"1\" stroke=\"#000000\" stroke-opacity=\"1\" stroke-width=\"3.2\"/>\n",
       "<path clip-path=\"url(#clip502)\" d=\"M2290.37 1207.43 L2278.37 1219.43 L2290.37 1231.43 L2302.37 1219.43 L2290.37 1207.43 Z\" fill=\"#608cf6\" fill-rule=\"evenodd\" fill-opacity=\"1\" stroke=\"#000000\" stroke-opacity=\"1\" stroke-width=\"3.2\"/>\n",
       "<path clip-path=\"url(#clip502)\" d=\"M2290.37 75.9763 L2278.37 87.9763 L2290.37 99.9763 L2302.37 87.9763 L2290.37 75.9763 Z\" fill=\"#608cf6\" fill-rule=\"evenodd\" fill-opacity=\"1\" stroke=\"#000000\" stroke-opacity=\"1\" stroke-width=\"3.2\"/>\n",
       "<path clip-path=\"url(#clip502)\" d=\"M2290.37 981.136 L2278.37 993.136 L2290.37 1005.14 L2302.37 993.136 L2290.37 981.136 Z\" fill=\"#608cf6\" fill-rule=\"evenodd\" fill-opacity=\"1\" stroke=\"#000000\" stroke-opacity=\"1\" stroke-width=\"3.2\"/>\n",
       "<path clip-path=\"url(#clip502)\" d=\"M2290.37 754.846 L2278.37 766.846 L2290.37 778.846 L2302.37 766.846 L2290.37 754.846 Z\" fill=\"#608cf6\" fill-rule=\"evenodd\" fill-opacity=\"1\" stroke=\"#000000\" stroke-opacity=\"1\" stroke-width=\"3.2\"/>\n",
       "<path clip-path=\"url(#clip502)\" d=\"M2290.37 528.556 L2278.37 540.556 L2290.37 552.556 L2302.37 540.556 L2290.37 528.556 Z\" fill=\"#608cf6\" fill-rule=\"evenodd\" fill-opacity=\"1\" stroke=\"#000000\" stroke-opacity=\"1\" stroke-width=\"3.2\"/>\n",
       "<path clip-path=\"url(#clip502)\" d=\"M2290.37 302.266 L2278.37 314.266 L2290.37 326.266 L2302.37 314.266 L2290.37 302.266 Z\" fill=\"#608cf6\" fill-rule=\"evenodd\" fill-opacity=\"1\" stroke=\"#000000\" stroke-opacity=\"1\" stroke-width=\"3.2\"/>\n",
       "<path clip-path=\"url(#clip500)\" d=\"M 0 0 M2352.76 1423.54 L2341.66 1453.64 L2363.9 1453.64 L2352.76 1423.54 M2348.14 1415.48 L2357.41 1415.48 L2380.46 1475.96 L2371.96 1475.96 L2366.45 1460.44 L2339.19 1460.44 L2333.68 1475.96 L2325.05 1475.96 L2348.14 1415.48 Z\" fill=\"#000000\" fill-rule=\"evenodd\" fill-opacity=\"1\" /><path clip-path=\"url(#clip500)\" d=\"M 0 0 M2335.52 1195.91 L2335.52 1242.94 L2345.4 1242.94 Q2357.92 1242.94 2363.71 1237.27 Q2369.55 1231.6 2369.55 1219.37 Q2369.55 1207.21 2363.71 1201.58 Q2357.92 1195.91 2345.4 1195.91 L2335.52 1195.91 M2327.34 1189.19 L2344.15 1189.19 Q2361.73 1189.19 2369.95 1196.52 Q2378.18 1203.81 2378.18 1219.37 Q2378.18 1235 2369.91 1242.33 Q2361.65 1249.67 2344.15 1249.67 L2327.34 1249.67 L2327.34 1189.19 Z\" fill=\"#000000\" fill-rule=\"evenodd\" fill-opacity=\"1\" /><path clip-path=\"url(#clip500)\" d=\"M 0 0 M2333.27 57.7363 L2371.51 57.7363 L2371.51 64.6228 L2341.45 64.6228 L2341.45 82.5278 L2370.26 82.5278 L2370.26 89.4143 L2341.45 89.4143 L2341.45 111.33 L2372.24 111.33 L2372.24 118.216 L2333.27 118.216 L2333.27 57.7363 Z\" fill=\"#000000\" fill-rule=\"evenodd\" fill-opacity=\"1\" /><path clip-path=\"url(#clip500)\" d=\"M 0 0 M2339.49 994.493 L2339.49 1016.65 L2352.61 1016.65 Q2359.22 1016.65 2362.38 1013.94 Q2365.58 1011.18 2365.58 1005.55 Q2365.58 999.881 2362.38 997.207 Q2359.22 994.493 2352.61 994.493 L2339.49 994.493 M2339.49 969.62 L2339.49 987.849 L2351.6 987.849 Q2357.6 987.849 2360.51 985.621 Q2363.47 983.353 2363.47 978.735 Q2363.47 974.157 2360.51 971.889 Q2357.6 969.62 2351.6 969.62 L2339.49 969.62 M2331.31 962.896 L2352.21 962.896 Q2361.57 962.896 2366.63 966.785 Q2371.69 970.674 2371.69 977.844 Q2371.69 983.393 2369.1 986.675 Q2366.51 989.956 2361.49 990.766 Q2367.52 992.062 2370.84 996.194 Q2374.21 1000.29 2374.21 1006.44 Q2374.21 1014.54 2368.7 1018.96 Q2363.19 1023.38 2353.02 1023.38 L2331.31 1023.38 L2331.31 962.896 Z\" fill=\"#000000\" fill-rule=\"evenodd\" fill-opacity=\"1\" /><path clip-path=\"url(#clip500)\" d=\"M 0 0 M2377.14 741.265 L2377.14 749.893 Q2373.01 746.045 2368.31 744.141 Q2363.65 742.237 2358.39 742.237 Q2348.02 742.237 2342.51 748.597 Q2337 754.916 2337 766.907 Q2337 778.857 2342.51 785.217 Q2348.02 791.536 2358.39 791.536 Q2363.65 791.536 2368.31 789.632 Q2373.01 787.728 2377.14 783.88 L2377.14 792.427 Q2372.85 795.344 2368.03 796.802 Q2363.25 798.261 2357.9 798.261 Q2344.17 798.261 2336.27 789.875 Q2328.37 781.449 2328.37 766.907 Q2328.37 752.323 2336.27 743.938 Q2344.17 735.512 2357.9 735.512 Q2363.33 735.512 2368.11 736.971 Q2372.93 738.388 2377.14 741.265 Z\" fill=\"#000000\" fill-rule=\"evenodd\" fill-opacity=\"1\" /><path clip-path=\"url(#clip500)\" d=\"M 0 0 M2335.38 510.316 L2370.13 510.316 L2370.13 517.203 L2343.56 517.203 L2343.56 535.027 L2367.54 535.027 L2367.54 541.913 L2343.56 541.913 L2343.56 570.796 L2335.38 570.796 L2335.38 510.316 Z\" fill=\"#000000\" fill-rule=\"evenodd\" fill-opacity=\"1\" /><path clip-path=\"url(#clip500)\" d=\"M 0 0 M2371.07 335.878 L2371.07 319.634 L2357.7 319.634 L2357.7 312.909 L2379.17 312.909 L2379.17 338.875 Q2374.43 342.238 2368.72 343.98 Q2363 345.681 2356.52 345.681 Q2342.35 345.681 2334.32 337.417 Q2326.34 329.113 2326.34 314.327 Q2326.34 299.501 2334.32 291.237 Q2342.35 282.932 2356.52 282.932 Q2362.44 282.932 2367.74 284.391 Q2373.09 285.849 2377.59 288.685 L2377.59 297.394 Q2373.05 293.546 2367.95 291.601 Q2362.84 289.657 2357.21 289.657 Q2346.11 289.657 2340.52 295.855 Q2334.97 302.053 2334.97 314.327 Q2334.97 326.561 2340.52 332.759 Q2346.11 338.956 2357.21 338.956 Q2361.55 338.956 2364.95 338.227 Q2368.35 337.458 2371.07 335.878 Z\" fill=\"#000000\" fill-rule=\"evenodd\" fill-opacity=\"1\" /></svg>\n"
      ]
     },
     "execution_count": 131,
     "metadata": {},
     "output_type": "execute_result"
    }
   ],
   "source": [
    "VBPILookup.Sbn.plot_and_annotate_sbn(all_sbns[1234])"
   ]
  },
  {
   "cell_type": "code",
   "execution_count": 132,
   "metadata": {},
   "outputs": [
    {
     "data": {
      "text/plain": [
       "Main.VBPILookup.VBPI{Float64}"
      ]
     },
     "execution_count": 132,
     "metadata": {},
     "output_type": "execute_result"
    }
   ],
   "source": [
    "leaves = [:A, :B, :C, :D, :E, :F, :G]\n",
    "table = VBPILookup.VBPI(leaves)\n",
    "typeof(table)"
   ]
  },
  {
   "cell_type": "markdown",
   "metadata": {},
   "source": [
    "Note that it is not possible for this variational distribution to exactly match any distribution of trees. This is because the number of parameters in the variational distribution is about 9% of the total number of possible trees."
   ]
  },
  {
   "cell_type": "code",
   "execution_count": 133,
   "metadata": {},
   "outputs": [
    {
     "name": "stdout",
     "output_type": "stream",
     "text": [
      "length(table.lookup_table) = 945\n",
      "length(all_sbn_dict) = 10395\n",
      "length(table.lookup_table) / length(all_sbn_dict) = 0.09090909090909091\n"
     ]
    }
   ],
   "source": [
    "@show length(table.lookup_table); ## Number of variational parameters\n",
    "@show length(all_sbn_dict); ## Number of trees (# of params in distribution)\n",
    "@show length(table.lookup_table) / length(all_sbn_dict);"
   ]
  },
  {
   "cell_type": "markdown",
   "metadata": {},
   "source": [
    "We wrap up all of the stochastic optimization code into the \"train_sbn\" function. To match Zhang and Matsen, we run this for 200,000 epochs. We use the VIMCO-estimated gradient at each callback step, but we also calculate the real loss every 200 iterations to test convergence."
   ]
  },
  {
   "cell_type": "code",
   "execution_count": 134,
   "metadata": {},
   "outputs": [
    {
     "name": "stdout",
     "output_type": "stream",
     "text": [
      "020000: loss =  0.680 (Time elapsed = 451.111 sec)\n",
      "040000: loss = -0.286 (Time elapsed = 960.801 sec)\n",
      "060000: loss = -0.000 (Time elapsed = 1480.681 sec)\n",
      "080000: loss =  0.567 (Time elapsed = 2003.639 sec)\n",
      "100000: loss =  0.537 (Time elapsed = 2520.157 sec)\n",
      "120000: loss = -0.091 (Time elapsed = 3038.613 sec)\n",
      "140000: loss =  0.267 (Time elapsed = 3547.916 sec)\n",
      "160000: loss = -0.220 (Time elapsed = 4072.860 sec)\n",
      "180000: loss =  0.762 (Time elapsed = 4594.027 sec)\n",
      "200000: loss = -0.252 (Time elapsed = 5097.778 sec)\n",
      "Total time taken: 5097.778 sec\n"
     ]
    },
    {
     "data": {
      "text/plain": [
       "1000-element Array{Float64,1}:\n",
       " -1.8464473990935812\n",
       "  3.72696427232931\n",
       "  1.6209368670061077\n",
       "  2.351889853476223\n",
       "  7.905985052299734\n",
       "  2.916879058390877\n",
       " 11.465585874945571\n",
       "  1.6102347184319368\n",
       "  0.9926070417573833\n",
       "  0.2456347120333895\n",
       " -2.190100476368944\n",
       "  3.2129668170246024\n",
       " -0.039087605954332805\n",
       "  ⋮\n",
       " -0.3641987090489436\n",
       "  0.89265852493341\n",
       " -0.22974073147514806\n",
       "  0.013124187117961927\n",
       " -0.10638268858731914\n",
       "  0.2830249297347813\n",
       "  0.40034433982627027\n",
       " -0.16148732950724787\n",
       "  0.11112347489750407\n",
       "  0.162509444900794\n",
       " -0.05920385510291437\n",
       " -0.2520448156184263"
      ]
     },
     "execution_count": 134,
     "metadata": {},
     "output_type": "execute_result"
    }
   ],
   "source": [
    "losses = VBPILookup.train_sbn(leaves, table, all_sbn_dict; epochs=200_000, cb=20_000, calc_loss_every=200, opt=ADAM(1e-3))"
   ]
  },
  {
   "cell_type": "code",
   "execution_count": 122,
   "metadata": {},
   "outputs": [],
   "source": [
    "using BSON: @save, @load\n",
    "@save \"vi_model_7leaves.bson\" table"
   ]
  },
  {
   "cell_type": "markdown",
   "metadata": {},
   "source": [
    "The ELBO converges well within 200,000 epochs. The total run time was 5097 seconds (about 85 minutes), or about 0.02 sec / epoch."
   ]
  },
  {
   "cell_type": "code",
   "execution_count": 136,
   "metadata": {
    "scrolled": false
   },
   "outputs": [
    {
     "data": {
      "image/svg+xml": [
       "<?xml version=\"1.0\" encoding=\"utf-8\"?>\n",
       "<svg xmlns=\"http://www.w3.org/2000/svg\" xmlns:xlink=\"http://www.w3.org/1999/xlink\" width=\"600\" height=\"400\" viewBox=\"0 0 2400 1600\">\n",
       "<defs>\n",
       "  <clipPath id=\"clip580\">\n",
       "    <rect x=\"0\" y=\"0\" width=\"2400\" height=\"1600\"/>\n",
       "  </clipPath>\n",
       "</defs>\n",
       "<path clip-path=\"url(#clip580)\" d=\"\n",
       "M0 1600 L2400 1600 L2400 0 L0 0  Z\n",
       "  \" fill=\"#ffffff\" fill-rule=\"evenodd\" fill-opacity=\"1\"/>\n",
       "<defs>\n",
       "  <clipPath id=\"clip581\">\n",
       "    <rect x=\"480\" y=\"0\" width=\"1681\" height=\"1600\"/>\n",
       "  </clipPath>\n",
       "</defs>\n",
       "<path clip-path=\"url(#clip580)\" d=\"\n",
       "M207.112 1410.9 L2352.76 1410.9 L2352.76 123.472 L207.112 123.472  Z\n",
       "  \" fill=\"#ffffff\" fill-rule=\"evenodd\" fill-opacity=\"1\"/>\n",
       "<defs>\n",
       "  <clipPath id=\"clip582\">\n",
       "    <rect x=\"207\" y=\"123\" width=\"2147\" height=\"1288\"/>\n",
       "  </clipPath>\n",
       "</defs>\n",
       "<polyline clip-path=\"url(#clip582)\" style=\"stroke:#000000; stroke-width:2; stroke-opacity:0.1; fill:none\" points=\"\n",
       "  265.811,1410.9 265.811,123.472 \n",
       "  \"/>\n",
       "<polyline clip-path=\"url(#clip582)\" style=\"stroke:#000000; stroke-width:2; stroke-opacity:0.1; fill:none\" points=\"\n",
       "  772.366,1410.9 772.366,123.472 \n",
       "  \"/>\n",
       "<polyline clip-path=\"url(#clip582)\" style=\"stroke:#000000; stroke-width:2; stroke-opacity:0.1; fill:none\" points=\"\n",
       "  1278.92,1410.9 1278.92,123.472 \n",
       "  \"/>\n",
       "<polyline clip-path=\"url(#clip582)\" style=\"stroke:#000000; stroke-width:2; stroke-opacity:0.1; fill:none\" points=\"\n",
       "  1785.48,1410.9 1785.48,123.472 \n",
       "  \"/>\n",
       "<polyline clip-path=\"url(#clip582)\" style=\"stroke:#000000; stroke-width:2; stroke-opacity:0.1; fill:none\" points=\"\n",
       "  2292.03,1410.9 2292.03,123.472 \n",
       "  \"/>\n",
       "<polyline clip-path=\"url(#clip580)\" style=\"stroke:#000000; stroke-width:4; stroke-opacity:1; fill:none\" points=\"\n",
       "  207.112,1410.9 2352.76,1410.9 \n",
       "  \"/>\n",
       "<polyline clip-path=\"url(#clip580)\" style=\"stroke:#000000; stroke-width:4; stroke-opacity:1; fill:none\" points=\"\n",
       "  265.811,1410.9 265.811,1395.45 \n",
       "  \"/>\n",
       "<polyline clip-path=\"url(#clip580)\" style=\"stroke:#000000; stroke-width:4; stroke-opacity:1; fill:none\" points=\"\n",
       "  772.366,1410.9 772.366,1395.45 \n",
       "  \"/>\n",
       "<polyline clip-path=\"url(#clip580)\" style=\"stroke:#000000; stroke-width:4; stroke-opacity:1; fill:none\" points=\"\n",
       "  1278.92,1410.9 1278.92,1395.45 \n",
       "  \"/>\n",
       "<polyline clip-path=\"url(#clip580)\" style=\"stroke:#000000; stroke-width:4; stroke-opacity:1; fill:none\" points=\"\n",
       "  1785.48,1410.9 1785.48,1395.45 \n",
       "  \"/>\n",
       "<polyline clip-path=\"url(#clip580)\" style=\"stroke:#000000; stroke-width:4; stroke-opacity:1; fill:none\" points=\"\n",
       "  2292.03,1410.9 2292.03,1395.45 \n",
       "  \"/>\n",
       "<path clip-path=\"url(#clip580)\" d=\"M 0 0 M265.811 1440.09 Q262.2 1440.09 260.371 1443.65 Q258.566 1447.19 258.566 1454.32 Q258.566 1461.43 260.371 1464.99 Q262.2 1468.54 265.811 1468.54 Q269.446 1468.54 271.251 1464.99 Q273.08 1461.43 273.08 1454.32 Q273.08 1447.19 271.251 1443.65 Q269.446 1440.09 265.811 1440.09 M265.811 1436.38 Q271.621 1436.38 274.677 1440.99 Q277.756 1445.57 277.756 1454.32 Q277.756 1463.05 274.677 1467.66 Q271.621 1472.24 265.811 1472.24 Q260.001 1472.24 256.922 1467.66 Q253.867 1463.05 253.867 1454.32 Q253.867 1445.57 256.922 1440.99 Q260.001 1436.38 265.811 1436.38 Z\" fill=\"#000000\" fill-rule=\"evenodd\" fill-opacity=\"1\" /><path clip-path=\"url(#clip580)\" d=\"M 0 0 M690.908 1458.54 L709.264 1458.54 L709.264 1462.48 L695.19 1462.48 L695.19 1470.95 Q696.209 1470.6 697.227 1470.44 Q698.246 1470.26 699.265 1470.26 Q705.052 1470.26 708.431 1473.43 Q711.811 1476.6 711.811 1482.02 Q711.811 1487.59 708.339 1490.7 Q704.866 1493.78 698.547 1493.78 Q696.371 1493.78 694.103 1493.4 Q691.857 1493.03 689.45 1492.29 L689.45 1487.59 Q691.533 1488.73 693.755 1489.28 Q695.978 1489.84 698.454 1489.84 Q702.459 1489.84 704.797 1487.73 Q707.135 1485.63 707.135 1482.02 Q707.135 1478.4 704.797 1476.3 Q702.459 1474.19 698.454 1474.19 Q696.579 1474.19 694.704 1474.61 Q692.853 1475.03 690.908 1475.9 L690.908 1458.54 Z\" fill=\"#000000\" fill-rule=\"evenodd\" fill-opacity=\"1\" /><path clip-path=\"url(#clip580)\" d=\"M 0 0 M716.88 1487.22 L721.764 1487.22 L721.764 1493.1 L716.88 1493.1 L716.88 1487.22 Z\" fill=\"#000000\" fill-rule=\"evenodd\" fill-opacity=\"1\" /><path clip-path=\"url(#clip580)\" d=\"M 0 0 M736.834 1461.62 Q733.223 1461.62 731.394 1465.19 Q729.588 1468.73 729.588 1475.86 Q729.588 1482.97 731.394 1486.53 Q733.223 1490.07 736.834 1490.07 Q740.468 1490.07 742.274 1486.53 Q744.102 1482.97 744.102 1475.86 Q744.102 1468.73 742.274 1465.19 Q740.468 1461.62 736.834 1461.62 M736.834 1457.92 Q742.644 1457.92 745.699 1462.53 Q748.778 1467.11 748.778 1475.86 Q748.778 1484.59 745.699 1489.19 Q742.644 1493.78 736.834 1493.78 Q731.024 1493.78 727.945 1489.19 Q724.889 1484.59 724.889 1475.86 Q724.889 1467.11 727.945 1462.53 Q731.024 1457.92 736.834 1457.92 Z\" fill=\"#000000\" fill-rule=\"evenodd\" fill-opacity=\"1\" /><path clip-path=\"url(#clip580)\" d=\"M 0 0 M782.019 1467.64 L771.44 1478.27 L782.019 1488.84 L779.264 1491.65 L768.639 1481.02 L758.014 1491.65 L755.283 1488.84 L765.838 1478.27 L755.283 1467.64 L758.014 1464.84 L768.639 1475.47 L779.264 1464.84 L782.019 1467.64 Z\" fill=\"#000000\" fill-rule=\"evenodd\" fill-opacity=\"1\" /><path clip-path=\"url(#clip580)\" d=\"M 0 0 M787.898 1489.17 L795.537 1489.17 L795.537 1462.8 L787.227 1464.47 L787.227 1460.21 L795.491 1458.54 L800.167 1458.54 L800.167 1489.17 L807.806 1489.17 L807.806 1493.1 L787.898 1493.1 L787.898 1489.17 Z\" fill=\"#000000\" fill-rule=\"evenodd\" fill-opacity=\"1\" /><path clip-path=\"url(#clip580)\" d=\"M 0 0 M822.875 1461.62 Q819.264 1461.62 817.435 1465.19 Q815.63 1468.73 815.63 1475.86 Q815.63 1482.97 817.435 1486.53 Q819.264 1490.07 822.875 1490.07 Q826.509 1490.07 828.315 1486.53 Q830.143 1482.97 830.143 1475.86 Q830.143 1468.73 828.315 1465.19 Q826.509 1461.62 822.875 1461.62 M822.875 1457.92 Q828.685 1457.92 831.741 1462.53 Q834.819 1467.11 834.819 1475.86 Q834.819 1484.59 831.741 1489.19 Q828.685 1493.78 822.875 1493.78 Q817.065 1493.78 813.986 1489.19 Q810.931 1484.59 810.931 1475.86 Q810.931 1467.11 813.986 1462.53 Q817.065 1457.92 822.875 1457.92 Z\" fill=\"#000000\" fill-rule=\"evenodd\" fill-opacity=\"1\" /><path clip-path=\"url(#clip580)\" d=\"M 0 0 M847.496 1440.92 L837.904 1455.91 L847.496 1455.91 L847.496 1440.92 M846.499 1437.61 L851.276 1437.61 L851.276 1455.91 L855.282 1455.91 L855.282 1459.07 L851.276 1459.07 L851.276 1465.69 L847.496 1465.69 L847.496 1459.07 L834.819 1459.07 L834.819 1455.41 L846.499 1437.61 Z\" fill=\"#000000\" fill-rule=\"evenodd\" fill-opacity=\"1\" /><path clip-path=\"url(#clip580)\" d=\"M 0 0 M1198.71 1489.17 L1206.35 1489.17 L1206.35 1462.8 L1198.04 1464.47 L1198.04 1460.21 L1206.31 1458.54 L1210.98 1458.54 L1210.98 1489.17 L1218.62 1489.17 L1218.62 1493.1 L1198.71 1493.1 L1198.71 1489.17 Z\" fill=\"#000000\" fill-rule=\"evenodd\" fill-opacity=\"1\" /><path clip-path=\"url(#clip580)\" d=\"M 0 0 M1223.69 1487.22 L1228.58 1487.22 L1228.58 1493.1 L1223.69 1493.1 L1223.69 1487.22 Z\" fill=\"#000000\" fill-rule=\"evenodd\" fill-opacity=\"1\" /><path clip-path=\"url(#clip580)\" d=\"M 0 0 M1243.64 1461.62 Q1240.03 1461.62 1238.2 1465.19 Q1236.4 1468.73 1236.4 1475.86 Q1236.4 1482.97 1238.2 1486.53 Q1240.03 1490.07 1243.64 1490.07 Q1247.28 1490.07 1249.08 1486.53 Q1250.91 1482.97 1250.91 1475.86 Q1250.91 1468.73 1249.08 1465.19 Q1247.28 1461.62 1243.64 1461.62 M1243.64 1457.92 Q1249.45 1457.92 1252.51 1462.53 Q1255.59 1467.11 1255.59 1475.86 Q1255.59 1484.59 1252.51 1489.19 Q1249.45 1493.78 1243.64 1493.78 Q1237.83 1493.78 1234.76 1489.19 Q1231.7 1484.59 1231.7 1475.86 Q1231.7 1467.11 1234.76 1462.53 Q1237.83 1457.92 1243.64 1457.92 Z\" fill=\"#000000\" fill-rule=\"evenodd\" fill-opacity=\"1\" /><path clip-path=\"url(#clip580)\" d=\"M 0 0 M1288.83 1467.64 L1278.25 1478.27 L1288.83 1488.84 L1286.07 1491.65 L1275.45 1481.02 L1264.82 1491.65 L1262.09 1488.84 L1272.65 1478.27 L1262.09 1467.64 L1264.82 1464.84 L1275.45 1475.47 L1286.07 1464.84 L1288.83 1467.64 Z\" fill=\"#000000\" fill-rule=\"evenodd\" fill-opacity=\"1\" /><path clip-path=\"url(#clip580)\" d=\"M 0 0 M1294.71 1489.17 L1302.35 1489.17 L1302.35 1462.8 L1294.04 1464.47 L1294.04 1460.21 L1302.3 1458.54 L1306.98 1458.54 L1306.98 1489.17 L1314.62 1489.17 L1314.62 1493.1 L1294.71 1493.1 L1294.71 1489.17 Z\" fill=\"#000000\" fill-rule=\"evenodd\" fill-opacity=\"1\" /><path clip-path=\"url(#clip580)\" d=\"M 0 0 M1329.69 1461.62 Q1326.07 1461.62 1324.25 1465.19 Q1322.44 1468.73 1322.44 1475.86 Q1322.44 1482.97 1324.25 1486.53 Q1326.07 1490.07 1329.69 1490.07 Q1333.32 1490.07 1335.13 1486.53 Q1336.95 1482.97 1336.95 1475.86 Q1336.95 1468.73 1335.13 1465.19 Q1333.32 1461.62 1329.69 1461.62 M1329.69 1457.92 Q1335.5 1457.92 1338.55 1462.53 Q1341.63 1467.11 1341.63 1475.86 Q1341.63 1484.59 1338.55 1489.19 Q1335.5 1493.78 1329.69 1493.78 Q1323.88 1493.78 1320.8 1489.19 Q1317.74 1484.59 1317.74 1475.86 Q1317.74 1467.11 1320.8 1462.53 Q1323.88 1457.92 1329.69 1457.92 Z\" fill=\"#000000\" fill-rule=\"evenodd\" fill-opacity=\"1\" /><path clip-path=\"url(#clip580)\" d=\"M 0 0 M1342.82 1437.61 L1357.73 1437.61 L1357.73 1440.81 L1346.29 1440.81 L1346.29 1447.69 Q1347.12 1447.41 1347.95 1447.28 Q1348.78 1447.13 1349.6 1447.13 Q1354.31 1447.13 1357.05 1449.71 Q1359.8 1452.28 1359.8 1456.68 Q1359.8 1461.22 1356.98 1463.74 Q1354.16 1466.24 1349.02 1466.24 Q1347.25 1466.24 1345.41 1465.94 Q1343.59 1465.64 1341.63 1465.04 L1341.63 1461.22 Q1343.32 1462.14 1345.13 1462.59 Q1346.93 1463.04 1348.95 1463.04 Q1352.2 1463.04 1354.1 1461.33 Q1356 1459.62 1356 1456.68 Q1356 1453.75 1354.1 1452.04 Q1352.2 1450.33 1348.95 1450.33 Q1347.42 1450.33 1345.9 1450.67 Q1344.39 1451 1342.82 1451.72 L1342.82 1437.61 Z\" fill=\"#000000\" fill-rule=\"evenodd\" fill-opacity=\"1\" /><path clip-path=\"url(#clip580)\" d=\"M 0 0 M1705.77 1489.17 L1713.41 1489.17 L1713.41 1462.8 L1705.1 1464.47 L1705.1 1460.21 L1713.36 1458.54 L1718.04 1458.54 L1718.04 1489.17 L1725.67 1489.17 L1725.67 1493.1 L1705.77 1493.1 L1705.77 1489.17 Z\" fill=\"#000000\" fill-rule=\"evenodd\" fill-opacity=\"1\" /><path clip-path=\"url(#clip580)\" d=\"M 0 0 M1730.74 1487.22 L1735.63 1487.22 L1735.63 1493.1 L1730.74 1493.1 L1730.74 1487.22 Z\" fill=\"#000000\" fill-rule=\"evenodd\" fill-opacity=\"1\" /><path clip-path=\"url(#clip580)\" d=\"M 0 0 M1740.74 1458.54 L1759.1 1458.54 L1759.1 1462.48 L1745.03 1462.48 L1745.03 1470.95 Q1746.04 1470.6 1747.06 1470.44 Q1748.08 1470.26 1749.1 1470.26 Q1754.89 1470.26 1758.27 1473.43 Q1761.65 1476.6 1761.65 1482.02 Q1761.65 1487.59 1758.17 1490.7 Q1754.7 1493.78 1748.38 1493.78 Q1746.21 1493.78 1743.94 1493.4 Q1741.69 1493.03 1739.28 1492.29 L1739.28 1487.59 Q1741.37 1488.73 1743.59 1489.28 Q1745.81 1489.84 1748.29 1489.84 Q1752.29 1489.84 1754.63 1487.73 Q1756.97 1485.63 1756.97 1482.02 Q1756.97 1478.4 1754.63 1476.3 Q1752.29 1474.19 1748.29 1474.19 Q1746.41 1474.19 1744.54 1474.61 Q1742.69 1475.03 1740.74 1475.9 L1740.74 1458.54 Z\" fill=\"#000000\" fill-rule=\"evenodd\" fill-opacity=\"1\" /><path clip-path=\"url(#clip580)\" d=\"M 0 0 M1794.89 1467.64 L1784.31 1478.27 L1794.89 1488.84 L1792.13 1491.65 L1781.51 1481.02 L1770.88 1491.65 L1768.15 1488.84 L1778.71 1478.27 L1768.15 1467.64 L1770.88 1464.84 L1781.51 1475.47 L1792.13 1464.84 L1794.89 1467.64 Z\" fill=\"#000000\" fill-rule=\"evenodd\" fill-opacity=\"1\" /><path clip-path=\"url(#clip580)\" d=\"M 0 0 M1800.77 1489.17 L1808.4 1489.17 L1808.4 1462.8 L1800.09 1464.47 L1800.09 1460.21 L1808.36 1458.54 L1813.03 1458.54 L1813.03 1489.17 L1820.67 1489.17 L1820.67 1493.1 L1800.77 1493.1 L1800.77 1489.17 Z\" fill=\"#000000\" fill-rule=\"evenodd\" fill-opacity=\"1\" /><path clip-path=\"url(#clip580)\" d=\"M 0 0 M1835.74 1461.62 Q1832.13 1461.62 1830.3 1465.19 Q1828.5 1468.73 1828.5 1475.86 Q1828.5 1482.97 1830.3 1486.53 Q1832.13 1490.07 1835.74 1490.07 Q1839.38 1490.07 1841.18 1486.53 Q1843.01 1482.97 1843.01 1475.86 Q1843.01 1468.73 1841.18 1465.19 Q1839.38 1461.62 1835.74 1461.62 M1835.74 1457.92 Q1841.55 1457.92 1844.61 1462.53 Q1847.69 1467.11 1847.69 1475.86 Q1847.69 1484.59 1844.61 1489.19 Q1841.55 1493.78 1835.74 1493.78 Q1829.93 1493.78 1826.85 1489.19 Q1823.8 1484.59 1823.8 1475.86 Q1823.8 1467.11 1826.85 1462.53 Q1829.93 1457.92 1835.74 1457.92 Z\" fill=\"#000000\" fill-rule=\"evenodd\" fill-opacity=\"1\" /><path clip-path=\"url(#clip580)\" d=\"M 0 0 M1848.87 1437.61 L1863.79 1437.61 L1863.79 1440.81 L1852.35 1440.81 L1852.35 1447.69 Q1853.18 1447.41 1854.01 1447.28 Q1854.83 1447.13 1855.66 1447.13 Q1860.36 1447.13 1863.11 1449.71 Q1865.86 1452.28 1865.86 1456.68 Q1865.86 1461.22 1863.03 1463.74 Q1860.21 1466.24 1855.08 1466.24 Q1853.31 1466.24 1851.47 1465.94 Q1849.64 1465.64 1847.69 1465.04 L1847.69 1461.22 Q1849.38 1462.14 1851.19 1462.59 Q1852.99 1463.04 1855 1463.04 Q1858.26 1463.04 1860.16 1461.33 Q1862.06 1459.62 1862.06 1456.68 Q1862.06 1453.75 1860.16 1452.04 Q1858.26 1450.33 1855 1450.33 Q1853.48 1450.33 1851.96 1450.67 Q1850.45 1451 1848.87 1451.72 L1848.87 1437.61 Z\" fill=\"#000000\" fill-rule=\"evenodd\" fill-opacity=\"1\" /><path clip-path=\"url(#clip580)\" d=\"M 0 0 M2216.09 1489.17 L2232.41 1489.17 L2232.41 1493.1 L2210.47 1493.1 L2210.47 1489.17 Q2213.13 1486.41 2217.71 1481.78 Q2222.32 1477.13 2223.5 1475.79 Q2225.75 1473.27 2226.63 1471.53 Q2227.53 1469.77 2227.53 1468.08 Q2227.53 1465.33 2225.59 1463.59 Q2223.66 1461.85 2220.56 1461.85 Q2218.36 1461.85 2215.91 1462.62 Q2213.48 1463.38 2210.7 1464.93 L2210.7 1460.21 Q2213.53 1459.08 2215.98 1458.5 Q2218.43 1457.92 2220.47 1457.92 Q2225.84 1457.92 2229.03 1460.6 Q2232.23 1463.29 2232.23 1467.78 Q2232.23 1469.91 2231.42 1471.83 Q2230.63 1473.73 2228.52 1476.32 Q2227.95 1476.99 2224.84 1480.21 Q2221.74 1483.4 2216.09 1489.17 Z\" fill=\"#000000\" fill-rule=\"evenodd\" fill-opacity=\"1\" /><path clip-path=\"url(#clip580)\" d=\"M 0 0 M2237.48 1487.22 L2242.37 1487.22 L2242.37 1493.1 L2237.48 1493.1 L2237.48 1487.22 Z\" fill=\"#000000\" fill-rule=\"evenodd\" fill-opacity=\"1\" /><path clip-path=\"url(#clip580)\" d=\"M 0 0 M2257.44 1461.62 Q2253.83 1461.62 2252 1465.19 Q2250.19 1468.73 2250.19 1475.86 Q2250.19 1482.97 2252 1486.53 Q2253.83 1490.07 2257.44 1490.07 Q2261.07 1490.07 2262.88 1486.53 Q2264.71 1482.97 2264.71 1475.86 Q2264.71 1468.73 2262.88 1465.19 Q2261.07 1461.62 2257.44 1461.62 M2257.44 1457.92 Q2263.25 1457.92 2266.3 1462.53 Q2269.38 1467.11 2269.38 1475.86 Q2269.38 1484.59 2266.3 1489.19 Q2263.25 1493.78 2257.44 1493.78 Q2251.63 1493.78 2248.55 1489.19 Q2245.49 1484.59 2245.49 1475.86 Q2245.49 1467.11 2248.55 1462.53 Q2251.63 1457.92 2257.44 1457.92 Z\" fill=\"#000000\" fill-rule=\"evenodd\" fill-opacity=\"1\" /><path clip-path=\"url(#clip580)\" d=\"M 0 0 M2302.62 1467.64 L2292.04 1478.27 L2302.62 1488.84 L2299.87 1491.65 L2289.24 1481.02 L2278.62 1491.65 L2275.89 1488.84 L2286.44 1478.27 L2275.89 1467.64 L2278.62 1464.84 L2289.24 1475.47 L2299.87 1464.84 L2302.62 1467.64 Z\" fill=\"#000000\" fill-rule=\"evenodd\" fill-opacity=\"1\" /><path clip-path=\"url(#clip580)\" d=\"M 0 0 M2308.5 1489.17 L2316.14 1489.17 L2316.14 1462.8 L2307.83 1464.47 L2307.83 1460.21 L2316.09 1458.54 L2320.77 1458.54 L2320.77 1489.17 L2328.41 1489.17 L2328.41 1493.1 L2308.5 1493.1 L2308.5 1489.17 Z\" fill=\"#000000\" fill-rule=\"evenodd\" fill-opacity=\"1\" /><path clip-path=\"url(#clip580)\" d=\"M 0 0 M2343.48 1461.62 Q2339.87 1461.62 2338.04 1465.19 Q2336.23 1468.73 2336.23 1475.86 Q2336.23 1482.97 2338.04 1486.53 Q2339.87 1490.07 2343.48 1490.07 Q2347.11 1490.07 2348.92 1486.53 Q2350.75 1482.97 2350.75 1475.86 Q2350.75 1468.73 2348.92 1465.19 Q2347.11 1461.62 2343.48 1461.62 M2343.48 1457.92 Q2349.29 1457.92 2352.34 1462.53 Q2355.42 1467.11 2355.42 1475.86 Q2355.42 1484.59 2352.34 1489.19 Q2349.29 1493.78 2343.48 1493.78 Q2337.67 1493.78 2334.59 1489.19 Q2331.53 1484.59 2331.53 1475.86 Q2331.53 1467.11 2334.59 1462.53 Q2337.67 1457.92 2343.48 1457.92 Z\" fill=\"#000000\" fill-rule=\"evenodd\" fill-opacity=\"1\" /><path clip-path=\"url(#clip580)\" d=\"M 0 0 M2356.61 1437.61 L2371.52 1437.61 L2371.52 1440.81 L2360.09 1440.81 L2360.09 1447.69 Q2360.91 1447.41 2361.74 1447.28 Q2362.57 1447.13 2363.4 1447.13 Q2368.1 1447.13 2370.84 1449.71 Q2373.59 1452.28 2373.59 1456.68 Q2373.59 1461.22 2370.77 1463.74 Q2367.95 1466.24 2362.81 1466.24 Q2361.05 1466.24 2359.2 1465.94 Q2357.38 1465.64 2355.42 1465.04 L2355.42 1461.22 Q2357.12 1462.14 2358.92 1462.59 Q2360.73 1463.04 2362.74 1463.04 Q2365.99 1463.04 2367.89 1461.33 Q2369.79 1459.62 2369.79 1456.68 Q2369.79 1453.75 2367.89 1452.04 Q2365.99 1450.33 2362.74 1450.33 Q2361.22 1450.33 2359.69 1450.67 Q2358.19 1451 2356.61 1451.72 L2356.61 1437.61 Z\" fill=\"#000000\" fill-rule=\"evenodd\" fill-opacity=\"1\" /><path clip-path=\"url(#clip580)\" d=\"M 0 0 M1193.77 1514.67 L1223.82 1514.67 L1223.82 1520.08 L1200.2 1520.08 L1200.2 1534.14 L1222.83 1534.14 L1222.83 1539.56 L1200.2 1539.56 L1200.2 1556.77 L1224.39 1556.77 L1224.39 1562.19 L1193.77 1562.19 L1193.77 1514.67 Z\" fill=\"#000000\" fill-rule=\"evenodd\" fill-opacity=\"1\" /><path clip-path=\"url(#clip580)\" d=\"M 0 0 M1236.2 1556.84 L1236.2 1575.74 L1230.31 1575.74 L1230.31 1526.54 L1236.2 1526.54 L1236.2 1531.95 Q1238.05 1528.77 1240.85 1527.24 Q1243.68 1525.68 1247.6 1525.68 Q1254.09 1525.68 1258.13 1530.83 Q1262.21 1535.99 1262.21 1544.39 Q1262.21 1552.8 1258.13 1557.95 Q1254.09 1563.11 1247.6 1563.11 Q1243.68 1563.11 1240.85 1561.58 Q1238.05 1560.02 1236.2 1556.84 M1256.13 1544.39 Q1256.13 1537.93 1253.45 1534.27 Q1250.81 1530.58 1246.16 1530.58 Q1241.52 1530.58 1238.84 1534.27 Q1236.2 1537.93 1236.2 1544.39 Q1236.2 1550.85 1238.84 1554.55 Q1241.52 1558.21 1246.16 1558.21 Q1250.81 1558.21 1253.45 1554.55 Q1256.13 1550.85 1256.13 1544.39 Z\" fill=\"#000000\" fill-rule=\"evenodd\" fill-opacity=\"1\" /><path clip-path=\"url(#clip580)\" d=\"M 0 0 M1282.16 1530.64 Q1277.45 1530.64 1274.71 1534.34 Q1271.98 1538 1271.98 1544.39 Q1271.98 1550.79 1274.68 1554.48 Q1277.42 1558.14 1282.16 1558.14 Q1286.84 1558.14 1289.58 1554.45 Q1292.32 1550.76 1292.32 1544.39 Q1292.32 1538.06 1289.58 1534.37 Q1286.84 1530.64 1282.16 1530.64 M1282.16 1525.68 Q1289.8 1525.68 1294.16 1530.64 Q1298.52 1535.61 1298.52 1544.39 Q1298.52 1553.15 1294.16 1558.14 Q1289.8 1563.11 1282.16 1563.11 Q1274.49 1563.11 1270.13 1558.14 Q1265.8 1553.15 1265.8 1544.39 Q1265.8 1535.61 1270.13 1530.64 Q1274.49 1525.68 1282.16 1525.68 Z\" fill=\"#000000\" fill-rule=\"evenodd\" fill-opacity=\"1\" /><path clip-path=\"url(#clip580)\" d=\"M 0 0 M1330.32 1527.91 L1330.32 1533.38 Q1327.84 1532.01 1325.32 1531.34 Q1322.84 1530.64 1320.29 1530.64 Q1314.6 1530.64 1311.44 1534.27 Q1308.29 1537.87 1308.29 1544.39 Q1308.29 1550.92 1311.44 1554.55 Q1314.6 1558.14 1320.29 1558.14 Q1322.84 1558.14 1325.32 1557.47 Q1327.84 1556.77 1330.32 1555.41 L1330.32 1560.82 Q1327.87 1561.96 1325.23 1562.54 Q1322.62 1563.11 1319.66 1563.11 Q1311.6 1563.11 1306.86 1558.05 Q1302.12 1552.99 1302.12 1544.39 Q1302.12 1535.67 1306.89 1530.68 Q1311.7 1525.68 1320.04 1525.68 Q1322.74 1525.68 1325.32 1526.25 Q1327.9 1526.79 1330.32 1527.91 Z\" fill=\"#000000\" fill-rule=\"evenodd\" fill-opacity=\"1\" /><path clip-path=\"url(#clip580)\" d=\"M 0 0 M1366.09 1540.67 L1366.09 1562.19 L1360.24 1562.19 L1360.24 1540.86 Q1360.24 1535.8 1358.26 1533.29 Q1356.29 1530.77 1352.34 1530.77 Q1347.6 1530.77 1344.86 1533.79 Q1342.13 1536.82 1342.13 1542.04 L1342.13 1562.19 L1336.24 1562.19 L1336.24 1512.66 L1342.13 1512.66 L1342.13 1532.08 Q1344.23 1528.86 1347.06 1527.27 Q1349.92 1525.68 1353.65 1525.68 Q1359.79 1525.68 1362.94 1529.5 Q1366.09 1533.29 1366.09 1540.67 Z\" fill=\"#000000\" fill-rule=\"evenodd\" fill-opacity=\"1\" /><polyline clip-path=\"url(#clip582)\" style=\"stroke:#000000; stroke-width:2; stroke-opacity:0.1; fill:none\" points=\"\n",
       "  207.112,1155.17 2352.76,1155.17 \n",
       "  \"/>\n",
       "<polyline clip-path=\"url(#clip582)\" style=\"stroke:#000000; stroke-width:2; stroke-opacity:0.1; fill:none\" points=\"\n",
       "  207.112,888.345 2352.76,888.345 \n",
       "  \"/>\n",
       "<polyline clip-path=\"url(#clip582)\" style=\"stroke:#000000; stroke-width:2; stroke-opacity:0.1; fill:none\" points=\"\n",
       "  207.112,621.522 2352.76,621.522 \n",
       "  \"/>\n",
       "<polyline clip-path=\"url(#clip582)\" style=\"stroke:#000000; stroke-width:2; stroke-opacity:0.1; fill:none\" points=\"\n",
       "  207.112,354.699 2352.76,354.699 \n",
       "  \"/>\n",
       "<polyline clip-path=\"url(#clip580)\" style=\"stroke:#000000; stroke-width:4; stroke-opacity:1; fill:none\" points=\"\n",
       "  207.112,1410.9 207.112,123.472 \n",
       "  \"/>\n",
       "<polyline clip-path=\"url(#clip580)\" style=\"stroke:#000000; stroke-width:4; stroke-opacity:1; fill:none\" points=\"\n",
       "  207.112,1155.17 232.859,1155.17 \n",
       "  \"/>\n",
       "<polyline clip-path=\"url(#clip580)\" style=\"stroke:#000000; stroke-width:4; stroke-opacity:1; fill:none\" points=\"\n",
       "  207.112,888.345 232.859,888.345 \n",
       "  \"/>\n",
       "<polyline clip-path=\"url(#clip580)\" style=\"stroke:#000000; stroke-width:4; stroke-opacity:1; fill:none\" points=\"\n",
       "  207.112,621.522 232.859,621.522 \n",
       "  \"/>\n",
       "<polyline clip-path=\"url(#clip580)\" style=\"stroke:#000000; stroke-width:4; stroke-opacity:1; fill:none\" points=\"\n",
       "  207.112,354.699 232.859,354.699 \n",
       "  \"/>\n",
       "<path clip-path=\"url(#clip580)\" d=\"M 0 0 M114.607 1155.62 L144.283 1155.62 L144.283 1159.55 L114.607 1159.55 L114.607 1155.62 Z\" fill=\"#000000\" fill-rule=\"evenodd\" fill-opacity=\"1\" /><path clip-path=\"url(#clip580)\" d=\"M 0 0 M149.491 1171.73 L149.491 1167.47 Q151.251 1168.3 153.056 1168.74 Q154.862 1169.18 156.598 1169.18 Q161.227 1169.18 163.658 1166.08 Q166.112 1162.96 166.459 1156.61 Q165.116 1158.61 163.056 1159.67 Q160.996 1160.74 158.496 1160.74 Q153.311 1160.74 150.278 1157.61 Q147.269 1154.46 147.269 1149.02 Q147.269 1143.7 150.417 1140.48 Q153.566 1137.26 158.797 1137.26 Q164.792 1137.26 167.94 1141.87 Q171.112 1146.45 171.112 1155.2 Q171.112 1163.37 167.223 1168.26 Q163.357 1173.12 156.806 1173.12 Q155.047 1173.12 153.241 1172.77 Q151.436 1172.43 149.491 1171.73 M158.797 1157.08 Q161.945 1157.08 163.774 1154.93 Q165.626 1152.77 165.626 1149.02 Q165.626 1145.3 163.774 1143.14 Q161.945 1140.97 158.797 1140.97 Q155.649 1140.97 153.797 1143.14 Q151.968 1145.3 151.968 1149.02 Q151.968 1152.77 153.797 1154.93 Q155.649 1157.08 158.797 1157.08 Z\" fill=\"#000000\" fill-rule=\"evenodd\" fill-opacity=\"1\" /><path clip-path=\"url(#clip580)\" d=\"M 0 0 M114.26 888.796 L143.936 888.796 L143.936 892.732 L114.26 892.732 L114.26 888.796 Z\" fill=\"#000000\" fill-rule=\"evenodd\" fill-opacity=\"1\" /><path clip-path=\"url(#clip580)\" d=\"M 0 0 M159.584 886.482 Q156.436 886.482 154.584 888.634 Q152.755 890.787 152.755 894.537 Q152.755 898.264 154.584 900.44 Q156.436 902.593 159.584 902.593 Q162.732 902.593 164.561 900.44 Q166.413 898.264 166.413 894.537 Q166.413 890.787 164.561 888.634 Q162.732 886.482 159.584 886.482 M168.866 871.829 L168.866 876.088 Q167.107 875.255 165.302 874.815 Q163.519 874.375 161.76 874.375 Q157.13 874.375 154.677 877.5 Q152.246 880.625 151.899 886.945 Q153.265 884.931 155.325 883.866 Q157.385 882.778 159.862 882.778 Q165.07 882.778 168.079 885.949 Q171.112 889.097 171.112 894.537 Q171.112 899.861 167.964 903.079 Q164.815 906.296 159.584 906.296 Q153.589 906.296 150.417 901.713 Q147.246 897.107 147.246 888.38 Q147.246 880.185 151.135 875.324 Q155.024 870.44 161.575 870.44 Q163.334 870.44 165.116 870.787 Q166.922 871.134 168.866 871.829 Z\" fill=\"#000000\" fill-rule=\"evenodd\" fill-opacity=\"1\" /><path clip-path=\"url(#clip580)\" d=\"M 0 0 M115.07 621.973 L144.746 621.973 L144.746 625.908 L115.07 625.908 L115.07 621.973 Z\" fill=\"#000000\" fill-rule=\"evenodd\" fill-opacity=\"1\" /><path clip-path=\"url(#clip580)\" d=\"M 0 0 M163.982 620.168 Q167.339 620.885 169.214 623.154 Q171.112 625.422 171.112 628.756 Q171.112 633.871 167.593 636.672 Q164.075 639.473 157.593 639.473 Q155.417 639.473 153.103 639.033 Q150.811 638.617 148.357 637.76 L148.357 633.246 Q150.302 634.381 152.616 634.959 Q154.931 635.538 157.454 635.538 Q161.852 635.538 164.144 633.802 Q166.459 632.066 166.459 628.756 Q166.459 625.7 164.306 623.987 Q162.177 622.251 158.357 622.251 L154.329 622.251 L154.329 618.408 L158.542 618.408 Q161.991 618.408 163.82 617.043 Q165.649 615.654 165.649 613.061 Q165.649 610.399 163.751 608.987 Q161.876 607.552 158.357 607.552 Q156.436 607.552 154.237 607.969 Q152.038 608.385 149.399 609.265 L149.399 605.098 Q152.061 604.358 154.376 603.987 Q156.714 603.617 158.774 603.617 Q164.098 603.617 167.2 606.047 Q170.302 608.455 170.302 612.575 Q170.302 615.445 168.658 617.436 Q167.015 619.404 163.982 620.168 Z\" fill=\"#000000\" fill-rule=\"evenodd\" fill-opacity=\"1\" /><path clip-path=\"url(#clip580)\" d=\"M 0 0 M159.167 340.497 Q155.556 340.497 153.728 344.062 Q151.922 347.604 151.922 354.733 Q151.922 361.84 153.728 365.405 Q155.556 368.946 159.167 368.946 Q162.802 368.946 164.607 365.405 Q166.436 361.84 166.436 354.733 Q166.436 347.604 164.607 344.062 Q162.802 340.497 159.167 340.497 M159.167 336.794 Q164.977 336.794 168.033 341.4 Q171.112 345.983 171.112 354.733 Q171.112 363.46 168.033 368.067 Q164.977 372.65 159.167 372.65 Q153.357 372.65 150.278 368.067 Q147.223 363.46 147.223 354.733 Q147.223 345.983 150.278 341.4 Q153.357 336.794 159.167 336.794 Z\" fill=\"#000000\" fill-rule=\"evenodd\" fill-opacity=\"1\" /><path clip-path=\"url(#clip580)\" d=\"M 0 0 M40.4842 843.78 L40.4842 813.734 L45.895 813.734 L45.895 837.35 L59.9632 837.35 L59.9632 814.72 L65.3741 814.72 L65.3741 837.35 L82.5933 837.35 L82.5933 813.161 L88.0042 813.161 L88.0042 843.78 L40.4842 843.78 Z\" fill=\"#000000\" fill-rule=\"evenodd\" fill-opacity=\"1\" /><path clip-path=\"url(#clip580)\" d=\"M 0 0 M40.4842 806.763 L40.4842 800.334 L82.5933 800.334 L82.5933 777.194 L88.0042 777.194 L88.0042 806.763 L40.4842 806.763 Z\" fill=\"#000000\" fill-rule=\"evenodd\" fill-opacity=\"1\" /><path clip-path=\"url(#clip580)\" d=\"M 0 0 M65.3104 764.368 L82.7206 764.368 L82.7206 754.055 Q82.7206 748.867 80.5881 746.384 Q78.4238 743.87 73.9996 743.87 Q69.5436 743.87 67.4429 746.384 Q65.3104 748.867 65.3104 754.055 L65.3104 764.368 M45.7677 764.368 L60.0905 764.368 L60.0905 754.851 Q60.0905 750.14 58.34 747.849 Q56.5576 745.525 52.9291 745.525 Q49.3325 745.525 47.5501 747.849 Q45.7677 750.14 45.7677 754.851 L45.7677 764.368 M40.4842 770.797 L40.4842 754.373 Q40.4842 747.021 43.5397 743.042 Q46.5952 739.064 52.2289 739.064 Q56.5894 739.064 59.1675 741.101 Q61.7456 743.138 62.3822 747.085 Q63.4007 742.342 66.6472 739.732 Q69.8619 737.091 74.6998 737.091 Q81.0655 737.091 84.5348 741.419 Q88.0042 745.748 88.0042 753.737 L88.0042 770.797 L40.4842 770.797 Z\" fill=\"#000000\" fill-rule=\"evenodd\" fill-opacity=\"1\" /><path clip-path=\"url(#clip580)\" d=\"M 0 0 M44.8447 712.551 Q44.8447 719.553 50.0645 723.691 Q55.2844 727.797 64.2919 727.797 Q73.2675 727.797 78.4874 723.691 Q83.7073 719.553 83.7073 712.551 Q83.7073 705.548 78.4874 701.474 Q73.2675 697.368 64.2919 697.368 Q55.2844 697.368 50.0645 701.474 Q44.8447 705.548 44.8447 712.551 M39.6248 712.551 Q39.6248 702.557 46.3406 696.573 Q53.0246 690.589 64.2919 690.589 Q75.5274 690.589 82.2432 696.573 Q88.9272 702.557 88.9272 712.551 Q88.9272 722.577 82.2432 728.592 Q75.5592 734.576 64.2919 734.576 Q53.0246 734.576 46.3406 728.592 Q39.6248 722.577 39.6248 712.551 Z\" fill=\"#000000\" fill-rule=\"evenodd\" fill-opacity=\"1\" /><path clip-path=\"url(#clip580)\" d=\"M 0 0 M1023.63 12.096 L1074.8 12.096 L1074.8 18.9825 L1053.33 18.9825 L1053.33 72.576 L1045.1 72.576 L1045.1 18.9825 L1023.63 18.9825 L1023.63 12.096 Z\" fill=\"#000000\" fill-rule=\"evenodd\" fill-opacity=\"1\" /><path clip-path=\"url(#clip580)\" d=\"M 0 0 M1096.71 34.1734 Q1095.46 33.4443 1093.96 33.1202 Q1092.5 32.7556 1090.72 32.7556 Q1084.4 32.7556 1080.99 36.8875 Q1077.63 40.9789 1077.63 48.6757 L1077.63 72.576 L1070.14 72.576 L1070.14 27.2059 L1077.63 27.2059 L1077.63 34.2544 Q1079.98 30.1225 1083.75 28.1376 Q1087.52 26.1121 1092.9 26.1121 Q1093.67 26.1121 1094.6 26.2337 Q1095.54 26.3147 1096.67 26.5172 L1096.71 34.1734 Z\" fill=\"#000000\" fill-rule=\"evenodd\" fill-opacity=\"1\" /><path clip-path=\"url(#clip580)\" d=\"M 0 0 M1125.15 49.7694 Q1116.12 49.7694 1112.63 51.8354 Q1109.15 53.9013 1109.15 58.8839 Q1109.15 62.8538 1111.74 65.2034 Q1114.37 67.5124 1118.87 67.5124 Q1125.07 67.5124 1128.79 63.1374 Q1132.56 58.7219 1132.56 51.4303 L1132.56 49.7694 L1125.15 49.7694 M1140.02 46.6907 L1140.02 72.576 L1132.56 72.576 L1132.56 65.6895 Q1130.01 69.8214 1126.2 71.8063 Q1122.39 73.7508 1116.88 73.7508 Q1109.92 73.7508 1105.79 69.8619 Q1101.69 65.9325 1101.69 59.3701 Q1101.69 51.7138 1106.8 47.825 Q1111.94 43.9361 1122.11 43.9361 L1132.56 43.9361 L1132.56 43.2069 Q1132.56 38.0623 1129.16 35.2672 Q1125.8 32.4315 1119.68 32.4315 Q1115.79 32.4315 1112.1 33.3632 Q1108.42 34.295 1105.02 36.1584 L1105.02 29.2718 Q1109.11 27.692 1112.96 26.9223 Q1116.8 26.1121 1120.45 26.1121 Q1130.29 26.1121 1135.15 31.2163 Q1140.02 36.3204 1140.02 46.6907 Z\" fill=\"#000000\" fill-rule=\"evenodd\" fill-opacity=\"1\" /><path clip-path=\"url(#clip580)\" d=\"M 0 0 M1147.83 27.2059 L1155.29 27.2059 L1155.29 72.576 L1147.83 72.576 L1147.83 27.2059 M1147.83 9.54393 L1155.29 9.54393 L1155.29 18.9825 L1147.83 18.9825 L1147.83 9.54393 Z\" fill=\"#000000\" fill-rule=\"evenodd\" fill-opacity=\"1\" /><path clip-path=\"url(#clip580)\" d=\"M 0 0 M1200.82 45.1919 L1200.82 72.576 L1193.37 72.576 L1193.37 45.4349 Q1193.37 38.994 1190.85 35.7938 Q1188.34 32.5936 1183.32 32.5936 Q1177.28 32.5936 1173.8 36.4419 Q1170.32 40.2903 1170.32 46.9338 L1170.32 72.576 L1162.82 72.576 L1162.82 27.2059 L1170.32 27.2059 L1170.32 34.2544 Q1172.99 30.163 1176.6 28.1376 Q1180.24 26.1121 1184.98 26.1121 Q1192.8 26.1121 1196.81 30.9732 Q1200.82 35.7938 1200.82 45.1919 Z\" fill=\"#000000\" fill-rule=\"evenodd\" fill-opacity=\"1\" /><path clip-path=\"url(#clip580)\" d=\"M 0 0 M1208.64 27.2059 L1216.09 27.2059 L1216.09 72.576 L1208.64 72.576 L1208.64 27.2059 M1208.64 9.54393 L1216.09 9.54393 L1216.09 18.9825 L1208.64 18.9825 L1208.64 9.54393 Z\" fill=\"#000000\" fill-rule=\"evenodd\" fill-opacity=\"1\" /><path clip-path=\"url(#clip580)\" d=\"M 0 0 M1261.62 45.1919 L1261.62 72.576 L1254.17 72.576 L1254.17 45.4349 Q1254.17 38.994 1251.66 35.7938 Q1249.15 32.5936 1244.12 32.5936 Q1238.09 32.5936 1234.6 36.4419 Q1231.12 40.2903 1231.12 46.9338 L1231.12 72.576 L1223.63 72.576 L1223.63 27.2059 L1231.12 27.2059 L1231.12 34.2544 Q1233.79 30.163 1237.4 28.1376 Q1241.05 26.1121 1245.78 26.1121 Q1253.6 26.1121 1257.61 30.9732 Q1261.62 35.7938 1261.62 45.1919 Z\" fill=\"#000000\" fill-rule=\"evenodd\" fill-opacity=\"1\" /><path clip-path=\"url(#clip580)\" d=\"M 0 0 M1299.3 49.3643 Q1299.3 41.2625 1295.93 36.8065 Q1292.61 32.3505 1286.58 32.3505 Q1280.58 32.3505 1277.22 36.8065 Q1273.9 41.2625 1273.9 49.3643 Q1273.9 57.4256 1277.22 61.8816 Q1280.58 66.3376 1286.58 66.3376 Q1292.61 66.3376 1295.93 61.8816 Q1299.3 57.4256 1299.3 49.3643 M1306.75 66.9452 Q1306.75 78.5308 1301.61 84.1616 Q1296.46 89.8329 1285.85 89.8329 Q1281.92 89.8329 1278.43 89.2252 Q1274.95 88.6581 1271.67 87.4428 L1271.67 80.1917 Q1274.95 81.9741 1278.15 82.8248 Q1281.35 83.6755 1284.67 83.6755 Q1292.01 83.6755 1295.65 79.8271 Q1299.3 76.0193 1299.3 68.282 L1299.3 64.5957 Q1296.99 68.6061 1293.38 70.5911 Q1289.78 72.576 1284.75 72.576 Q1276.41 72.576 1271.31 66.2161 Q1266.2 59.8562 1266.2 49.3643 Q1266.2 38.832 1271.31 32.472 Q1276.41 26.1121 1284.75 26.1121 Q1289.78 26.1121 1293.38 28.0971 Q1296.99 30.082 1299.3 34.0924 L1299.3 27.2059 L1306.75 27.2059 L1306.75 66.9452 Z\" fill=\"#000000\" fill-rule=\"evenodd\" fill-opacity=\"1\" /><path clip-path=\"url(#clip580)\" d=\"M 0 0 M1341.26 12.096 L1379.51 12.096 L1379.51 18.9825 L1349.45 18.9825 L1349.45 36.8875 L1378.25 36.8875 L1378.25 43.7741 L1349.45 43.7741 L1349.45 65.6895 L1380.23 65.6895 L1380.23 72.576 L1341.26 72.576 L1341.26 12.096 Z\" fill=\"#000000\" fill-rule=\"evenodd\" fill-opacity=\"1\" /><path clip-path=\"url(#clip580)\" d=\"M 0 0 M1388.38 12.096 L1396.56 12.096 L1396.56 65.6895 L1426.01 65.6895 L1426.01 72.576 L1388.38 72.576 L1388.38 12.096 Z\" fill=\"#000000\" fill-rule=\"evenodd\" fill-opacity=\"1\" /><path clip-path=\"url(#clip580)\" d=\"M 0 0 M1442.33 43.6931 L1442.33 65.8515 L1455.46 65.8515 Q1462.06 65.8515 1465.22 63.1374 Q1468.42 60.3828 1468.42 54.752 Q1468.42 49.0808 1465.22 46.4072 Q1462.06 43.6931 1455.46 43.6931 L1442.33 43.6931 M1442.33 18.8205 L1442.33 37.0496 L1454.45 37.0496 Q1460.44 37.0496 1463.36 34.8216 Q1466.32 32.5531 1466.32 27.935 Q1466.32 23.3575 1463.36 21.089 Q1460.44 18.8205 1454.45 18.8205 L1442.33 18.8205 M1434.15 12.096 L1455.05 12.096 Q1464.41 12.096 1469.48 15.9849 Q1474.54 19.8737 1474.54 27.0438 Q1474.54 32.5936 1471.95 35.8748 Q1469.35 39.156 1464.33 39.9662 Q1470.37 41.2625 1473.69 45.3944 Q1477.05 49.4858 1477.05 55.6432 Q1477.05 63.745 1471.54 68.1605 Q1466.03 72.576 1455.86 72.576 L1434.15 72.576 L1434.15 12.096 Z\" fill=\"#000000\" fill-rule=\"evenodd\" fill-opacity=\"1\" /><path clip-path=\"url(#clip580)\" d=\"M 0 0 M1508.28 17.6457 Q1499.37 17.6457 1494.11 24.2892 Q1488.88 30.9327 1488.88 42.3968 Q1488.88 53.8203 1494.11 60.4638 Q1499.37 67.1073 1508.28 67.1073 Q1517.2 67.1073 1522.38 60.4638 Q1527.61 53.8203 1527.61 42.3968 Q1527.61 30.9327 1522.38 24.2892 Q1517.2 17.6457 1508.28 17.6457 M1508.28 11.0023 Q1521 11.0023 1528.62 19.5497 Q1536.23 28.0566 1536.23 42.3968 Q1536.23 56.6965 1528.62 65.2439 Q1521 73.7508 1508.28 73.7508 Q1495.52 73.7508 1487.87 65.2439 Q1480.25 56.737 1480.25 42.3968 Q1480.25 28.0566 1487.87 19.5497 Q1495.52 11.0023 1508.28 11.0023 Z\" fill=\"#000000\" fill-rule=\"evenodd\" fill-opacity=\"1\" /><polyline clip-path=\"url(#clip582)\" style=\"stroke:#009af9; stroke-width:4; stroke-opacity:1; fill:none\" points=\"\n",
       "  267.837,190.474 269.864,686.179 271.89,498.866 273.916,563.878 275.942,1057.87 277.969,614.129 279.995,1374.46 282.021,497.915 284.047,442.982 286.073,376.546 \n",
       "  288.1,159.909 290.126,640.463 292.152,351.222 294.178,484.664 296.205,516.301 298.231,524.215 300.257,377.399 302.283,521.107 304.309,425.309 306.336,191.004 \n",
       "  308.362,607.87 310.388,371.165 312.414,490.081 314.441,489.497 316.467,431.403 318.493,593.533 320.519,355.953 322.545,324.885 324.572,487.54 326.598,399.907 \n",
       "  328.624,384.052 330.65,496.424 332.676,394.48 334.703,228.398 336.729,789.503 338.755,470.108 340.781,337.142 342.808,461.592 344.834,294.915 346.86,478.031 \n",
       "  348.886,451.159 350.912,416.086 352.939,737.93 354.965,417.783 356.991,413.964 359.017,400.52 361.044,521.995 363.07,417.727 365.096,391.434 367.122,377.158 \n",
       "  369.148,282.281 371.175,473.731 373.201,436.057 375.227,359.892 377.253,349.326 379.28,371.9 381.306,434.5 383.332,451.53 385.358,501.077 387.384,602.22 \n",
       "  389.411,444.411 391.437,399.335 393.463,410.891 395.489,391.348 397.515,413.479 399.542,380.236 401.568,381.47 403.594,238.214 405.62,425.011 407.647,312.31 \n",
       "  409.673,351.69 411.699,206.38 413.725,419.223 415.751,319.994 417.778,443.239 419.804,202.809 421.83,414.904 423.856,491.887 425.883,375.375 427.909,371.752 \n",
       "  429.935,376.231 431.961,353.311 433.987,358.823 436.014,415.177 438.04,340.94 440.066,314.66 442.092,430.601 444.119,372.592 446.145,401.225 448.171,236.078 \n",
       "  450.197,423.227 452.223,351.074 454.25,340.059 456.276,355.918 458.302,376.624 460.328,392.955 462.354,427.712 464.381,362.526 466.407,240.782 468.433,415.209 \n",
       "  470.459,376.387 472.486,488.993 474.512,413.636 476.538,300.272 478.564,345.863 480.59,376.256 482.617,324.756 484.643,367.906 486.669,430.975 488.695,389.537 \n",
       "  490.722,359.285 492.748,450.98 494.774,379.727 496.8,425.545 498.826,347.611 500.853,393.552 502.879,431.627 504.905,344.759 506.931,393.906 508.958,349.31 \n",
       "  510.984,415.703 513.01,372.736 515.036,361.935 517.062,394.59 519.089,369.965 521.115,312.195 523.141,398.939 525.167,340.643 527.193,353.65 529.22,338.283 \n",
       "  531.246,360.628 533.272,325.896 535.298,393.632 537.325,357.206 539.351,306.562 541.377,404.509 543.403,362.273 545.429,329.175 547.456,332.359 549.482,350.786 \n",
       "  551.508,309.77 553.534,376.5 555.561,408.278 557.587,320.828 559.613,370.981 561.639,425.076 563.665,433.599 565.692,321.968 567.718,389.649 569.744,415.072 \n",
       "  571.77,278.465 573.797,324.768 575.823,356.384 577.849,399.177 579.875,346.108 581.901,382.684 583.928,301.976 585.954,401.395 587.98,338.238 590.006,445.596 \n",
       "  592.033,382.008 594.059,380.506 596.085,329.827 598.111,335.95 600.137,315.313 602.164,492.61 604.19,370.495 606.216,371.352 608.242,402.598 610.268,422.671 \n",
       "  612.295,363.716 614.321,416.345 616.347,362.034 618.373,407.656 620.4,333.722 622.426,346.608 624.452,442.418 626.478,335.95 628.504,364.813 630.531,360.819 \n",
       "  632.557,530.477 634.583,391.419 636.609,397.912 638.636,416.601 640.662,341.984 642.688,273.293 644.714,410.93 646.74,329.212 648.767,371.146 650.793,380.97 \n",
       "  652.819,371.497 654.845,334.539 656.872,367.337 658.898,352.561 660.924,337.445 662.95,389.778 664.976,342.087 667.003,373.894 669.029,370.675 671.055,329.244 \n",
       "  673.081,316.809 675.107,387.471 677.134,445.028 679.16,412.249 681.186,417.025 683.212,339.255 685.239,474.401 687.265,361.992 689.291,338.082 691.317,335.088 \n",
       "  693.343,366.259 695.37,348.567 697.396,304.938 699.422,371.713 701.448,331.867 703.475,348.947 705.501,439.66 707.527,443.229 709.553,330.709 711.579,361.465 \n",
       "  713.606,407.287 715.632,435.127 717.658,371.589 719.684,346.899 721.711,352.01 723.737,379.284 725.763,449.148 727.789,343.712 729.815,380.989 731.842,342.972 \n",
       "  733.868,405.153 735.894,395.658 737.92,411.454 739.946,478.212 741.973,381.858 743.999,372.839 746.025,359.922 748.051,326.955 750.078,356.535 752.104,424.423 \n",
       "  754.13,363.808 756.156,396.038 758.182,321.401 760.209,349.718 762.235,383.722 764.261,332.519 766.287,371.279 768.314,348.878 770.34,390.64 772.366,369.111 \n",
       "  774.392,443.319 776.418,326.044 778.445,390.879 780.471,359.279 782.497,353.06 784.523,341.916 786.55,343.477 788.576,357.272 790.602,360.439 792.628,346.04 \n",
       "  794.654,374.641 796.681,358.632 798.707,378.705 800.733,364.014 802.759,355.429 804.785,350.436 806.812,369.46 808.838,316.447 810.864,353.061 812.89,326.309 \n",
       "  814.917,468.988 816.943,365.395 818.969,338.09 820.995,356.467 823.021,348.672 825.048,355.621 827.074,401.671 829.1,360.959 831.126,365.406 833.153,310.6 \n",
       "  835.179,404.851 837.205,377.644 839.231,372.945 841.257,330.731 843.284,406.863 845.31,376.167 847.336,368.479 849.362,442.104 851.389,359.355 853.415,440.201 \n",
       "  855.441,326.572 857.467,379.444 859.493,341.06 861.52,357.669 863.546,405.148 865.572,368.594 867.598,350.572 869.624,409.934 871.651,277.018 873.677,354.669 \n",
       "  875.703,355.735 877.729,404.438 879.756,328.349 881.782,390.429 883.808,348.282 885.834,356.352 887.86,338.418 889.887,359.042 891.913,423.42 893.939,382.212 \n",
       "  895.965,402.304 897.992,363.089 900.018,392.601 902.044,368.876 904.07,350.385 906.096,353.863 908.123,370.451 910.149,358.525 912.175,357.808 914.201,376.801 \n",
       "  916.228,349.68 918.254,325.047 920.28,348.095 922.306,377.249 924.332,328.987 926.359,372.48 928.385,369.711 930.411,389.712 932.437,322.982 934.463,370.061 \n",
       "  936.49,294.251 938.516,321.877 940.542,312.4 942.568,337.875 944.595,432.067 946.621,355.367 948.647,379.336 950.673,370.452 952.699,357.826 954.726,345.857 \n",
       "  956.752,371.723 958.778,362.264 960.804,363.18 962.831,356.244 964.857,386.185 966.883,378.506 968.909,311.445 970.935,419.099 972.962,315.735 974.988,379.842 \n",
       "  977.014,357.472 979.04,326.693 981.067,385.159 983.093,347.288 985.119,340.75 987.145,296.465 989.171,301.69 991.198,550.628 993.224,344.277 995.25,470.884 \n",
       "  997.276,384.597 999.302,341.413 1001.33,328.85 1003.35,381.074 1005.38,379.407 1007.41,357.519 1009.43,383.168 1011.46,403.014 1013.49,310.396 1015.51,360.874 \n",
       "  1017.54,357.448 1019.56,364.42 1021.59,337.977 1023.62,350.52 1025.64,342.011 1027.67,368.686 1029.7,326.226 1031.72,324.185 1033.75,396.716 1035.77,355.222 \n",
       "  1037.8,371.263 1039.83,408.312 1041.85,334.18 1043.88,303.238 1045.91,343.94 1047.93,363.918 1049.96,331.56 1051.98,330.742 1054.01,385.175 1056.04,317.741 \n",
       "  1058.06,335.168 1060.09,368.094 1062.12,346.209 1064.14,310.099 1066.17,315.505 1068.19,373.033 1070.22,389.848 1072.25,350.328 1074.27,325.98 1076.3,405.172 \n",
       "  1078.33,358.362 1080.35,343.692 1082.38,392.769 1084.4,448.967 1086.43,357.659 1088.46,314.076 1090.48,358.46 1092.51,331.755 1094.53,365.71 1096.56,349.615 \n",
       "  1098.59,346.984 1100.61,379.673 1102.64,378.16 1104.67,422.206 1106.69,369.285 1108.72,404.621 1110.74,361.249 1112.77,353.788 1114.8,334.586 1116.82,368.627 \n",
       "  1118.85,370.409 1120.88,402.869 1122.9,352.809 1124.93,393.429 1126.95,369.484 1128.98,333.539 1131.01,346.392 1133.03,324.482 1135.06,393.365 1137.09,342.569 \n",
       "  1139.11,325.947 1141.14,346.348 1143.16,349.641 1145.19,396.654 1147.22,399.184 1149.24,321.352 1151.27,358.939 1153.3,311.831 1155.32,367.814 1157.35,398.73 \n",
       "  1159.37,370.913 1161.4,351.115 1163.43,408.778 1165.45,372.996 1167.48,299.579 1169.5,323.983 1171.53,391.43 1173.56,352.961 1175.58,465.971 1177.61,353.676 \n",
       "  1179.64,371.205 1181.66,347.966 1183.69,376.348 1185.71,339.808 1187.74,318.139 1189.77,367.486 1191.79,371.099 1193.82,393.593 1195.85,322.253 1197.87,397.737 \n",
       "  1199.9,344.726 1201.92,340.704 1203.95,420.568 1205.98,350.874 1208,345.116 1210.03,418.494 1212.06,338.975 1214.08,346.098 1216.11,316.586 1218.13,365.726 \n",
       "  1220.16,335.3 1222.19,347.882 1224.21,355.957 1226.24,399.13 1228.27,352.561 1230.29,361.946 1232.32,324.308 1234.34,386.734 1236.37,341.558 1238.4,317.21 \n",
       "  1240.42,326.011 1242.45,359.266 1244.47,341.325 1246.5,330.996 1248.53,365.972 1250.55,326.93 1252.58,383.452 1254.61,329.129 1256.63,387.277 1258.66,359.653 \n",
       "  1260.68,323.86 1262.71,280.744 1264.74,351.916 1266.76,347.558 1268.79,394.572 1270.82,391.812 1272.84,391.046 1274.87,308.694 1276.89,375.591 1278.92,402.432 \n",
       "  1280.95,340.195 1282.97,326.927 1285,361.294 1287.03,326.821 1289.05,287.341 1291.08,302.867 1293.1,371.022 1295.13,344.226 1297.16,391.251 1299.18,377.855 \n",
       "  1301.21,339.924 1303.24,388.873 1305.26,382.478 1307.29,342.502 1309.31,338.26 1311.34,341.479 1313.37,412.943 1315.39,379.133 1317.42,380.603 1319.45,397.512 \n",
       "  1321.47,330.622 1323.5,345.391 1325.52,359.494 1327.55,370.036 1329.58,354.061 1331.6,362.216 1333.63,386.486 1335.65,365.987 1337.68,414.741 1339.71,323.929 \n",
       "  1341.73,381.87 1343.76,340.032 1345.79,355.239 1347.81,332.515 1349.84,330.242 1351.86,344.857 1353.89,374.786 1355.92,365.611 1357.94,305.035 1359.97,443.633 \n",
       "  1362,312.705 1364.02,360.016 1366.05,410.428 1368.07,374.845 1370.1,314.298 1372.13,376.795 1374.15,318.152 1376.18,332.902 1378.21,348.442 1380.23,407.5 \n",
       "  1382.26,431.637 1384.28,457.788 1386.31,339.684 1388.34,349.766 1390.36,413.832 1392.39,315.349 1394.42,264.874 1396.44,445.747 1398.47,356.451 1400.49,377.986 \n",
       "  1402.52,421.673 1404.55,345.056 1406.57,359.51 1408.6,354.039 1410.62,369.474 1412.65,371.166 1414.68,389.684 1416.7,333.547 1418.73,341.518 1420.76,379.723 \n",
       "  1422.78,391.55 1424.81,354.538 1426.83,325.933 1428.86,348.338 1430.89,396.045 1432.91,338.978 1434.94,415.286 1436.97,331.319 1438.99,447.548 1441.02,437.336 \n",
       "  1443.04,345.156 1445.07,366.105 1447.1,333.664 1449.12,367.409 1451.15,349.603 1453.18,350.829 1455.2,385.964 1457.23,327.948 1459.25,359.545 1461.28,395.067 \n",
       "  1463.31,369.255 1465.33,356.47 1467.36,341.834 1469.39,354.866 1471.41,374.095 1473.44,331.896 1475.46,402.508 1477.49,354.005 1479.52,336.435 1481.54,346.63 \n",
       "  1483.57,383.763 1485.6,472.423 1487.62,413.38 1489.65,318.67 1491.67,357.315 1493.7,358.96 1495.73,333.617 1497.75,362.541 1499.78,341.817 1501.8,365.422 \n",
       "  1503.83,316.871 1505.86,326.004 1507.88,345.179 1509.91,344.926 1511.94,351.462 1513.96,311.41 1515.99,407.894 1518.01,370.582 1520.04,389.164 1522.07,324.535 \n",
       "  1524.09,333.609 1526.12,361.657 1528.15,363.392 1530.17,336.854 1532.2,364.827 1534.22,350.193 1536.25,361.603 1538.28,361.474 1540.3,391.011 1542.33,316.261 \n",
       "  1544.36,378.451 1546.38,332.525 1548.41,375.635 1550.43,336.28 1552.46,354.721 1554.49,373.17 1556.51,330.233 1558.54,341.063 1560.57,339.209 1562.59,354.614 \n",
       "  1564.62,346.711 1566.64,362.005 1568.67,406.105 1570.7,407.355 1572.72,311.886 1574.75,362.793 1576.77,350.276 1578.8,375.908 1580.83,347.101 1582.85,360.422 \n",
       "  1584.88,342.41 1586.91,340.785 1588.93,378.792 1590.96,339.78 1592.98,332.414 1595.01,352.65 1597.04,446.18 1599.06,360.672 1601.09,359.693 1603.12,446.982 \n",
       "  1605.14,378.362 1607.17,375.797 1609.19,315.806 1611.22,356.535 1613.25,421.984 1615.27,385.672 1617.3,433.145 1619.33,390.924 1621.35,378.022 1623.38,339.05 \n",
       "  1625.4,406.531 1627.43,389.002 1629.46,319.457 1631.48,324.01 1633.51,427.883 1635.54,364.198 1637.56,394.85 1639.59,330.746 1641.61,346.253 1643.64,338.073 \n",
       "  1645.67,318.764 1647.69,364.13 1649.72,397.426 1651.74,354.242 1653.77,330.073 1655.8,339.46 1657.82,346.857 1659.85,366.313 1661.88,356.818 1663.9,313.63 \n",
       "  1665.93,347.737 1667.95,422.591 1669.98,362.575 1672.01,352.266 1674.03,366.511 1676.06,328.778 1678.09,354.779 1680.11,340.842 1682.14,352.981 1684.16,378.481 \n",
       "  1686.19,380.844 1688.22,355.728 1690.24,366.22 1692.27,330.443 1694.3,352.763 1696.32,343.438 1698.35,368.735 1700.37,352.559 1702.4,328.272 1704.43,363.433 \n",
       "  1706.45,378.869 1708.48,380.669 1710.51,344.429 1712.53,380.925 1714.56,370.457 1716.58,370.719 1718.61,458.036 1720.64,404.653 1722.66,367.507 1724.69,386.452 \n",
       "  1726.72,355.098 1728.74,342.19 1730.77,407.209 1732.79,332.535 1734.82,414.274 1736.85,401.687 1738.87,366.385 1740.9,432.806 1742.92,399.483 1744.95,357.462 \n",
       "  1746.98,355.856 1749,401.003 1751.03,403.006 1753.06,339.773 1755.08,352.688 1757.11,342.282 1759.13,389.926 1761.16,336.679 1763.19,337.732 1765.21,330.244 \n",
       "  1767.24,367.302 1769.27,372.455 1771.29,396.867 1773.32,313.872 1775.34,351.916 1777.37,368.497 1779.4,330.101 1781.42,348.912 1783.45,363.38 1785.48,393.423 \n",
       "  1787.5,432.304 1789.53,323.728 1791.55,366.633 1793.58,346.759 1795.61,343.127 1797.63,378.21 1799.66,334.101 1801.69,324.889 1803.71,336.665 1805.74,306.852 \n",
       "  1807.76,411.874 1809.79,372.071 1811.82,360.973 1813.84,375.392 1815.87,350.585 1817.89,362.752 1819.92,367.148 1821.95,411.003 1823.97,348.469 1826,343.884 \n",
       "  1828.03,399.677 1830.05,373.569 1832.08,397.454 1834.1,335.637 1836.13,359.047 1838.16,324.29 1840.18,325.618 1842.21,366.866 1844.24,349.297 1846.26,325.559 \n",
       "  1848.29,464.603 1850.31,379.299 1852.34,357.848 1854.37,351.313 1856.39,378.682 1858.42,378.78 1860.45,393.482 1862.47,328.921 1864.5,344.003 1866.52,383.124 \n",
       "  1868.55,368.216 1870.58,350.626 1872.6,335.875 1874.63,357.141 1876.66,369.8 1878.68,356.715 1880.71,408.879 1882.73,343.498 1884.76,355.097 1886.79,335.103 \n",
       "  1888.81,329.482 1890.84,336.165 1892.87,355.999 1894.89,387.383 1896.92,376.822 1898.94,348.472 1900.97,394.897 1903,349.137 1905.02,342.126 1907.05,334.755 \n",
       "  1909.07,354.417 1911.1,376.503 1913.13,369.401 1915.15,368.3 1917.18,370.709 1919.21,341.942 1921.23,332.589 1923.26,378.987 1925.28,376.967 1927.31,300.775 \n",
       "  1929.34,355.647 1931.36,377.304 1933.39,357.108 1935.42,372.21 1937.44,411.199 1939.47,366.316 1941.49,409.841 1943.52,384.412 1945.55,349.041 1947.57,355.457 \n",
       "  1949.6,430.15 1951.63,334.674 1953.65,406.71 1955.68,326.798 1957.7,314.816 1959.73,424.348 1961.76,358.406 1963.78,355.348 1965.81,403.218 1967.84,370.599 \n",
       "  1969.86,333.99 1971.89,365.134 1973.91,353.613 1975.94,455.58 1977.97,393.156 1979.99,355.834 1982.02,366.581 1984.04,375.795 1986.07,385.879 1988.1,378.519 \n",
       "  1990.12,300.82 1992.15,320.421 1994.18,350.953 1996.2,377.821 1998.23,334.385 2000.25,328.819 2002.28,359.758 2004.31,332.28 2006.33,379.35 2008.36,541.85 \n",
       "  2010.39,294.147 2012.41,332.208 2014.44,349.41 2016.46,353.33 2018.49,335.913 2020.52,349.083 2022.54,349.678 2024.57,366.27 2026.6,291.594 2028.62,491.844 \n",
       "  2030.65,346.534 2032.67,416.631 2034.7,359.539 2036.73,313.483 2038.75,337.039 2040.78,346.142 2042.81,335.511 2044.83,304.741 2046.86,396.945 2048.88,418.62 \n",
       "  2050.91,382.108 2052.94,422.044 2054.96,339.997 2056.99,314.68 2059.01,331.449 2061.04,372.66 2063.07,356.016 2065.09,365.746 2067.12,361.271 2069.15,373.799 \n",
       "  2071.17,346.478 2073.2,360.683 2075.22,364.617 2077.25,339.282 2079.28,443.869 2081.3,376.525 2083.33,372.398 2085.36,420.246 2087.38,352.235 2089.41,422.455 \n",
       "  2091.43,363.977 2093.46,356.712 2095.49,371.803 2097.51,309.491 2099.54,328.9 2101.57,387.981 2103.59,393.699 2105.62,339.743 2107.64,335.909 2109.67,410.688 \n",
       "  2111.7,367.017 2113.72,351.166 2115.75,441.233 2117.78,359.852 2119.8,293.019 2121.83,351.781 2123.85,419.794 2125.88,368.432 2127.91,370.338 2129.93,359.904 \n",
       "  2131.96,423.223 2133.99,377.282 2136.01,374.259 2138.04,326.127 2140.06,426.938 2142.09,383.47 2144.12,417.821 2146.14,362.301 2148.17,378.687 2150.19,332.202 \n",
       "  2152.22,361.981 2154.25,378.572 2156.27,345.791 2158.3,377.684 2160.33,343.526 2162.35,357.675 2164.38,365.921 2166.4,417.989 2168.43,384.429 2170.46,415.579 \n",
       "  2172.48,399.728 2174.51,355.306 2176.54,326.734 2178.56,349.861 2180.59,338.058 2182.61,418.686 2184.64,378.762 2186.67,373.843 2188.69,405.998 2190.72,357.492 \n",
       "  2192.75,364.366 2194.77,351.795 2196.8,359.062 2198.82,349.266 2200.85,360.812 2202.88,348.867 2204.9,351.966 2206.93,343.56 2208.96,407.836 2210.98,371.596 \n",
       "  2213.01,394.825 2215.03,325.349 2217.06,322.653 2219.09,317.525 2221.11,380.476 2223.14,387.419 2225.16,359.037 2227.19,360.179 2229.22,396.205 2231.24,342.871 \n",
       "  2233.27,383.032 2235.3,354.17 2237.32,378.768 2239.35,393.354 2241.37,333.444 2243.4,386.927 2245.43,357.102 2247.45,383.442 2249.48,384.635 2251.51,417.902 \n",
       "  2253.53,374.21 2255.56,390.197 2257.58,358.106 2259.61,361.072 2261.64,372.605 2263.66,360.322 2265.69,378.749 2267.72,344.757 2269.74,322.306 2271.77,434.093 \n",
       "  2273.79,334.265 2275.82,355.866 2277.85,345.237 2279.87,379.871 2281.9,390.306 2283.93,340.336 2285.95,364.582 2287.98,369.152 2290,349.433 2292.03,332.281 \n",
       "  \n",
       "  \"/>\n",
       "<path clip-path=\"url(#clip580)\" d=\"\n",
       "M1991.81 287.346 L2281.23 287.346 L2281.23 166.386 L1991.81 166.386  Z\n",
       "  \" fill=\"#ffffff\" fill-rule=\"evenodd\" fill-opacity=\"1\"/>\n",
       "<polyline clip-path=\"url(#clip580)\" style=\"stroke:#000000; stroke-width:4; stroke-opacity:1; fill:none\" points=\"\n",
       "  1991.81,287.346 2281.23,287.346 2281.23,166.386 1991.81,166.386 1991.81,287.346 \n",
       "  \"/>\n",
       "<polyline clip-path=\"url(#clip580)\" style=\"stroke:#009af9; stroke-width:4; stroke-opacity:1; fill:none\" points=\"\n",
       "  2015.65,226.866 2158.69,226.866 \n",
       "  \"/>\n",
       "<path clip-path=\"url(#clip580)\" d=\"M 0 0 M2196.38 246.554 Q2194.57 251.183 2192.86 252.595 Q2191.15 254.007 2188.28 254.007 L2184.87 254.007 L2184.87 250.443 L2187.37 250.443 Q2189.13 250.443 2190.1 249.609 Q2191.08 248.776 2192.26 245.674 L2193.02 243.73 L2182.54 218.22 L2187.05 218.22 L2195.15 238.498 L2203.25 218.22 L2207.77 218.22 L2196.38 246.554 Z\" fill=\"#000000\" fill-rule=\"evenodd\" fill-opacity=\"1\" /><path clip-path=\"url(#clip580)\" d=\"M 0 0 M2213.65 240.211 L2221.28 240.211 L2221.28 213.846 L2212.97 215.512 L2212.97 211.253 L2221.24 209.586 L2225.91 209.586 L2225.91 240.211 L2233.55 240.211 L2233.55 244.146 L2213.65 244.146 L2213.65 240.211 Z\" fill=\"#000000\" fill-rule=\"evenodd\" fill-opacity=\"1\" /></svg>\n"
      ]
     },
     "execution_count": 136,
     "metadata": {},
     "output_type": "execute_result"
    }
   ],
   "source": [
    "plot(200:200:200_000, -losses, title=\"Training ELBO\", xlabel=\"Epoch\", ylabel=\"ELBO\")"
   ]
  },
  {
   "cell_type": "markdown",
   "metadata": {},
   "source": [
    "Most of the top ten trees in the sample are highly ranked in the variational distribution as well."
   ]
  },
  {
   "cell_type": "code",
   "execution_count": 137,
   "metadata": {
    "scrolled": true
   },
   "outputs": [
    {
     "data": {
      "text/html": [
       "<table class=\"data-frame\"><thead><tr><th></th><th>hash</th><th>prob_true</th><th>prob_q</th><th>rank_q</th></tr><tr><th></th><th>UInt64</th><th>Float64</th><th>Float64</th><th>Int64</th></tr></thead><tbody><p>10 rows × 4 columns</p><tr><th>1</th><td>15042891786743301983</td><td>0.0448956</td><td>0.0157675</td><td>1</td></tr><tr><th>2</th><td>1511389418650230179</td><td>0.027254</td><td>0.00872917</td><td>2</td></tr><tr><th>3</th><td>11970839676207041303</td><td>0.0272479</td><td>0.00684512</td><td>3</td></tr><tr><th>4</th><td>10413187684172510843</td><td>0.0246941</td><td>0.00653054</td><td>4</td></tr><tr><th>5</th><td>5280375419092571341</td><td>0.0246275</td><td>0.00591232</td><td>5</td></tr><tr><th>6</th><td>8051974844296862248</td><td>0.0194727</td><td>0.00346199</td><td>14</td></tr><tr><th>7</th><td>2198118317968373466</td><td>0.0170851</td><td>0.00285082</td><td>28</td></tr><tr><th>8</th><td>1581504301888698434</td><td>0.0170356</td><td>0.00312699</td><td>23</td></tr><tr><th>9</th><td>1631796177322814</td><td>0.0161698</td><td>0.00206472</td><td>69</td></tr><tr><th>10</th><td>6297653771983905397</td><td>0.0153602</td><td>0.00490301</td><td>8</td></tr></tbody></table>"
      ],
      "text/latex": [
       "\\begin{tabular}{r|cccc}\n",
       "\t& hash & prob\\_true & prob\\_q & rank\\_q\\\\\n",
       "\t\\hline\n",
       "\t& UInt64 & Float64 & Float64 & Int64\\\\\n",
       "\t\\hline\n",
       "\t1 & 15042891786743301983 & 0.0448956 & 0.0157675 & 1 \\\\\n",
       "\t2 & 1511389418650230179 & 0.027254 & 0.00872917 & 2 \\\\\n",
       "\t3 & 11970839676207041303 & 0.0272479 & 0.00684512 & 3 \\\\\n",
       "\t4 & 10413187684172510843 & 0.0246941 & 0.00653054 & 4 \\\\\n",
       "\t5 & 5280375419092571341 & 0.0246275 & 0.00591232 & 5 \\\\\n",
       "\t6 & 8051974844296862248 & 0.0194727 & 0.00346199 & 14 \\\\\n",
       "\t7 & 2198118317968373466 & 0.0170851 & 0.00285082 & 28 \\\\\n",
       "\t8 & 1581504301888698434 & 0.0170356 & 0.00312699 & 23 \\\\\n",
       "\t9 & 1631796177322814 & 0.0161698 & 0.00206472 & 69 \\\\\n",
       "\t10 & 6297653771983905397 & 0.0153602 & 0.00490301 & 8 \\\\\n",
       "\\end{tabular}\n"
      ],
      "text/plain": [
       "\u001b[1m10×4 DataFrame\u001b[0m\n",
       "\u001b[1m Row \u001b[0m│\u001b[1m hash                 \u001b[0m\u001b[1m prob_true \u001b[0m\u001b[1m prob_q     \u001b[0m\u001b[1m rank_q \u001b[0m\n",
       "\u001b[1m     \u001b[0m│\u001b[90m UInt64               \u001b[0m\u001b[90m Float64   \u001b[0m\u001b[90m Float64    \u001b[0m\u001b[90m Int64  \u001b[0m\n",
       "─────┼─────────────────────────────────────────────────────\n",
       "   1 │ 15042891786743301983  0.0448956  0.0157675        1\n",
       "   2 │  1511389418650230179  0.027254   0.00872917       2\n",
       "   3 │ 11970839676207041303  0.0272479  0.00684512       3\n",
       "   4 │ 10413187684172510843  0.0246941  0.00653054       4\n",
       "   5 │  5280375419092571341  0.0246275  0.00591232       5\n",
       "   6 │  8051974844296862248  0.0194727  0.00346199      14\n",
       "   7 │  2198118317968373466  0.0170851  0.00285082      28\n",
       "   8 │  1581504301888698434  0.0170356  0.00312699      23\n",
       "   9 │     1631796177322814  0.0161698  0.00206472      69\n",
       "  10 │  6297653771983905397  0.0153602  0.00490301       8"
      ]
     },
     "execution_count": 137,
     "metadata": {},
     "output_type": "execute_result"
    }
   ],
   "source": [
    "logq=VBPILookup.dsbn.([leaves], all_sbns, [table], [1], [length(leaves)-1])\n",
    "using DataFrames\n",
    "res_sorted_by_true = DataFrame((hash = all_sbn_hash, prob_true = all_sbn_probs, prob_q = exp.(logq))) |>\n",
    "    x -> sort(x, :prob_q, rev=true) |>\n",
    "    x -> (x.rank_q = 1:size(x, 1); x) |>\n",
    "    x -> sort(x, :prob_true, rev=true) |>\n",
    "    x -> first(x, 10) \n",
    "    "
   ]
  },
  {
   "cell_type": "markdown",
   "metadata": {},
   "source": [
    "Here, we show the probabilitity of the variational distribution plotted against the true probability (with the ideal line plotted for comparison). When looking at the highest probability trees, the approximation looks pretty good, although many trees were underfit"
   ]
  },
  {
   "cell_type": "code",
   "execution_count": 154,
   "metadata": {},
   "outputs": [
    {
     "data": {
      "image/png": "[encoded data removed]"
     },
     "metadata": {},
     "output_type": "display_data"
    },
    {
     "data": {
      "text/plain": [
       "RObject{VecSxp}\n"
      ]
     },
     "execution_count": 154,
     "metadata": {},
     "output_type": "execute_result"
    }
   ],
   "source": [
    "using RCall\n",
    "R\"\n",
    "library(tidyverse)\n",
    "compare_tbl = tibble(true=$all_sbn_probs, variational=$(exp.(logq))) %>%\n",
    "    mutate(true = ifelse(true < 1e-16, 1e-16, true), variational = ifelse(variational < 1e-16, 1e-16, variational)) %>%\n",
    "    filter(true > 1e-4)\n",
    "ggplot(compare_tbl, aes(x=true)) + \n",
    "    geom_point(aes(y=variational), color='blue') +\n",
    "    geom_line(aes(y=true), color='orange') + \n",
    "    scale_y_log10() + \n",
    "    scale_x_log10() + \n",
    "    ggtitle('True vs Variational Distribution (high-probability trees)')\n",
    "\""
   ]
  },
  {
   "cell_type": "markdown",
   "metadata": {},
   "source": [
    "On the other hand, when we look at all trees, the variational distribution does not fit low-probability trees well at all. "
   ]
  },
  {
   "cell_type": "code",
   "execution_count": 156,
   "metadata": {},
   "outputs": [
    {
     "data": {
      "image/png": "[encoded data removed]"
     },
     "metadata": {},
     "output_type": "display_data"
    },
    {
     "data": {
      "text/plain": [
       "RObject{VecSxp}\n"
      ]
     },
     "execution_count": 156,
     "metadata": {},
     "output_type": "execute_result"
    }
   ],
   "source": [
    "using RCall\n",
    "R\"\n",
    "library(tidyverse)\n",
    "compare_tbl = tibble(true=$all_sbn_probs, variational=$(exp.(logq))) %>%\n",
    "    mutate(true = ifelse(true < 1e-16, 1e-16, true), variational = ifelse(variational < 1e-16, 1e-16, variational))\n",
    "ggplot(compare_tbl, aes(x=true)) + \n",
    "    geom_point(aes(y=variational), color='blue') +\n",
    "    geom_line(aes(y=true), color='orange') + \n",
    "    scale_y_log10() + \n",
    "    scale_x_log10() + \n",
    "    ggtitle('True vs Variational Distribution (all obs)')\n",
    "\""
   ]
  },
  {
   "cell_type": "markdown",
   "metadata": {},
   "source": [
    "When comparing how the variational distribution assigns probability compared to the true distribution, we see that the variational distribution seems to correctly rank the probability of trees which are high probability, but consistently underestimates their probability. while overestimating the probability of several unlikely trees. \n",
    "\n",
    "This is likely due to the parameterization of the variational distribution. Assigning probability by clade-splits regularizes the distribution to be similar for trees that contain splits in common. However, this regularity does not exist in our synthetic distribution. Because of this, I think this synthetic distribution is actually harder to learn than a real experiment, because there is no geometric structure to the probabilities of trees. In real phylogenetic data, I suspect trees with similar clade-splits will have similar posterior probabilities.\n",
    "\n",
    "I am also surprised that Zhang and Matsen (2018a) did much better in their synthetic example. It is hard to say exactly what they did differently. For one, I did not do a proper hyperparameter search; perhaps they used a lower learning rate in the stochastic gradient descent. This is supported by the fact that their ELBO converges much more slowly."
   ]
  },
  {
   "cell_type": "markdown",
   "metadata": {},
   "source": [
    "# References"
   ]
  },
  {
   "cell_type": "markdown",
   "metadata": {},
   "source": [
    "Blei, D. M., Kucukelbir, A., & McAuliffe, J. D. (2017). Variational Inference: A Review for Statisticians. Journal of the American Statistical Association, 112(518), 859–877. https://doi.org/10.1080/01621459.2018.1285773\n",
    "\n",
    "Zhang, C., & Matsen IV, F. A. (2018a, September 27). Variational Bayesian Phylogenetic Inference. International Conference on Learning Representations. https://openreview.net/forum?id=SJVmjjR9FX\n",
    "\n",
    "Zhang, C., & Matsen IV, F. A. (2018b). Generalizing Tree Probability Estimation via Bayesian Networks. ArXiv:1805.07834 [Stat]. http://arxiv.org/abs/1805.07834"
   ]
  }
 ],
 "metadata": {
  "kernelspec": {
   "display_name": "Julia 1.5.3",
   "language": "julia",
   "name": "julia-1.5"
  },
  "language_info": {
   "file_extension": ".jl",
   "mimetype": "application/julia",
   "name": "julia",
   "version": "1.5.3"
  }
 },
 "nbformat": 4,
 "nbformat_minor": 4
}
